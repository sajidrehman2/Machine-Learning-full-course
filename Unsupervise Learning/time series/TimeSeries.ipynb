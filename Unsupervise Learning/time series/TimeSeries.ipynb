{
 "cells": [
  {
   "cell_type": "markdown",
   "id": "c3260405",
   "metadata": {},
   "source": [
    "# Time Series \n",
    "-  A time series is a collection of observations of well-defined data items obtained through repeated measurements over time. For example, measuring the value of retail sales each month of the year would comprise a time series"
   ]
  },
  {
   "cell_type": "code",
   "execution_count": 1,
   "id": "8de8fd2c",
   "metadata": {},
   "outputs": [],
   "source": [
    "import pandas as pd\n",
    "import numpy as np\n",
    "import matplotlib.pyplot as plt\n",
    "import seaborn as sns"
   ]
  },
  {
   "cell_type": "code",
   "execution_count": 2,
   "id": "2de4f7b5",
   "metadata": {},
   "outputs": [],
   "source": [
    "data=pd.read_excel(\"SaleData.xlsx\")"
   ]
  },
  {
   "cell_type": "code",
   "execution_count": 3,
   "id": "89bca992",
   "metadata": {},
   "outputs": [
    {
     "data": {
      "text/html": [
       "<div>\n",
       "<style scoped>\n",
       "    .dataframe tbody tr th:only-of-type {\n",
       "        vertical-align: middle;\n",
       "    }\n",
       "\n",
       "    .dataframe tbody tr th {\n",
       "        vertical-align: top;\n",
       "    }\n",
       "\n",
       "    .dataframe thead th {\n",
       "        text-align: right;\n",
       "    }\n",
       "</style>\n",
       "<table border=\"1\" class=\"dataframe\">\n",
       "  <thead>\n",
       "    <tr style=\"text-align: right;\">\n",
       "      <th></th>\n",
       "      <th>OrderDate</th>\n",
       "      <th>Region</th>\n",
       "      <th>Manager</th>\n",
       "      <th>SalesMan</th>\n",
       "      <th>Item</th>\n",
       "      <th>Units</th>\n",
       "      <th>Unit_price</th>\n",
       "      <th>Sale_amt</th>\n",
       "    </tr>\n",
       "  </thead>\n",
       "  <tbody>\n",
       "    <tr>\n",
       "      <th>0</th>\n",
       "      <td>2019-08-07</td>\n",
       "      <td>Central</td>\n",
       "      <td>Hermann</td>\n",
       "      <td>Shelli</td>\n",
       "      <td>Video Games</td>\n",
       "      <td>42</td>\n",
       "      <td>58.5</td>\n",
       "      <td>2457.0</td>\n",
       "    </tr>\n",
       "    <tr>\n",
       "      <th>1</th>\n",
       "      <td>2019-08-24</td>\n",
       "      <td>West</td>\n",
       "      <td>Timothy</td>\n",
       "      <td>Stephen</td>\n",
       "      <td>Desk</td>\n",
       "      <td>3</td>\n",
       "      <td>125.0</td>\n",
       "      <td>375.0</td>\n",
       "    </tr>\n",
       "    <tr>\n",
       "      <th>2</th>\n",
       "      <td>2019-09-10</td>\n",
       "      <td>Central</td>\n",
       "      <td>Timothy</td>\n",
       "      <td>David</td>\n",
       "      <td>Television</td>\n",
       "      <td>7</td>\n",
       "      <td>1198.0</td>\n",
       "      <td>8386.0</td>\n",
       "    </tr>\n",
       "    <tr>\n",
       "      <th>3</th>\n",
       "      <td>2018-01-06</td>\n",
       "      <td>East</td>\n",
       "      <td>Martha</td>\n",
       "      <td>Alexander</td>\n",
       "      <td>Television</td>\n",
       "      <td>95</td>\n",
       "      <td>1198.0</td>\n",
       "      <td>113810.0</td>\n",
       "    </tr>\n",
       "    <tr>\n",
       "      <th>4</th>\n",
       "      <td>2018-01-23</td>\n",
       "      <td>Central</td>\n",
       "      <td>Hermann</td>\n",
       "      <td>Shelli</td>\n",
       "      <td>Home Theater</td>\n",
       "      <td>50</td>\n",
       "      <td>500.0</td>\n",
       "      <td>25000.0</td>\n",
       "    </tr>\n",
       "  </tbody>\n",
       "</table>\n",
       "</div>"
      ],
      "text/plain": [
       "   OrderDate   Region  Manager   SalesMan          Item  Units  Unit_price  \\\n",
       "0 2019-08-07  Central  Hermann     Shelli   Video Games     42        58.5   \n",
       "1 2019-08-24     West  Timothy    Stephen          Desk      3       125.0   \n",
       "2 2019-09-10  Central  Timothy      David    Television      7      1198.0   \n",
       "3 2018-01-06     East   Martha  Alexander    Television     95      1198.0   \n",
       "4 2018-01-23  Central  Hermann     Shelli  Home Theater     50       500.0   \n",
       "\n",
       "   Sale_amt  \n",
       "0    2457.0  \n",
       "1     375.0  \n",
       "2    8386.0  \n",
       "3  113810.0  \n",
       "4   25000.0  "
      ]
     },
     "execution_count": 3,
     "metadata": {},
     "output_type": "execute_result"
    }
   ],
   "source": [
    "data.head()"
   ]
  },
  {
   "cell_type": "code",
   "execution_count": 4,
   "id": "052dd376",
   "metadata": {},
   "outputs": [
    {
     "name": "stdout",
     "output_type": "stream",
     "text": [
      "<class 'pandas.core.frame.DataFrame'>\n",
      "RangeIndex: 52 entries, 0 to 51\n",
      "Data columns (total 8 columns):\n",
      " #   Column      Non-Null Count  Dtype         \n",
      "---  ------      --------------  -----         \n",
      " 0   OrderDate   52 non-null     datetime64[ns]\n",
      " 1   Region      52 non-null     object        \n",
      " 2   Manager     52 non-null     object        \n",
      " 3   SalesMan    52 non-null     object        \n",
      " 4   Item        52 non-null     object        \n",
      " 5   Units       52 non-null     int64         \n",
      " 6   Unit_price  52 non-null     float64       \n",
      " 7   Sale_amt    52 non-null     float64       \n",
      "dtypes: datetime64[ns](1), float64(2), int64(1), object(4)\n",
      "memory usage: 3.4+ KB\n"
     ]
    }
   ],
   "source": [
    "data.info()"
   ]
  },
  {
   "cell_type": "code",
   "execution_count": 5,
   "id": "4d4ea28f",
   "metadata": {},
   "outputs": [],
   "source": [
    "data.OrderDate=pd.to_datetime(data.OrderDate)"
   ]
  },
  {
   "cell_type": "code",
   "execution_count": 6,
   "id": "3a4e27b4",
   "metadata": {},
   "outputs": [
    {
     "data": {
      "text/html": [
       "<div>\n",
       "<style scoped>\n",
       "    .dataframe tbody tr th:only-of-type {\n",
       "        vertical-align: middle;\n",
       "    }\n",
       "\n",
       "    .dataframe tbody tr th {\n",
       "        vertical-align: top;\n",
       "    }\n",
       "\n",
       "    .dataframe thead th {\n",
       "        text-align: right;\n",
       "    }\n",
       "</style>\n",
       "<table border=\"1\" class=\"dataframe\">\n",
       "  <thead>\n",
       "    <tr style=\"text-align: right;\">\n",
       "      <th></th>\n",
       "      <th>OrderDate</th>\n",
       "      <th>Region</th>\n",
       "      <th>Manager</th>\n",
       "      <th>SalesMan</th>\n",
       "      <th>Item</th>\n",
       "      <th>Units</th>\n",
       "      <th>Unit_price</th>\n",
       "      <th>Sale_amt</th>\n",
       "    </tr>\n",
       "  </thead>\n",
       "  <tbody>\n",
       "    <tr>\n",
       "      <th>0</th>\n",
       "      <td>2019-08-07</td>\n",
       "      <td>Central</td>\n",
       "      <td>Hermann</td>\n",
       "      <td>Shelli</td>\n",
       "      <td>Video Games</td>\n",
       "      <td>42</td>\n",
       "      <td>58.5</td>\n",
       "      <td>2457.0</td>\n",
       "    </tr>\n",
       "    <tr>\n",
       "      <th>1</th>\n",
       "      <td>2019-08-24</td>\n",
       "      <td>West</td>\n",
       "      <td>Timothy</td>\n",
       "      <td>Stephen</td>\n",
       "      <td>Desk</td>\n",
       "      <td>3</td>\n",
       "      <td>125.0</td>\n",
       "      <td>375.0</td>\n",
       "    </tr>\n",
       "    <tr>\n",
       "      <th>2</th>\n",
       "      <td>2019-09-10</td>\n",
       "      <td>Central</td>\n",
       "      <td>Timothy</td>\n",
       "      <td>David</td>\n",
       "      <td>Television</td>\n",
       "      <td>7</td>\n",
       "      <td>1198.0</td>\n",
       "      <td>8386.0</td>\n",
       "    </tr>\n",
       "    <tr>\n",
       "      <th>3</th>\n",
       "      <td>2018-01-06</td>\n",
       "      <td>East</td>\n",
       "      <td>Martha</td>\n",
       "      <td>Alexander</td>\n",
       "      <td>Television</td>\n",
       "      <td>95</td>\n",
       "      <td>1198.0</td>\n",
       "      <td>113810.0</td>\n",
       "    </tr>\n",
       "    <tr>\n",
       "      <th>4</th>\n",
       "      <td>2018-01-23</td>\n",
       "      <td>Central</td>\n",
       "      <td>Hermann</td>\n",
       "      <td>Shelli</td>\n",
       "      <td>Home Theater</td>\n",
       "      <td>50</td>\n",
       "      <td>500.0</td>\n",
       "      <td>25000.0</td>\n",
       "    </tr>\n",
       "  </tbody>\n",
       "</table>\n",
       "</div>"
      ],
      "text/plain": [
       "   OrderDate   Region  Manager   SalesMan          Item  Units  Unit_price  \\\n",
       "0 2019-08-07  Central  Hermann     Shelli   Video Games     42        58.5   \n",
       "1 2019-08-24     West  Timothy    Stephen          Desk      3       125.0   \n",
       "2 2019-09-10  Central  Timothy      David    Television      7      1198.0   \n",
       "3 2018-01-06     East   Martha  Alexander    Television     95      1198.0   \n",
       "4 2018-01-23  Central  Hermann     Shelli  Home Theater     50       500.0   \n",
       "\n",
       "   Sale_amt  \n",
       "0    2457.0  \n",
       "1     375.0  \n",
       "2    8386.0  \n",
       "3  113810.0  \n",
       "4   25000.0  "
      ]
     },
     "execution_count": 6,
     "metadata": {},
     "output_type": "execute_result"
    }
   ],
   "source": [
    "data.head()"
   ]
  },
  {
   "cell_type": "code",
   "execution_count": 7,
   "id": "ea9bc308",
   "metadata": {},
   "outputs": [],
   "source": [
    "data=data.set_index(\"OrderDate\")"
   ]
  },
  {
   "cell_type": "code",
   "execution_count": 8,
   "id": "14644dec",
   "metadata": {},
   "outputs": [
    {
     "data": {
      "text/html": [
       "<div>\n",
       "<style scoped>\n",
       "    .dataframe tbody tr th:only-of-type {\n",
       "        vertical-align: middle;\n",
       "    }\n",
       "\n",
       "    .dataframe tbody tr th {\n",
       "        vertical-align: top;\n",
       "    }\n",
       "\n",
       "    .dataframe thead th {\n",
       "        text-align: right;\n",
       "    }\n",
       "</style>\n",
       "<table border=\"1\" class=\"dataframe\">\n",
       "  <thead>\n",
       "    <tr style=\"text-align: right;\">\n",
       "      <th></th>\n",
       "      <th>Region</th>\n",
       "      <th>Manager</th>\n",
       "      <th>SalesMan</th>\n",
       "      <th>Item</th>\n",
       "      <th>Units</th>\n",
       "      <th>Unit_price</th>\n",
       "      <th>Sale_amt</th>\n",
       "    </tr>\n",
       "    <tr>\n",
       "      <th>OrderDate</th>\n",
       "      <th></th>\n",
       "      <th></th>\n",
       "      <th></th>\n",
       "      <th></th>\n",
       "      <th></th>\n",
       "      <th></th>\n",
       "      <th></th>\n",
       "    </tr>\n",
       "  </thead>\n",
       "  <tbody>\n",
       "    <tr>\n",
       "      <th>2019-08-07</th>\n",
       "      <td>Central</td>\n",
       "      <td>Hermann</td>\n",
       "      <td>Shelli</td>\n",
       "      <td>Video Games</td>\n",
       "      <td>42</td>\n",
       "      <td>58.5</td>\n",
       "      <td>2457.0</td>\n",
       "    </tr>\n",
       "    <tr>\n",
       "      <th>2019-08-24</th>\n",
       "      <td>West</td>\n",
       "      <td>Timothy</td>\n",
       "      <td>Stephen</td>\n",
       "      <td>Desk</td>\n",
       "      <td>3</td>\n",
       "      <td>125.0</td>\n",
       "      <td>375.0</td>\n",
       "    </tr>\n",
       "    <tr>\n",
       "      <th>2019-09-10</th>\n",
       "      <td>Central</td>\n",
       "      <td>Timothy</td>\n",
       "      <td>David</td>\n",
       "      <td>Television</td>\n",
       "      <td>7</td>\n",
       "      <td>1198.0</td>\n",
       "      <td>8386.0</td>\n",
       "    </tr>\n",
       "    <tr>\n",
       "      <th>2018-01-06</th>\n",
       "      <td>East</td>\n",
       "      <td>Martha</td>\n",
       "      <td>Alexander</td>\n",
       "      <td>Television</td>\n",
       "      <td>95</td>\n",
       "      <td>1198.0</td>\n",
       "      <td>113810.0</td>\n",
       "    </tr>\n",
       "    <tr>\n",
       "      <th>2018-01-23</th>\n",
       "      <td>Central</td>\n",
       "      <td>Hermann</td>\n",
       "      <td>Shelli</td>\n",
       "      <td>Home Theater</td>\n",
       "      <td>50</td>\n",
       "      <td>500.0</td>\n",
       "      <td>25000.0</td>\n",
       "    </tr>\n",
       "  </tbody>\n",
       "</table>\n",
       "</div>"
      ],
      "text/plain": [
       "             Region  Manager   SalesMan          Item  Units  Unit_price  \\\n",
       "OrderDate                                                                  \n",
       "2019-08-07  Central  Hermann     Shelli   Video Games     42        58.5   \n",
       "2019-08-24     West  Timothy    Stephen          Desk      3       125.0   \n",
       "2019-09-10  Central  Timothy      David    Television      7      1198.0   \n",
       "2018-01-06     East   Martha  Alexander    Television     95      1198.0   \n",
       "2018-01-23  Central  Hermann     Shelli  Home Theater     50       500.0   \n",
       "\n",
       "            Sale_amt  \n",
       "OrderDate             \n",
       "2019-08-07    2457.0  \n",
       "2019-08-24     375.0  \n",
       "2019-09-10    8386.0  \n",
       "2018-01-06  113810.0  \n",
       "2018-01-23   25000.0  "
      ]
     },
     "execution_count": 8,
     "metadata": {},
     "output_type": "execute_result"
    }
   ],
   "source": [
    "data.head()"
   ]
  },
  {
   "cell_type": "code",
   "execution_count": 9,
   "id": "78b38ec3",
   "metadata": {},
   "outputs": [
    {
     "data": {
      "text/plain": [
       "DatetimeIndex(['2019-08-07', '2019-08-24', '2019-09-10', '2018-01-06',\n",
       "               '2018-01-23', '2018-02-09', '2018-02-26', '2018-03-15',\n",
       "               '2018-04-01', '2018-04-18', '2018-05-05', '2018-05-22',\n",
       "               '2018-06-08', '2018-06-25', '2018-07-12', '2018-07-29',\n",
       "               '2018-08-15', '2018-09-01', '2018-09-18', '2018-10-05',\n",
       "               '2018-10-22', '2018-11-08', '2018-11-25', '2018-12-12',\n",
       "               '2018-12-29', '2019-01-15', '2019-02-01', '2019-02-18',\n",
       "               '2019-03-07', '2019-03-24', '2019-04-10', '2019-04-27',\n",
       "               '2019-05-14', '2019-05-31', '2019-06-17', '2019-07-04',\n",
       "               '2019-07-21', '2019-08-07', '2019-08-24', '2019-09-10',\n",
       "               '2019-09-27', '2019-10-14', '2019-10-31', '2019-11-17',\n",
       "               '2019-12-04', '2019-12-21', '2019-04-27', '2019-02-01',\n",
       "               '2019-03-24', '2019-04-10', '2019-04-27', '2019-05-14'],\n",
       "              dtype='datetime64[ns]', name='OrderDate', freq=None)"
      ]
     },
     "execution_count": 9,
     "metadata": {},
     "output_type": "execute_result"
    }
   ],
   "source": [
    "data.index"
   ]
  },
  {
   "cell_type": "code",
   "execution_count": 10,
   "id": "59f529ae",
   "metadata": {},
   "outputs": [
    {
     "data": {
      "text/html": [
       "<div>\n",
       "<style scoped>\n",
       "    .dataframe tbody tr th:only-of-type {\n",
       "        vertical-align: middle;\n",
       "    }\n",
       "\n",
       "    .dataframe tbody tr th {\n",
       "        vertical-align: top;\n",
       "    }\n",
       "\n",
       "    .dataframe thead th {\n",
       "        text-align: right;\n",
       "    }\n",
       "</style>\n",
       "<table border=\"1\" class=\"dataframe\">\n",
       "  <thead>\n",
       "    <tr style=\"text-align: right;\">\n",
       "      <th></th>\n",
       "      <th>Region</th>\n",
       "      <th>Manager</th>\n",
       "      <th>SalesMan</th>\n",
       "      <th>Item</th>\n",
       "      <th>Units</th>\n",
       "      <th>Unit_price</th>\n",
       "      <th>Sale_amt</th>\n",
       "    </tr>\n",
       "    <tr>\n",
       "      <th>OrderDate</th>\n",
       "      <th></th>\n",
       "      <th></th>\n",
       "      <th></th>\n",
       "      <th></th>\n",
       "      <th></th>\n",
       "      <th></th>\n",
       "      <th></th>\n",
       "    </tr>\n",
       "  </thead>\n",
       "  <tbody>\n",
       "    <tr>\n",
       "      <th>2018-04-01</th>\n",
       "      <td>East</td>\n",
       "      <td>Martha</td>\n",
       "      <td>Alexander</td>\n",
       "      <td>Home Theater</td>\n",
       "      <td>60</td>\n",
       "      <td>500.0</td>\n",
       "      <td>30000.0</td>\n",
       "    </tr>\n",
       "    <tr>\n",
       "      <th>2018-04-18</th>\n",
       "      <td>Central</td>\n",
       "      <td>Martha</td>\n",
       "      <td>Steven</td>\n",
       "      <td>Television</td>\n",
       "      <td>75</td>\n",
       "      <td>1198.0</td>\n",
       "      <td>89850.0</td>\n",
       "    </tr>\n",
       "    <tr>\n",
       "      <th>2018-05-05</th>\n",
       "      <td>Central</td>\n",
       "      <td>Hermann</td>\n",
       "      <td>Luis</td>\n",
       "      <td>Television</td>\n",
       "      <td>90</td>\n",
       "      <td>1198.0</td>\n",
       "      <td>107820.0</td>\n",
       "    </tr>\n",
       "    <tr>\n",
       "      <th>2018-05-22</th>\n",
       "      <td>West</td>\n",
       "      <td>Douglas</td>\n",
       "      <td>Michael</td>\n",
       "      <td>Television</td>\n",
       "      <td>32</td>\n",
       "      <td>1198.0</td>\n",
       "      <td>38336.0</td>\n",
       "    </tr>\n",
       "    <tr>\n",
       "      <th>2018-06-08</th>\n",
       "      <td>East</td>\n",
       "      <td>Martha</td>\n",
       "      <td>Alexander</td>\n",
       "      <td>Home Theater</td>\n",
       "      <td>60</td>\n",
       "      <td>500.0</td>\n",
       "      <td>30000.0</td>\n",
       "    </tr>\n",
       "    <tr>\n",
       "      <th>2018-06-25</th>\n",
       "      <td>Central</td>\n",
       "      <td>Hermann</td>\n",
       "      <td>Sigal</td>\n",
       "      <td>Television</td>\n",
       "      <td>90</td>\n",
       "      <td>1198.0</td>\n",
       "      <td>107820.0</td>\n",
       "    </tr>\n",
       "    <tr>\n",
       "      <th>2018-07-12</th>\n",
       "      <td>East</td>\n",
       "      <td>Martha</td>\n",
       "      <td>Diana</td>\n",
       "      <td>Home Theater</td>\n",
       "      <td>29</td>\n",
       "      <td>500.0</td>\n",
       "      <td>14500.0</td>\n",
       "    </tr>\n",
       "    <tr>\n",
       "      <th>2018-07-29</th>\n",
       "      <td>East</td>\n",
       "      <td>Douglas</td>\n",
       "      <td>Karen</td>\n",
       "      <td>Home Theater</td>\n",
       "      <td>81</td>\n",
       "      <td>500.0</td>\n",
       "      <td>40500.0</td>\n",
       "    </tr>\n",
       "    <tr>\n",
       "      <th>2018-08-15</th>\n",
       "      <td>East</td>\n",
       "      <td>Martha</td>\n",
       "      <td>Alexander</td>\n",
       "      <td>Television</td>\n",
       "      <td>35</td>\n",
       "      <td>1198.0</td>\n",
       "      <td>41930.0</td>\n",
       "    </tr>\n",
       "    <tr>\n",
       "      <th>2018-09-01</th>\n",
       "      <td>Central</td>\n",
       "      <td>Douglas</td>\n",
       "      <td>John</td>\n",
       "      <td>Desk</td>\n",
       "      <td>2</td>\n",
       "      <td>125.0</td>\n",
       "      <td>250.0</td>\n",
       "    </tr>\n",
       "    <tr>\n",
       "      <th>2018-09-18</th>\n",
       "      <td>East</td>\n",
       "      <td>Martha</td>\n",
       "      <td>Alexander</td>\n",
       "      <td>Video Games</td>\n",
       "      <td>16</td>\n",
       "      <td>58.5</td>\n",
       "      <td>936.0</td>\n",
       "    </tr>\n",
       "    <tr>\n",
       "      <th>2018-10-05</th>\n",
       "      <td>Central</td>\n",
       "      <td>Hermann</td>\n",
       "      <td>Sigal</td>\n",
       "      <td>Home Theater</td>\n",
       "      <td>28</td>\n",
       "      <td>500.0</td>\n",
       "      <td>14000.0</td>\n",
       "    </tr>\n",
       "    <tr>\n",
       "      <th>2018-10-22</th>\n",
       "      <td>East</td>\n",
       "      <td>Martha</td>\n",
       "      <td>Alexander</td>\n",
       "      <td>Cell Phone</td>\n",
       "      <td>64</td>\n",
       "      <td>225.0</td>\n",
       "      <td>14400.0</td>\n",
       "    </tr>\n",
       "    <tr>\n",
       "      <th>2018-11-08</th>\n",
       "      <td>East</td>\n",
       "      <td>Douglas</td>\n",
       "      <td>Karen</td>\n",
       "      <td>Cell Phone</td>\n",
       "      <td>15</td>\n",
       "      <td>225.0</td>\n",
       "      <td>3375.0</td>\n",
       "    </tr>\n",
       "    <tr>\n",
       "      <th>2018-11-25</th>\n",
       "      <td>Central</td>\n",
       "      <td>Hermann</td>\n",
       "      <td>Shelli</td>\n",
       "      <td>Video Games</td>\n",
       "      <td>96</td>\n",
       "      <td>58.5</td>\n",
       "      <td>5616.0</td>\n",
       "    </tr>\n",
       "    <tr>\n",
       "      <th>2018-12-12</th>\n",
       "      <td>Central</td>\n",
       "      <td>Douglas</td>\n",
       "      <td>John</td>\n",
       "      <td>Television</td>\n",
       "      <td>67</td>\n",
       "      <td>1198.0</td>\n",
       "      <td>80266.0</td>\n",
       "    </tr>\n",
       "    <tr>\n",
       "      <th>2018-12-29</th>\n",
       "      <td>East</td>\n",
       "      <td>Douglas</td>\n",
       "      <td>Karen</td>\n",
       "      <td>Video Games</td>\n",
       "      <td>74</td>\n",
       "      <td>58.5</td>\n",
       "      <td>4329.0</td>\n",
       "    </tr>\n",
       "    <tr>\n",
       "      <th>2019-01-15</th>\n",
       "      <td>Central</td>\n",
       "      <td>Timothy</td>\n",
       "      <td>David</td>\n",
       "      <td>Home Theater</td>\n",
       "      <td>46</td>\n",
       "      <td>500.0</td>\n",
       "      <td>23000.0</td>\n",
       "    </tr>\n",
       "    <tr>\n",
       "      <th>2019-02-01</th>\n",
       "      <td>Central</td>\n",
       "      <td>Douglas</td>\n",
       "      <td>John</td>\n",
       "      <td>Home Theater</td>\n",
       "      <td>87</td>\n",
       "      <td>500.0</td>\n",
       "      <td>43500.0</td>\n",
       "    </tr>\n",
       "    <tr>\n",
       "      <th>2019-02-18</th>\n",
       "      <td>East</td>\n",
       "      <td>Martha</td>\n",
       "      <td>Alexander</td>\n",
       "      <td>Home Theater</td>\n",
       "      <td>4</td>\n",
       "      <td>500.0</td>\n",
       "      <td>2000.0</td>\n",
       "    </tr>\n",
       "    <tr>\n",
       "      <th>2019-03-07</th>\n",
       "      <td>West</td>\n",
       "      <td>Timothy</td>\n",
       "      <td>Stephen</td>\n",
       "      <td>Home Theater</td>\n",
       "      <td>7</td>\n",
       "      <td>500.0</td>\n",
       "      <td>3500.0</td>\n",
       "    </tr>\n",
       "    <tr>\n",
       "      <th>2019-03-24</th>\n",
       "      <td>Central</td>\n",
       "      <td>Hermann</td>\n",
       "      <td>Luis</td>\n",
       "      <td>Video Games</td>\n",
       "      <td>50</td>\n",
       "      <td>58.5</td>\n",
       "      <td>2925.0</td>\n",
       "    </tr>\n",
       "    <tr>\n",
       "      <th>2019-04-10</th>\n",
       "      <td>Central</td>\n",
       "      <td>Martha</td>\n",
       "      <td>Steven</td>\n",
       "      <td>Television</td>\n",
       "      <td>66</td>\n",
       "      <td>1198.0</td>\n",
       "      <td>79068.0</td>\n",
       "    </tr>\n",
       "    <tr>\n",
       "      <th>2019-04-27</th>\n",
       "      <td>East</td>\n",
       "      <td>Martha</td>\n",
       "      <td>Diana</td>\n",
       "      <td>Cell Phone</td>\n",
       "      <td>96</td>\n",
       "      <td>225.0</td>\n",
       "      <td>21600.0</td>\n",
       "    </tr>\n",
       "    <tr>\n",
       "      <th>2019-04-27</th>\n",
       "      <td>East</td>\n",
       "      <td>Martha</td>\n",
       "      <td>Diana</td>\n",
       "      <td>Cell Phone</td>\n",
       "      <td>96</td>\n",
       "      <td>225.0</td>\n",
       "      <td>21600.0</td>\n",
       "    </tr>\n",
       "    <tr>\n",
       "      <th>2019-02-01</th>\n",
       "      <td>Central</td>\n",
       "      <td>Douglas</td>\n",
       "      <td>John</td>\n",
       "      <td>Home Theater</td>\n",
       "      <td>87</td>\n",
       "      <td>500.0</td>\n",
       "      <td>43500.0</td>\n",
       "    </tr>\n",
       "    <tr>\n",
       "      <th>2019-03-24</th>\n",
       "      <td>Central</td>\n",
       "      <td>Hermann</td>\n",
       "      <td>Luis</td>\n",
       "      <td>Video Games</td>\n",
       "      <td>50</td>\n",
       "      <td>58.5</td>\n",
       "      <td>2925.0</td>\n",
       "    </tr>\n",
       "    <tr>\n",
       "      <th>2019-04-10</th>\n",
       "      <td>Central</td>\n",
       "      <td>Martha</td>\n",
       "      <td>Steven</td>\n",
       "      <td>Television</td>\n",
       "      <td>66</td>\n",
       "      <td>1198.0</td>\n",
       "      <td>79068.0</td>\n",
       "    </tr>\n",
       "    <tr>\n",
       "      <th>2019-04-27</th>\n",
       "      <td>East</td>\n",
       "      <td>Martha</td>\n",
       "      <td>Diana</td>\n",
       "      <td>Cell Phone</td>\n",
       "      <td>96</td>\n",
       "      <td>225.0</td>\n",
       "      <td>21600.0</td>\n",
       "    </tr>\n",
       "  </tbody>\n",
       "</table>\n",
       "</div>"
      ],
      "text/plain": [
       "             Region  Manager   SalesMan          Item  Units  Unit_price  \\\n",
       "OrderDate                                                                  \n",
       "2018-04-01     East   Martha  Alexander  Home Theater     60       500.0   \n",
       "2018-04-18  Central   Martha     Steven    Television     75      1198.0   \n",
       "2018-05-05  Central  Hermann       Luis    Television     90      1198.0   \n",
       "2018-05-22     West  Douglas    Michael    Television     32      1198.0   \n",
       "2018-06-08     East   Martha  Alexander  Home Theater     60       500.0   \n",
       "2018-06-25  Central  Hermann      Sigal    Television     90      1198.0   \n",
       "2018-07-12     East   Martha      Diana  Home Theater     29       500.0   \n",
       "2018-07-29     East  Douglas      Karen  Home Theater     81       500.0   \n",
       "2018-08-15     East   Martha  Alexander    Television     35      1198.0   \n",
       "2018-09-01  Central  Douglas       John          Desk      2       125.0   \n",
       "2018-09-18     East   Martha  Alexander   Video Games     16        58.5   \n",
       "2018-10-05  Central  Hermann      Sigal  Home Theater     28       500.0   \n",
       "2018-10-22     East   Martha  Alexander    Cell Phone     64       225.0   \n",
       "2018-11-08     East  Douglas      Karen    Cell Phone     15       225.0   \n",
       "2018-11-25  Central  Hermann     Shelli   Video Games     96        58.5   \n",
       "2018-12-12  Central  Douglas       John    Television     67      1198.0   \n",
       "2018-12-29     East  Douglas      Karen   Video Games     74        58.5   \n",
       "2019-01-15  Central  Timothy      David  Home Theater     46       500.0   \n",
       "2019-02-01  Central  Douglas       John  Home Theater     87       500.0   \n",
       "2019-02-18     East   Martha  Alexander  Home Theater      4       500.0   \n",
       "2019-03-07     West  Timothy    Stephen  Home Theater      7       500.0   \n",
       "2019-03-24  Central  Hermann       Luis   Video Games     50        58.5   \n",
       "2019-04-10  Central   Martha     Steven    Television     66      1198.0   \n",
       "2019-04-27     East   Martha      Diana    Cell Phone     96       225.0   \n",
       "2019-04-27     East   Martha      Diana    Cell Phone     96       225.0   \n",
       "2019-02-01  Central  Douglas       John  Home Theater     87       500.0   \n",
       "2019-03-24  Central  Hermann       Luis   Video Games     50        58.5   \n",
       "2019-04-10  Central   Martha     Steven    Television     66      1198.0   \n",
       "2019-04-27     East   Martha      Diana    Cell Phone     96       225.0   \n",
       "\n",
       "            Sale_amt  \n",
       "OrderDate             \n",
       "2018-04-01   30000.0  \n",
       "2018-04-18   89850.0  \n",
       "2018-05-05  107820.0  \n",
       "2018-05-22   38336.0  \n",
       "2018-06-08   30000.0  \n",
       "2018-06-25  107820.0  \n",
       "2018-07-12   14500.0  \n",
       "2018-07-29   40500.0  \n",
       "2018-08-15   41930.0  \n",
       "2018-09-01     250.0  \n",
       "2018-09-18     936.0  \n",
       "2018-10-05   14000.0  \n",
       "2018-10-22   14400.0  \n",
       "2018-11-08    3375.0  \n",
       "2018-11-25    5616.0  \n",
       "2018-12-12   80266.0  \n",
       "2018-12-29    4329.0  \n",
       "2019-01-15   23000.0  \n",
       "2019-02-01   43500.0  \n",
       "2019-02-18    2000.0  \n",
       "2019-03-07    3500.0  \n",
       "2019-03-24    2925.0  \n",
       "2019-04-10   79068.0  \n",
       "2019-04-27   21600.0  \n",
       "2019-04-27   21600.0  \n",
       "2019-02-01   43500.0  \n",
       "2019-03-24    2925.0  \n",
       "2019-04-10   79068.0  \n",
       "2019-04-27   21600.0  "
      ]
     },
     "execution_count": 10,
     "metadata": {},
     "output_type": "execute_result"
    }
   ],
   "source": [
    "data['2018-4':'2019-4']"
   ]
  },
  {
   "cell_type": "code",
   "execution_count": 11,
   "id": "a88bbf37",
   "metadata": {},
   "outputs": [
    {
     "name": "stderr",
     "output_type": "stream",
     "text": [
      "C:\\Users\\SAJID\\AppData\\Local\\Temp\\ipykernel_15812\\2924712740.py:1: FutureWarning: Value based partial slicing on non-monotonic DatetimeIndexes with non-existing keys is deprecated and will raise a KeyError in a future Version.\n",
      "  data['2018-4-12':'2019-8-2']\n"
     ]
    },
    {
     "data": {
      "text/html": [
       "<div>\n",
       "<style scoped>\n",
       "    .dataframe tbody tr th:only-of-type {\n",
       "        vertical-align: middle;\n",
       "    }\n",
       "\n",
       "    .dataframe tbody tr th {\n",
       "        vertical-align: top;\n",
       "    }\n",
       "\n",
       "    .dataframe thead th {\n",
       "        text-align: right;\n",
       "    }\n",
       "</style>\n",
       "<table border=\"1\" class=\"dataframe\">\n",
       "  <thead>\n",
       "    <tr style=\"text-align: right;\">\n",
       "      <th></th>\n",
       "      <th>Region</th>\n",
       "      <th>Manager</th>\n",
       "      <th>SalesMan</th>\n",
       "      <th>Item</th>\n",
       "      <th>Units</th>\n",
       "      <th>Unit_price</th>\n",
       "      <th>Sale_amt</th>\n",
       "    </tr>\n",
       "    <tr>\n",
       "      <th>OrderDate</th>\n",
       "      <th></th>\n",
       "      <th></th>\n",
       "      <th></th>\n",
       "      <th></th>\n",
       "      <th></th>\n",
       "      <th></th>\n",
       "      <th></th>\n",
       "    </tr>\n",
       "  </thead>\n",
       "  <tbody>\n",
       "    <tr>\n",
       "      <th>2018-04-18</th>\n",
       "      <td>Central</td>\n",
       "      <td>Martha</td>\n",
       "      <td>Steven</td>\n",
       "      <td>Television</td>\n",
       "      <td>75</td>\n",
       "      <td>1198.0</td>\n",
       "      <td>89850.0</td>\n",
       "    </tr>\n",
       "    <tr>\n",
       "      <th>2018-05-05</th>\n",
       "      <td>Central</td>\n",
       "      <td>Hermann</td>\n",
       "      <td>Luis</td>\n",
       "      <td>Television</td>\n",
       "      <td>90</td>\n",
       "      <td>1198.0</td>\n",
       "      <td>107820.0</td>\n",
       "    </tr>\n",
       "    <tr>\n",
       "      <th>2018-05-22</th>\n",
       "      <td>West</td>\n",
       "      <td>Douglas</td>\n",
       "      <td>Michael</td>\n",
       "      <td>Television</td>\n",
       "      <td>32</td>\n",
       "      <td>1198.0</td>\n",
       "      <td>38336.0</td>\n",
       "    </tr>\n",
       "    <tr>\n",
       "      <th>2018-06-08</th>\n",
       "      <td>East</td>\n",
       "      <td>Martha</td>\n",
       "      <td>Alexander</td>\n",
       "      <td>Home Theater</td>\n",
       "      <td>60</td>\n",
       "      <td>500.0</td>\n",
       "      <td>30000.0</td>\n",
       "    </tr>\n",
       "    <tr>\n",
       "      <th>2018-06-25</th>\n",
       "      <td>Central</td>\n",
       "      <td>Hermann</td>\n",
       "      <td>Sigal</td>\n",
       "      <td>Television</td>\n",
       "      <td>90</td>\n",
       "      <td>1198.0</td>\n",
       "      <td>107820.0</td>\n",
       "    </tr>\n",
       "    <tr>\n",
       "      <th>2018-07-12</th>\n",
       "      <td>East</td>\n",
       "      <td>Martha</td>\n",
       "      <td>Diana</td>\n",
       "      <td>Home Theater</td>\n",
       "      <td>29</td>\n",
       "      <td>500.0</td>\n",
       "      <td>14500.0</td>\n",
       "    </tr>\n",
       "    <tr>\n",
       "      <th>2018-07-29</th>\n",
       "      <td>East</td>\n",
       "      <td>Douglas</td>\n",
       "      <td>Karen</td>\n",
       "      <td>Home Theater</td>\n",
       "      <td>81</td>\n",
       "      <td>500.0</td>\n",
       "      <td>40500.0</td>\n",
       "    </tr>\n",
       "    <tr>\n",
       "      <th>2018-08-15</th>\n",
       "      <td>East</td>\n",
       "      <td>Martha</td>\n",
       "      <td>Alexander</td>\n",
       "      <td>Television</td>\n",
       "      <td>35</td>\n",
       "      <td>1198.0</td>\n",
       "      <td>41930.0</td>\n",
       "    </tr>\n",
       "    <tr>\n",
       "      <th>2018-09-01</th>\n",
       "      <td>Central</td>\n",
       "      <td>Douglas</td>\n",
       "      <td>John</td>\n",
       "      <td>Desk</td>\n",
       "      <td>2</td>\n",
       "      <td>125.0</td>\n",
       "      <td>250.0</td>\n",
       "    </tr>\n",
       "    <tr>\n",
       "      <th>2018-09-18</th>\n",
       "      <td>East</td>\n",
       "      <td>Martha</td>\n",
       "      <td>Alexander</td>\n",
       "      <td>Video Games</td>\n",
       "      <td>16</td>\n",
       "      <td>58.5</td>\n",
       "      <td>936.0</td>\n",
       "    </tr>\n",
       "    <tr>\n",
       "      <th>2018-10-05</th>\n",
       "      <td>Central</td>\n",
       "      <td>Hermann</td>\n",
       "      <td>Sigal</td>\n",
       "      <td>Home Theater</td>\n",
       "      <td>28</td>\n",
       "      <td>500.0</td>\n",
       "      <td>14000.0</td>\n",
       "    </tr>\n",
       "    <tr>\n",
       "      <th>2018-10-22</th>\n",
       "      <td>East</td>\n",
       "      <td>Martha</td>\n",
       "      <td>Alexander</td>\n",
       "      <td>Cell Phone</td>\n",
       "      <td>64</td>\n",
       "      <td>225.0</td>\n",
       "      <td>14400.0</td>\n",
       "    </tr>\n",
       "    <tr>\n",
       "      <th>2018-11-08</th>\n",
       "      <td>East</td>\n",
       "      <td>Douglas</td>\n",
       "      <td>Karen</td>\n",
       "      <td>Cell Phone</td>\n",
       "      <td>15</td>\n",
       "      <td>225.0</td>\n",
       "      <td>3375.0</td>\n",
       "    </tr>\n",
       "    <tr>\n",
       "      <th>2018-11-25</th>\n",
       "      <td>Central</td>\n",
       "      <td>Hermann</td>\n",
       "      <td>Shelli</td>\n",
       "      <td>Video Games</td>\n",
       "      <td>96</td>\n",
       "      <td>58.5</td>\n",
       "      <td>5616.0</td>\n",
       "    </tr>\n",
       "    <tr>\n",
       "      <th>2018-12-12</th>\n",
       "      <td>Central</td>\n",
       "      <td>Douglas</td>\n",
       "      <td>John</td>\n",
       "      <td>Television</td>\n",
       "      <td>67</td>\n",
       "      <td>1198.0</td>\n",
       "      <td>80266.0</td>\n",
       "    </tr>\n",
       "    <tr>\n",
       "      <th>2018-12-29</th>\n",
       "      <td>East</td>\n",
       "      <td>Douglas</td>\n",
       "      <td>Karen</td>\n",
       "      <td>Video Games</td>\n",
       "      <td>74</td>\n",
       "      <td>58.5</td>\n",
       "      <td>4329.0</td>\n",
       "    </tr>\n",
       "    <tr>\n",
       "      <th>2019-01-15</th>\n",
       "      <td>Central</td>\n",
       "      <td>Timothy</td>\n",
       "      <td>David</td>\n",
       "      <td>Home Theater</td>\n",
       "      <td>46</td>\n",
       "      <td>500.0</td>\n",
       "      <td>23000.0</td>\n",
       "    </tr>\n",
       "    <tr>\n",
       "      <th>2019-02-01</th>\n",
       "      <td>Central</td>\n",
       "      <td>Douglas</td>\n",
       "      <td>John</td>\n",
       "      <td>Home Theater</td>\n",
       "      <td>87</td>\n",
       "      <td>500.0</td>\n",
       "      <td>43500.0</td>\n",
       "    </tr>\n",
       "    <tr>\n",
       "      <th>2019-02-18</th>\n",
       "      <td>East</td>\n",
       "      <td>Martha</td>\n",
       "      <td>Alexander</td>\n",
       "      <td>Home Theater</td>\n",
       "      <td>4</td>\n",
       "      <td>500.0</td>\n",
       "      <td>2000.0</td>\n",
       "    </tr>\n",
       "    <tr>\n",
       "      <th>2019-03-07</th>\n",
       "      <td>West</td>\n",
       "      <td>Timothy</td>\n",
       "      <td>Stephen</td>\n",
       "      <td>Home Theater</td>\n",
       "      <td>7</td>\n",
       "      <td>500.0</td>\n",
       "      <td>3500.0</td>\n",
       "    </tr>\n",
       "    <tr>\n",
       "      <th>2019-03-24</th>\n",
       "      <td>Central</td>\n",
       "      <td>Hermann</td>\n",
       "      <td>Luis</td>\n",
       "      <td>Video Games</td>\n",
       "      <td>50</td>\n",
       "      <td>58.5</td>\n",
       "      <td>2925.0</td>\n",
       "    </tr>\n",
       "    <tr>\n",
       "      <th>2019-04-10</th>\n",
       "      <td>Central</td>\n",
       "      <td>Martha</td>\n",
       "      <td>Steven</td>\n",
       "      <td>Television</td>\n",
       "      <td>66</td>\n",
       "      <td>1198.0</td>\n",
       "      <td>79068.0</td>\n",
       "    </tr>\n",
       "    <tr>\n",
       "      <th>2019-04-27</th>\n",
       "      <td>East</td>\n",
       "      <td>Martha</td>\n",
       "      <td>Diana</td>\n",
       "      <td>Cell Phone</td>\n",
       "      <td>96</td>\n",
       "      <td>225.0</td>\n",
       "      <td>21600.0</td>\n",
       "    </tr>\n",
       "    <tr>\n",
       "      <th>2019-05-14</th>\n",
       "      <td>Central</td>\n",
       "      <td>Timothy</td>\n",
       "      <td>David</td>\n",
       "      <td>Television</td>\n",
       "      <td>53</td>\n",
       "      <td>1198.0</td>\n",
       "      <td>63494.0</td>\n",
       "    </tr>\n",
       "    <tr>\n",
       "      <th>2019-05-31</th>\n",
       "      <td>Central</td>\n",
       "      <td>Timothy</td>\n",
       "      <td>David</td>\n",
       "      <td>Home Theater</td>\n",
       "      <td>80</td>\n",
       "      <td>500.0</td>\n",
       "      <td>40000.0</td>\n",
       "    </tr>\n",
       "    <tr>\n",
       "      <th>2019-06-17</th>\n",
       "      <td>Central</td>\n",
       "      <td>Hermann</td>\n",
       "      <td>Shelli</td>\n",
       "      <td>Desk</td>\n",
       "      <td>5</td>\n",
       "      <td>125.0</td>\n",
       "      <td>625.0</td>\n",
       "    </tr>\n",
       "    <tr>\n",
       "      <th>2019-07-04</th>\n",
       "      <td>East</td>\n",
       "      <td>Martha</td>\n",
       "      <td>Alexander</td>\n",
       "      <td>Video Games</td>\n",
       "      <td>62</td>\n",
       "      <td>58.5</td>\n",
       "      <td>3627.0</td>\n",
       "    </tr>\n",
       "    <tr>\n",
       "      <th>2019-07-21</th>\n",
       "      <td>Central</td>\n",
       "      <td>Hermann</td>\n",
       "      <td>Sigal</td>\n",
       "      <td>Video Games</td>\n",
       "      <td>55</td>\n",
       "      <td>58.5</td>\n",
       "      <td>3217.5</td>\n",
       "    </tr>\n",
       "    <tr>\n",
       "      <th>2019-04-27</th>\n",
       "      <td>East</td>\n",
       "      <td>Martha</td>\n",
       "      <td>Diana</td>\n",
       "      <td>Cell Phone</td>\n",
       "      <td>96</td>\n",
       "      <td>225.0</td>\n",
       "      <td>21600.0</td>\n",
       "    </tr>\n",
       "    <tr>\n",
       "      <th>2019-02-01</th>\n",
       "      <td>Central</td>\n",
       "      <td>Douglas</td>\n",
       "      <td>John</td>\n",
       "      <td>Home Theater</td>\n",
       "      <td>87</td>\n",
       "      <td>500.0</td>\n",
       "      <td>43500.0</td>\n",
       "    </tr>\n",
       "    <tr>\n",
       "      <th>2019-03-24</th>\n",
       "      <td>Central</td>\n",
       "      <td>Hermann</td>\n",
       "      <td>Luis</td>\n",
       "      <td>Video Games</td>\n",
       "      <td>50</td>\n",
       "      <td>58.5</td>\n",
       "      <td>2925.0</td>\n",
       "    </tr>\n",
       "    <tr>\n",
       "      <th>2019-04-10</th>\n",
       "      <td>Central</td>\n",
       "      <td>Martha</td>\n",
       "      <td>Steven</td>\n",
       "      <td>Television</td>\n",
       "      <td>66</td>\n",
       "      <td>1198.0</td>\n",
       "      <td>79068.0</td>\n",
       "    </tr>\n",
       "    <tr>\n",
       "      <th>2019-04-27</th>\n",
       "      <td>East</td>\n",
       "      <td>Martha</td>\n",
       "      <td>Diana</td>\n",
       "      <td>Cell Phone</td>\n",
       "      <td>96</td>\n",
       "      <td>225.0</td>\n",
       "      <td>21600.0</td>\n",
       "    </tr>\n",
       "    <tr>\n",
       "      <th>2019-05-14</th>\n",
       "      <td>Central</td>\n",
       "      <td>Timothy</td>\n",
       "      <td>David</td>\n",
       "      <td>Television</td>\n",
       "      <td>53</td>\n",
       "      <td>1198.0</td>\n",
       "      <td>63494.0</td>\n",
       "    </tr>\n",
       "  </tbody>\n",
       "</table>\n",
       "</div>"
      ],
      "text/plain": [
       "             Region  Manager   SalesMan          Item  Units  Unit_price  \\\n",
       "OrderDate                                                                  \n",
       "2018-04-18  Central   Martha     Steven    Television     75      1198.0   \n",
       "2018-05-05  Central  Hermann       Luis    Television     90      1198.0   \n",
       "2018-05-22     West  Douglas    Michael    Television     32      1198.0   \n",
       "2018-06-08     East   Martha  Alexander  Home Theater     60       500.0   \n",
       "2018-06-25  Central  Hermann      Sigal    Television     90      1198.0   \n",
       "2018-07-12     East   Martha      Diana  Home Theater     29       500.0   \n",
       "2018-07-29     East  Douglas      Karen  Home Theater     81       500.0   \n",
       "2018-08-15     East   Martha  Alexander    Television     35      1198.0   \n",
       "2018-09-01  Central  Douglas       John          Desk      2       125.0   \n",
       "2018-09-18     East   Martha  Alexander   Video Games     16        58.5   \n",
       "2018-10-05  Central  Hermann      Sigal  Home Theater     28       500.0   \n",
       "2018-10-22     East   Martha  Alexander    Cell Phone     64       225.0   \n",
       "2018-11-08     East  Douglas      Karen    Cell Phone     15       225.0   \n",
       "2018-11-25  Central  Hermann     Shelli   Video Games     96        58.5   \n",
       "2018-12-12  Central  Douglas       John    Television     67      1198.0   \n",
       "2018-12-29     East  Douglas      Karen   Video Games     74        58.5   \n",
       "2019-01-15  Central  Timothy      David  Home Theater     46       500.0   \n",
       "2019-02-01  Central  Douglas       John  Home Theater     87       500.0   \n",
       "2019-02-18     East   Martha  Alexander  Home Theater      4       500.0   \n",
       "2019-03-07     West  Timothy    Stephen  Home Theater      7       500.0   \n",
       "2019-03-24  Central  Hermann       Luis   Video Games     50        58.5   \n",
       "2019-04-10  Central   Martha     Steven    Television     66      1198.0   \n",
       "2019-04-27     East   Martha      Diana    Cell Phone     96       225.0   \n",
       "2019-05-14  Central  Timothy      David    Television     53      1198.0   \n",
       "2019-05-31  Central  Timothy      David  Home Theater     80       500.0   \n",
       "2019-06-17  Central  Hermann     Shelli          Desk      5       125.0   \n",
       "2019-07-04     East   Martha  Alexander   Video Games     62        58.5   \n",
       "2019-07-21  Central  Hermann      Sigal   Video Games     55        58.5   \n",
       "2019-04-27     East   Martha      Diana    Cell Phone     96       225.0   \n",
       "2019-02-01  Central  Douglas       John  Home Theater     87       500.0   \n",
       "2019-03-24  Central  Hermann       Luis   Video Games     50        58.5   \n",
       "2019-04-10  Central   Martha     Steven    Television     66      1198.0   \n",
       "2019-04-27     East   Martha      Diana    Cell Phone     96       225.0   \n",
       "2019-05-14  Central  Timothy      David    Television     53      1198.0   \n",
       "\n",
       "            Sale_amt  \n",
       "OrderDate             \n",
       "2018-04-18   89850.0  \n",
       "2018-05-05  107820.0  \n",
       "2018-05-22   38336.0  \n",
       "2018-06-08   30000.0  \n",
       "2018-06-25  107820.0  \n",
       "2018-07-12   14500.0  \n",
       "2018-07-29   40500.0  \n",
       "2018-08-15   41930.0  \n",
       "2018-09-01     250.0  \n",
       "2018-09-18     936.0  \n",
       "2018-10-05   14000.0  \n",
       "2018-10-22   14400.0  \n",
       "2018-11-08    3375.0  \n",
       "2018-11-25    5616.0  \n",
       "2018-12-12   80266.0  \n",
       "2018-12-29    4329.0  \n",
       "2019-01-15   23000.0  \n",
       "2019-02-01   43500.0  \n",
       "2019-02-18    2000.0  \n",
       "2019-03-07    3500.0  \n",
       "2019-03-24    2925.0  \n",
       "2019-04-10   79068.0  \n",
       "2019-04-27   21600.0  \n",
       "2019-05-14   63494.0  \n",
       "2019-05-31   40000.0  \n",
       "2019-06-17     625.0  \n",
       "2019-07-04    3627.0  \n",
       "2019-07-21    3217.5  \n",
       "2019-04-27   21600.0  \n",
       "2019-02-01   43500.0  \n",
       "2019-03-24    2925.0  \n",
       "2019-04-10   79068.0  \n",
       "2019-04-27   21600.0  \n",
       "2019-05-14   63494.0  "
      ]
     },
     "execution_count": 11,
     "metadata": {},
     "output_type": "execute_result"
    }
   ],
   "source": [
    "data['2018-4-12':'2019-8-2']"
   ]
  },
  {
   "cell_type": "code",
   "execution_count": 12,
   "id": "1a84c5b1",
   "metadata": {},
   "outputs": [
    {
     "data": {
      "text/html": [
       "<div>\n",
       "<style scoped>\n",
       "    .dataframe tbody tr th:only-of-type {\n",
       "        vertical-align: middle;\n",
       "    }\n",
       "\n",
       "    .dataframe tbody tr th {\n",
       "        vertical-align: top;\n",
       "    }\n",
       "\n",
       "    .dataframe thead th {\n",
       "        text-align: right;\n",
       "    }\n",
       "</style>\n",
       "<table border=\"1\" class=\"dataframe\">\n",
       "  <thead>\n",
       "    <tr style=\"text-align: right;\">\n",
       "      <th></th>\n",
       "      <th>Region</th>\n",
       "      <th>Manager</th>\n",
       "      <th>SalesMan</th>\n",
       "      <th>Item</th>\n",
       "      <th>Units</th>\n",
       "      <th>Unit_price</th>\n",
       "      <th>Sale_amt</th>\n",
       "    </tr>\n",
       "    <tr>\n",
       "      <th>OrderDate</th>\n",
       "      <th></th>\n",
       "      <th></th>\n",
       "      <th></th>\n",
       "      <th></th>\n",
       "      <th></th>\n",
       "      <th></th>\n",
       "      <th></th>\n",
       "    </tr>\n",
       "  </thead>\n",
       "  <tbody>\n",
       "    <tr>\n",
       "      <th>2019-08-07</th>\n",
       "      <td>Central</td>\n",
       "      <td>Hermann</td>\n",
       "      <td>Shelli</td>\n",
       "      <td>Video Games</td>\n",
       "      <td>42</td>\n",
       "      <td>58.5</td>\n",
       "      <td>2457.0</td>\n",
       "    </tr>\n",
       "    <tr>\n",
       "      <th>2019-08-24</th>\n",
       "      <td>West</td>\n",
       "      <td>Timothy</td>\n",
       "      <td>Stephen</td>\n",
       "      <td>Desk</td>\n",
       "      <td>3</td>\n",
       "      <td>125.0</td>\n",
       "      <td>375.0</td>\n",
       "    </tr>\n",
       "    <tr>\n",
       "      <th>2019-09-10</th>\n",
       "      <td>Central</td>\n",
       "      <td>Timothy</td>\n",
       "      <td>David</td>\n",
       "      <td>Television</td>\n",
       "      <td>7</td>\n",
       "      <td>1198.0</td>\n",
       "      <td>8386.0</td>\n",
       "    </tr>\n",
       "    <tr>\n",
       "      <th>2019-02-01</th>\n",
       "      <td>Central</td>\n",
       "      <td>Douglas</td>\n",
       "      <td>John</td>\n",
       "      <td>Home Theater</td>\n",
       "      <td>87</td>\n",
       "      <td>500.0</td>\n",
       "      <td>43500.0</td>\n",
       "    </tr>\n",
       "    <tr>\n",
       "      <th>2019-02-18</th>\n",
       "      <td>East</td>\n",
       "      <td>Martha</td>\n",
       "      <td>Alexander</td>\n",
       "      <td>Home Theater</td>\n",
       "      <td>4</td>\n",
       "      <td>500.0</td>\n",
       "      <td>2000.0</td>\n",
       "    </tr>\n",
       "    <tr>\n",
       "      <th>2019-03-07</th>\n",
       "      <td>West</td>\n",
       "      <td>Timothy</td>\n",
       "      <td>Stephen</td>\n",
       "      <td>Home Theater</td>\n",
       "      <td>7</td>\n",
       "      <td>500.0</td>\n",
       "      <td>3500.0</td>\n",
       "    </tr>\n",
       "    <tr>\n",
       "      <th>2019-03-24</th>\n",
       "      <td>Central</td>\n",
       "      <td>Hermann</td>\n",
       "      <td>Luis</td>\n",
       "      <td>Video Games</td>\n",
       "      <td>50</td>\n",
       "      <td>58.5</td>\n",
       "      <td>2925.0</td>\n",
       "    </tr>\n",
       "    <tr>\n",
       "      <th>2019-04-10</th>\n",
       "      <td>Central</td>\n",
       "      <td>Martha</td>\n",
       "      <td>Steven</td>\n",
       "      <td>Television</td>\n",
       "      <td>66</td>\n",
       "      <td>1198.0</td>\n",
       "      <td>79068.0</td>\n",
       "    </tr>\n",
       "    <tr>\n",
       "      <th>2019-04-27</th>\n",
       "      <td>East</td>\n",
       "      <td>Martha</td>\n",
       "      <td>Diana</td>\n",
       "      <td>Cell Phone</td>\n",
       "      <td>96</td>\n",
       "      <td>225.0</td>\n",
       "      <td>21600.0</td>\n",
       "    </tr>\n",
       "    <tr>\n",
       "      <th>2019-05-14</th>\n",
       "      <td>Central</td>\n",
       "      <td>Timothy</td>\n",
       "      <td>David</td>\n",
       "      <td>Television</td>\n",
       "      <td>53</td>\n",
       "      <td>1198.0</td>\n",
       "      <td>63494.0</td>\n",
       "    </tr>\n",
       "    <tr>\n",
       "      <th>2019-05-31</th>\n",
       "      <td>Central</td>\n",
       "      <td>Timothy</td>\n",
       "      <td>David</td>\n",
       "      <td>Home Theater</td>\n",
       "      <td>80</td>\n",
       "      <td>500.0</td>\n",
       "      <td>40000.0</td>\n",
       "    </tr>\n",
       "    <tr>\n",
       "      <th>2019-06-17</th>\n",
       "      <td>Central</td>\n",
       "      <td>Hermann</td>\n",
       "      <td>Shelli</td>\n",
       "      <td>Desk</td>\n",
       "      <td>5</td>\n",
       "      <td>125.0</td>\n",
       "      <td>625.0</td>\n",
       "    </tr>\n",
       "    <tr>\n",
       "      <th>2019-07-04</th>\n",
       "      <td>East</td>\n",
       "      <td>Martha</td>\n",
       "      <td>Alexander</td>\n",
       "      <td>Video Games</td>\n",
       "      <td>62</td>\n",
       "      <td>58.5</td>\n",
       "      <td>3627.0</td>\n",
       "    </tr>\n",
       "    <tr>\n",
       "      <th>2019-07-21</th>\n",
       "      <td>Central</td>\n",
       "      <td>Hermann</td>\n",
       "      <td>Sigal</td>\n",
       "      <td>Video Games</td>\n",
       "      <td>55</td>\n",
       "      <td>58.5</td>\n",
       "      <td>3217.5</td>\n",
       "    </tr>\n",
       "    <tr>\n",
       "      <th>2019-08-07</th>\n",
       "      <td>Central</td>\n",
       "      <td>Hermann</td>\n",
       "      <td>Shelli</td>\n",
       "      <td>Video Games</td>\n",
       "      <td>42</td>\n",
       "      <td>58.5</td>\n",
       "      <td>2457.0</td>\n",
       "    </tr>\n",
       "    <tr>\n",
       "      <th>2019-08-24</th>\n",
       "      <td>West</td>\n",
       "      <td>Timothy</td>\n",
       "      <td>Stephen</td>\n",
       "      <td>Desk</td>\n",
       "      <td>3</td>\n",
       "      <td>125.0</td>\n",
       "      <td>375.0</td>\n",
       "    </tr>\n",
       "    <tr>\n",
       "      <th>2019-09-10</th>\n",
       "      <td>Central</td>\n",
       "      <td>Timothy</td>\n",
       "      <td>David</td>\n",
       "      <td>Television</td>\n",
       "      <td>7</td>\n",
       "      <td>1198.0</td>\n",
       "      <td>8386.0</td>\n",
       "    </tr>\n",
       "    <tr>\n",
       "      <th>2019-09-27</th>\n",
       "      <td>West</td>\n",
       "      <td>Timothy</td>\n",
       "      <td>Stephen</td>\n",
       "      <td>Cell Phone</td>\n",
       "      <td>76</td>\n",
       "      <td>225.0</td>\n",
       "      <td>17100.0</td>\n",
       "    </tr>\n",
       "    <tr>\n",
       "      <th>2019-10-14</th>\n",
       "      <td>West</td>\n",
       "      <td>Douglas</td>\n",
       "      <td>Michael</td>\n",
       "      <td>Home Theater</td>\n",
       "      <td>57</td>\n",
       "      <td>500.0</td>\n",
       "      <td>28500.0</td>\n",
       "    </tr>\n",
       "    <tr>\n",
       "      <th>2019-10-31</th>\n",
       "      <td>Central</td>\n",
       "      <td>Martha</td>\n",
       "      <td>Steven</td>\n",
       "      <td>Television</td>\n",
       "      <td>14</td>\n",
       "      <td>1198.0</td>\n",
       "      <td>16772.0</td>\n",
       "    </tr>\n",
       "    <tr>\n",
       "      <th>2019-11-17</th>\n",
       "      <td>Central</td>\n",
       "      <td>Hermann</td>\n",
       "      <td>Luis</td>\n",
       "      <td>Home Theater</td>\n",
       "      <td>11</td>\n",
       "      <td>500.0</td>\n",
       "      <td>5500.0</td>\n",
       "    </tr>\n",
       "    <tr>\n",
       "      <th>2019-12-04</th>\n",
       "      <td>Central</td>\n",
       "      <td>Hermann</td>\n",
       "      <td>Luis</td>\n",
       "      <td>Home Theater</td>\n",
       "      <td>94</td>\n",
       "      <td>500.0</td>\n",
       "      <td>47000.0</td>\n",
       "    </tr>\n",
       "    <tr>\n",
       "      <th>2019-12-21</th>\n",
       "      <td>Central</td>\n",
       "      <td>Martha</td>\n",
       "      <td>Steven</td>\n",
       "      <td>Home Theater</td>\n",
       "      <td>28</td>\n",
       "      <td>500.0</td>\n",
       "      <td>14000.0</td>\n",
       "    </tr>\n",
       "    <tr>\n",
       "      <th>2019-04-27</th>\n",
       "      <td>East</td>\n",
       "      <td>Martha</td>\n",
       "      <td>Diana</td>\n",
       "      <td>Cell Phone</td>\n",
       "      <td>96</td>\n",
       "      <td>225.0</td>\n",
       "      <td>21600.0</td>\n",
       "    </tr>\n",
       "    <tr>\n",
       "      <th>2019-02-01</th>\n",
       "      <td>Central</td>\n",
       "      <td>Douglas</td>\n",
       "      <td>John</td>\n",
       "      <td>Home Theater</td>\n",
       "      <td>87</td>\n",
       "      <td>500.0</td>\n",
       "      <td>43500.0</td>\n",
       "    </tr>\n",
       "    <tr>\n",
       "      <th>2019-03-24</th>\n",
       "      <td>Central</td>\n",
       "      <td>Hermann</td>\n",
       "      <td>Luis</td>\n",
       "      <td>Video Games</td>\n",
       "      <td>50</td>\n",
       "      <td>58.5</td>\n",
       "      <td>2925.0</td>\n",
       "    </tr>\n",
       "    <tr>\n",
       "      <th>2019-04-10</th>\n",
       "      <td>Central</td>\n",
       "      <td>Martha</td>\n",
       "      <td>Steven</td>\n",
       "      <td>Television</td>\n",
       "      <td>66</td>\n",
       "      <td>1198.0</td>\n",
       "      <td>79068.0</td>\n",
       "    </tr>\n",
       "    <tr>\n",
       "      <th>2019-04-27</th>\n",
       "      <td>East</td>\n",
       "      <td>Martha</td>\n",
       "      <td>Diana</td>\n",
       "      <td>Cell Phone</td>\n",
       "      <td>96</td>\n",
       "      <td>225.0</td>\n",
       "      <td>21600.0</td>\n",
       "    </tr>\n",
       "    <tr>\n",
       "      <th>2019-05-14</th>\n",
       "      <td>Central</td>\n",
       "      <td>Timothy</td>\n",
       "      <td>David</td>\n",
       "      <td>Television</td>\n",
       "      <td>53</td>\n",
       "      <td>1198.0</td>\n",
       "      <td>63494.0</td>\n",
       "    </tr>\n",
       "  </tbody>\n",
       "</table>\n",
       "</div>"
      ],
      "text/plain": [
       "             Region  Manager   SalesMan          Item  Units  Unit_price  \\\n",
       "OrderDate                                                                  \n",
       "2019-08-07  Central  Hermann     Shelli   Video Games     42        58.5   \n",
       "2019-08-24     West  Timothy    Stephen          Desk      3       125.0   \n",
       "2019-09-10  Central  Timothy      David    Television      7      1198.0   \n",
       "2019-02-01  Central  Douglas       John  Home Theater     87       500.0   \n",
       "2019-02-18     East   Martha  Alexander  Home Theater      4       500.0   \n",
       "2019-03-07     West  Timothy    Stephen  Home Theater      7       500.0   \n",
       "2019-03-24  Central  Hermann       Luis   Video Games     50        58.5   \n",
       "2019-04-10  Central   Martha     Steven    Television     66      1198.0   \n",
       "2019-04-27     East   Martha      Diana    Cell Phone     96       225.0   \n",
       "2019-05-14  Central  Timothy      David    Television     53      1198.0   \n",
       "2019-05-31  Central  Timothy      David  Home Theater     80       500.0   \n",
       "2019-06-17  Central  Hermann     Shelli          Desk      5       125.0   \n",
       "2019-07-04     East   Martha  Alexander   Video Games     62        58.5   \n",
       "2019-07-21  Central  Hermann      Sigal   Video Games     55        58.5   \n",
       "2019-08-07  Central  Hermann     Shelli   Video Games     42        58.5   \n",
       "2019-08-24     West  Timothy    Stephen          Desk      3       125.0   \n",
       "2019-09-10  Central  Timothy      David    Television      7      1198.0   \n",
       "2019-09-27     West  Timothy    Stephen    Cell Phone     76       225.0   \n",
       "2019-10-14     West  Douglas    Michael  Home Theater     57       500.0   \n",
       "2019-10-31  Central   Martha     Steven    Television     14      1198.0   \n",
       "2019-11-17  Central  Hermann       Luis  Home Theater     11       500.0   \n",
       "2019-12-04  Central  Hermann       Luis  Home Theater     94       500.0   \n",
       "2019-12-21  Central   Martha     Steven  Home Theater     28       500.0   \n",
       "2019-04-27     East   Martha      Diana    Cell Phone     96       225.0   \n",
       "2019-02-01  Central  Douglas       John  Home Theater     87       500.0   \n",
       "2019-03-24  Central  Hermann       Luis   Video Games     50        58.5   \n",
       "2019-04-10  Central   Martha     Steven    Television     66      1198.0   \n",
       "2019-04-27     East   Martha      Diana    Cell Phone     96       225.0   \n",
       "2019-05-14  Central  Timothy      David    Television     53      1198.0   \n",
       "\n",
       "            Sale_amt  \n",
       "OrderDate             \n",
       "2019-08-07    2457.0  \n",
       "2019-08-24     375.0  \n",
       "2019-09-10    8386.0  \n",
       "2019-02-01   43500.0  \n",
       "2019-02-18    2000.0  \n",
       "2019-03-07    3500.0  \n",
       "2019-03-24    2925.0  \n",
       "2019-04-10   79068.0  \n",
       "2019-04-27   21600.0  \n",
       "2019-05-14   63494.0  \n",
       "2019-05-31   40000.0  \n",
       "2019-06-17     625.0  \n",
       "2019-07-04    3627.0  \n",
       "2019-07-21    3217.5  \n",
       "2019-08-07    2457.0  \n",
       "2019-08-24     375.0  \n",
       "2019-09-10    8386.0  \n",
       "2019-09-27   17100.0  \n",
       "2019-10-14   28500.0  \n",
       "2019-10-31   16772.0  \n",
       "2019-11-17    5500.0  \n",
       "2019-12-04   47000.0  \n",
       "2019-12-21   14000.0  \n",
       "2019-04-27   21600.0  \n",
       "2019-02-01   43500.0  \n",
       "2019-03-24    2925.0  \n",
       "2019-04-10   79068.0  \n",
       "2019-04-27   21600.0  \n",
       "2019-05-14   63494.0  "
      ]
     },
     "execution_count": 12,
     "metadata": {},
     "output_type": "execute_result"
    }
   ],
   "source": [
    "data['2019-02-01':]"
   ]
  },
  {
   "cell_type": "markdown",
   "id": "84442881",
   "metadata": {},
   "source": [
    "# Creating DateTime using datetime library"
   ]
  },
  {
   "cell_type": "code",
   "execution_count": 13,
   "id": "2c55a679",
   "metadata": {},
   "outputs": [],
   "source": [
    "from datetime import datetime"
   ]
  },
  {
   "cell_type": "code",
   "execution_count": 14,
   "id": "ae24dc8f",
   "metadata": {},
   "outputs": [],
   "source": [
    "data=datetime(2003,8,4)"
   ]
  },
  {
   "cell_type": "code",
   "execution_count": 15,
   "id": "3cedb4f4",
   "metadata": {},
   "outputs": [
    {
     "data": {
      "text/plain": [
       "datetime.datetime(2003, 8, 4, 0, 0)"
      ]
     },
     "execution_count": 15,
     "metadata": {},
     "output_type": "execute_result"
    }
   ],
   "source": [
    "data"
   ]
  },
  {
   "cell_type": "code",
   "execution_count": 16,
   "id": "5a9085f1",
   "metadata": {},
   "outputs": [
    {
     "data": {
      "text/plain": [
       "2003"
      ]
     },
     "execution_count": 16,
     "metadata": {},
     "output_type": "execute_result"
    }
   ],
   "source": [
    "data.year"
   ]
  },
  {
   "cell_type": "code",
   "execution_count": 17,
   "id": "2a8fa83b",
   "metadata": {},
   "outputs": [
    {
     "data": {
      "text/plain": [
       "8"
      ]
     },
     "execution_count": 17,
     "metadata": {},
     "output_type": "execute_result"
    }
   ],
   "source": [
    "data.month"
   ]
  },
  {
   "cell_type": "code",
   "execution_count": 18,
   "id": "7e6770cc",
   "metadata": {},
   "outputs": [
    {
     "data": {
      "text/plain": [
       "4"
      ]
     },
     "execution_count": 18,
     "metadata": {},
     "output_type": "execute_result"
    }
   ],
   "source": [
    "data.day"
   ]
  },
  {
   "cell_type": "code",
   "execution_count": 19,
   "id": "e02e8494",
   "metadata": {},
   "outputs": [
    {
     "data": {
      "text/plain": [
       "0"
      ]
     },
     "execution_count": 19,
     "metadata": {},
     "output_type": "execute_result"
    }
   ],
   "source": [
    "data.minute"
   ]
  },
  {
   "cell_type": "code",
   "execution_count": 20,
   "id": "342b451b",
   "metadata": {},
   "outputs": [],
   "source": [
    "data=datetime(2024,11,1,8,58,33)"
   ]
  },
  {
   "cell_type": "code",
   "execution_count": 21,
   "id": "1bcbb170",
   "metadata": {},
   "outputs": [
    {
     "data": {
      "text/plain": [
       "datetime.datetime(2024, 11, 1, 8, 58, 33)"
      ]
     },
     "execution_count": 21,
     "metadata": {},
     "output_type": "execute_result"
    }
   ],
   "source": [
    "data"
   ]
  },
  {
   "cell_type": "code",
   "execution_count": 22,
   "id": "aaa4ad62",
   "metadata": {},
   "outputs": [
    {
     "data": {
      "text/plain": [
       "33"
      ]
     },
     "execution_count": 22,
     "metadata": {},
     "output_type": "execute_result"
    }
   ],
   "source": [
    "data.second"
   ]
  },
  {
   "cell_type": "code",
   "execution_count": 23,
   "id": "62909efe",
   "metadata": {},
   "outputs": [
    {
     "data": {
      "text/plain": [
       "8"
      ]
     },
     "execution_count": 23,
     "metadata": {},
     "output_type": "execute_result"
    }
   ],
   "source": [
    "data.hour"
   ]
  },
  {
   "cell_type": "code",
   "execution_count": 24,
   "id": "9fdf4d0c",
   "metadata": {},
   "outputs": [
    {
     "data": {
      "text/plain": [
       "0"
      ]
     },
     "execution_count": 24,
     "metadata": {},
     "output_type": "execute_result"
    }
   ],
   "source": [
    "data.microsecond"
   ]
  },
  {
   "cell_type": "code",
   "execution_count": 25,
   "id": "374826d4",
   "metadata": {},
   "outputs": [],
   "source": [
    "today=datetime.now()"
   ]
  },
  {
   "cell_type": "code",
   "execution_count": 26,
   "id": "9123e289",
   "metadata": {},
   "outputs": [
    {
     "data": {
      "text/plain": [
       "datetime.datetime(2024, 11, 2, 2, 6, 53, 395816)"
      ]
     },
     "execution_count": 26,
     "metadata": {},
     "output_type": "execute_result"
    }
   ],
   "source": [
    "today"
   ]
  },
  {
   "cell_type": "code",
   "execution_count": 27,
   "id": "97e796f7",
   "metadata": {},
   "outputs": [
    {
     "data": {
      "text/plain": [
       "2"
      ]
     },
     "execution_count": 27,
     "metadata": {},
     "output_type": "execute_result"
    }
   ],
   "source": [
    "today.day"
   ]
  },
  {
   "cell_type": "code",
   "execution_count": 28,
   "id": "1a0dec96",
   "metadata": {},
   "outputs": [
    {
     "data": {
      "text/plain": [
       "11"
      ]
     },
     "execution_count": 28,
     "metadata": {},
     "output_type": "execute_result"
    }
   ],
   "source": [
    "today.month"
   ]
  },
  {
   "cell_type": "markdown",
   "id": "d16af02d",
   "metadata": {},
   "source": [
    "# Creating dates using Pandas Date Time stamp function"
   ]
  },
  {
   "cell_type": "markdown",
   "id": "def9ab77",
   "metadata": {},
   "source": [
    "# Timestamp objects"
   ]
  },
  {
   "cell_type": "code",
   "execution_count": 29,
   "id": "1945d7c8",
   "metadata": {},
   "outputs": [],
   "source": [
    "date=pd.Timestamp('2002-9-2')"
   ]
  },
  {
   "cell_type": "code",
   "execution_count": 30,
   "id": "7a401c91",
   "metadata": {},
   "outputs": [
    {
     "data": {
      "text/plain": [
       "Timestamp('2002-09-02 00:00:00')"
      ]
     },
     "execution_count": 30,
     "metadata": {},
     "output_type": "execute_result"
    }
   ],
   "source": [
    "date"
   ]
  },
  {
   "cell_type": "code",
   "execution_count": 31,
   "id": "87f71e9e",
   "metadata": {},
   "outputs": [
    {
     "data": {
      "text/plain": [
       "Timestamp('2003-08-01 00:00:00')"
      ]
     },
     "execution_count": 31,
     "metadata": {},
     "output_type": "execute_result"
    }
   ],
   "source": [
    "pd.Timestamp(\"2003,04,08\") # create the date by pandas stamp function "
   ]
  },
  {
   "cell_type": "code",
   "execution_count": 32,
   "id": "815b5d2c",
   "metadata": {},
   "outputs": [
    {
     "data": {
      "text/plain": [
       "Timestamp('2024-11-02 02:06:53.507302')"
      ]
     },
     "execution_count": 32,
     "metadata": {},
     "output_type": "execute_result"
    }
   ],
   "source": [
    "pd.Timestamp(\"now\")"
   ]
  },
  {
   "cell_type": "markdown",
   "id": "8b046a5b",
   "metadata": {},
   "source": [
    "# Timedelta\n",
    "- A difference between two pandas Timestamp objects is represented by a timedelta object, which is a representation of an exact difference in time.\n",
    "- These are common as results of determining the duration between two dates or to calculate the date at a specific interval of time from another date and/or time."
   ]
  },
  {
   "cell_type": "code",
   "execution_count": 33,
   "id": "40e40449",
   "metadata": {},
   "outputs": [],
   "source": [
    "today=datetime.now()"
   ]
  },
  {
   "cell_type": "code",
   "execution_count": 34,
   "id": "fc921030",
   "metadata": {},
   "outputs": [
    {
     "data": {
      "text/plain": [
       "datetime.datetime(2024, 11, 2, 2, 6, 53, 517038)"
      ]
     },
     "execution_count": 34,
     "metadata": {},
     "output_type": "execute_result"
    }
   ],
   "source": [
    "today"
   ]
  },
  {
   "cell_type": "code",
   "execution_count": 35,
   "id": "c7bcbcbd",
   "metadata": {},
   "outputs": [
    {
     "data": {
      "text/plain": [
       "Timedelta('2 days 00:00:00')"
      ]
     },
     "execution_count": 35,
     "metadata": {},
     "output_type": "execute_result"
    }
   ],
   "source": [
    "pd.Timedelta(days=2)"
   ]
  },
  {
   "cell_type": "code",
   "execution_count": 36,
   "id": "a0368d61",
   "metadata": {},
   "outputs": [],
   "source": [
    "Tommoro=today+pd.Timedelta(days=1)"
   ]
  },
  {
   "cell_type": "code",
   "execution_count": 37,
   "id": "db2a0d64",
   "metadata": {},
   "outputs": [
    {
     "data": {
      "text/plain": [
       "datetime.datetime(2024, 11, 3, 2, 6, 53, 517038)"
      ]
     },
     "execution_count": 37,
     "metadata": {},
     "output_type": "execute_result"
    }
   ],
   "source": [
    "Tommoro"
   ]
  },
  {
   "cell_type": "code",
   "execution_count": 38,
   "id": "2a161b48",
   "metadata": {},
   "outputs": [],
   "source": [
    "next_10day=today+pd.Timedelta(days=10)"
   ]
  },
  {
   "cell_type": "code",
   "execution_count": 39,
   "id": "32ed85a1",
   "metadata": {},
   "outputs": [
    {
     "data": {
      "text/plain": [
       "datetime.datetime(2024, 11, 12, 2, 6, 53, 517038)"
      ]
     },
     "execution_count": 39,
     "metadata": {},
     "output_type": "execute_result"
    }
   ],
   "source": [
    "next_10day"
   ]
  },
  {
   "cell_type": "code",
   "execution_count": 40,
   "id": "e7d65e7e",
   "metadata": {},
   "outputs": [
    {
     "data": {
      "text/plain": [
       "datetime.datetime(2024, 12, 2, 2, 6, 53, 517038)"
      ]
     },
     "execution_count": 40,
     "metadata": {},
     "output_type": "execute_result"
    }
   ],
   "source": [
    "next_month=today+pd.Timedelta(days=30)\n",
    "next_month"
   ]
  },
  {
   "cell_type": "code",
   "execution_count": 41,
   "id": "4c7cc896",
   "metadata": {},
   "outputs": [],
   "source": [
    "date1=datetime(2024,11,1)\n",
    "date2=datetime(2023,11,8)"
   ]
  },
  {
   "cell_type": "code",
   "execution_count": 42,
   "id": "efb2cc04",
   "metadata": {},
   "outputs": [
    {
     "data": {
      "text/plain": [
       "datetime.timedelta(days=359)"
      ]
     },
     "execution_count": 42,
     "metadata": {},
     "output_type": "execute_result"
    }
   ],
   "source": [
    "date1-date2"
   ]
  },
  {
   "cell_type": "markdown",
   "id": "8c3f1f4b",
   "metadata": {},
   "source": [
    "# Introducing time-series data"
   ]
  },
  {
   "cell_type": "markdown",
   "id": "8f0a9418",
   "metadata": {},
   "source": [
    "# DatetimeIndex"
   ]
  },
  {
   "cell_type": "markdown",
   "id": "5e2b1a60",
   "metadata": {},
   "source": [
    "- Time series analysis looks at data collected over time. For example, a time series metric could be the amount of inventory sold in a store from one day to the next. Often patterns emerge that can predict and prevent issues. A sudden drop in sales would be expensive for the company, so it would help to understand what events precede and predict this kind of change. Time series data is everywhere. As our world becomes increasingly instrumented, sensors and systems emit a relentless stream of time series data."
   ]
  },
  {
   "cell_type": "markdown",
   "id": "ed4eab6e",
   "metadata": {},
   "source": [
    "# Linear vs. nonlinear time series data\n",
    "- A linear time series is one where, for each data point Xt, that data point can be viewed as a linear combination of past or future values or differences. Nonlinear time series are generated by nonlinear dynamic equations. They have features that cannot be modelled by linear processes: time-changing variance, asymmetric cycles, higher-moment structures, thresholds and breaks. Here are some important considerations when working with linear and nonlinear time series data:\n",
    "\n",
    "- If a regression equation doesn’t follow the rules for a linear model, then it must be a nonlinear model.\n",
    "  Nonlinear regression can fit an enormous variety of curves.\n",
    "  The defining characteristic for both types of models are the functional forms."
   ]
  },
  {
   "cell_type": "code",
   "execution_count": 43,
   "id": "fb78e4f2",
   "metadata": {},
   "outputs": [],
   "source": [
    "series=pd.Series([1,2,3,4,5],index=[\"cat\",\"dog\",\"cow\",'lion','Tiger'])"
   ]
  },
  {
   "cell_type": "code",
   "execution_count": 44,
   "id": "f9e0c530",
   "metadata": {},
   "outputs": [
    {
     "data": {
      "text/plain": [
       "cat      1\n",
       "dog      2\n",
       "cow      3\n",
       "lion     4\n",
       "Tiger    5\n",
       "dtype: int64"
      ]
     },
     "execution_count": 44,
     "metadata": {},
     "output_type": "execute_result"
    }
   ],
   "source": [
    "series"
   ]
  },
  {
   "cell_type": "code",
   "execution_count": 45,
   "id": "b0700abb",
   "metadata": {},
   "outputs": [],
   "source": [
    "dates=[ datetime(2024,10,2),datetime(2024,10,8),datetime(2024,10,18),datetime(2024,10,30),datetime(2024,11,1)]"
   ]
  },
  {
   "cell_type": "code",
   "execution_count": 46,
   "id": "e8c83874",
   "metadata": {},
   "outputs": [
    {
     "data": {
      "text/plain": [
       "[datetime.datetime(2024, 10, 2, 0, 0),\n",
       " datetime.datetime(2024, 10, 8, 0, 0),\n",
       " datetime.datetime(2024, 10, 18, 0, 0),\n",
       " datetime.datetime(2024, 10, 30, 0, 0),\n",
       " datetime.datetime(2024, 11, 1, 0, 0)]"
      ]
     },
     "execution_count": 46,
     "metadata": {},
     "output_type": "execute_result"
    }
   ],
   "source": [
    "dates"
   ]
  },
  {
   "cell_type": "code",
   "execution_count": 47,
   "id": "3a024ea9",
   "metadata": {},
   "outputs": [],
   "source": [
    "ts=pd.Series([1000,24000,20040,201440,21412],dates) # we make the time series data"
   ]
  },
  {
   "cell_type": "code",
   "execution_count": 48,
   "id": "41c5775b",
   "metadata": {},
   "outputs": [
    {
     "data": {
      "text/plain": [
       "2024-10-02      1000\n",
       "2024-10-08     24000\n",
       "2024-10-18     20040\n",
       "2024-10-30    201440\n",
       "2024-11-01     21412\n",
       "dtype: int64"
      ]
     },
     "execution_count": 48,
     "metadata": {},
     "output_type": "execute_result"
    }
   ],
   "source": [
    "ts"
   ]
  },
  {
   "cell_type": "code",
   "execution_count": 49,
   "id": "33c5a1f8",
   "metadata": {},
   "outputs": [
    {
     "data": {
      "text/plain": [
       "DatetimeIndex(['2024-10-02', '2024-10-08', '2024-10-18', '2024-10-30',\n",
       "               '2024-11-01'],\n",
       "              dtype='datetime64[ns]', freq=None)"
      ]
     },
     "execution_count": 49,
     "metadata": {},
     "output_type": "execute_result"
    }
   ],
   "source": [
    "ts.index"
   ]
  },
  {
   "cell_type": "code",
   "execution_count": 50,
   "id": "506f2ea4",
   "metadata": {},
   "outputs": [
    {
     "data": {
      "text/plain": [
       "array([  1000,  24000,  20040, 201440,  21412], dtype=int64)"
      ]
     },
     "execution_count": 50,
     "metadata": {},
     "output_type": "execute_result"
    }
   ],
   "source": [
    "ts.values"
   ]
  },
  {
   "cell_type": "code",
   "execution_count": 51,
   "id": "20461929",
   "metadata": {},
   "outputs": [
    {
     "data": {
      "text/plain": [
       "<bound method IndexOpsMixin.value_counts of 2024-10-02      1000\n",
       "2024-10-08     24000\n",
       "2024-10-18     20040\n",
       "2024-10-30    201440\n",
       "2024-11-01     21412\n",
       "dtype: int64>"
      ]
     },
     "execution_count": 51,
     "metadata": {},
     "output_type": "execute_result"
    }
   ],
   "source": [
    "ts.value_counts"
   ]
  },
  {
   "cell_type": "markdown",
   "id": "5430c0f7",
   "metadata": {},
   "source": [
    "# Converting a string into date"
   ]
  },
  {
   "cell_type": "markdown",
   "id": "21cc30c4",
   "metadata": {},
   "source": [
    "# Using pd.to_datetime"
   ]
  },
  {
   "cell_type": "code",
   "execution_count": 52,
   "id": "10109e72",
   "metadata": {},
   "outputs": [
    {
     "data": {
      "text/plain": [
       "(Timestamp('2024-11-01 00:00:00'), datetime.datetime(2024, 11, 1, 0, 0))"
      ]
     },
     "execution_count": 52,
     "metadata": {},
     "output_type": "execute_result"
    }
   ],
   "source": [
    "pd.to_datetime(\"2024-11-1\"),datetime(2024,11,1)"
   ]
  },
  {
   "cell_type": "code",
   "execution_count": 53,
   "id": "8f618788",
   "metadata": {},
   "outputs": [
    {
     "data": {
      "text/plain": [
       "DatetimeIndex(['2003-01-01', 'NaT', '2023-02-03'], dtype='datetime64[ns]', freq=None)"
      ]
     },
     "execution_count": 53,
     "metadata": {},
     "output_type": "execute_result"
    }
   ],
   "source": [
    "pd.to_datetime([\"jan 1,2003\",'Agu 3,2023','2023.2.3'],errors='coerce')"
   ]
  },
  {
   "cell_type": "markdown",
   "id": "b5cf80a9",
   "metadata": {},
   "source": [
    "# Random date time and values"
   ]
  },
  {
   "cell_type": "markdown",
   "id": "8ff9ed69",
   "metadata": {},
   "source": [
    "# using date range"
   ]
  },
  {
   "cell_type": "code",
   "execution_count": 54,
   "id": "64eedeb0",
   "metadata": {},
   "outputs": [],
   "source": [
    "np.random.seed(123456)\n",
    "period1=pd.date_range('8/1/2003',periods=100)\n",
    "period2=pd.date_range(\"2003\",periods=100)\n",
    "\n",
    "date_series1=pd.Series(np.random.randn(100),index=period1)\n",
    "date_series2=pd.Series(np.random.randn(100),index=period2)"
   ]
  },
  {
   "cell_type": "code",
   "execution_count": 55,
   "id": "175aaedc",
   "metadata": {},
   "outputs": [
    {
     "data": {
      "text/plain": [
       "2003-08-01    0.469112\n",
       "2003-08-02   -0.282863\n",
       "2003-08-03   -1.509059\n",
       "2003-08-04   -1.135632\n",
       "2003-08-05    1.212112\n",
       "                ...   \n",
       "2003-11-04   -1.369849\n",
       "2003-11-05   -0.954208\n",
       "2003-11-06    1.462696\n",
       "2003-11-07   -1.743161\n",
       "2003-11-08   -0.826591\n",
       "Freq: D, Length: 100, dtype: float64"
      ]
     },
     "execution_count": 55,
     "metadata": {},
     "output_type": "execute_result"
    }
   ],
   "source": [
    "date_series1"
   ]
  },
  {
   "cell_type": "code",
   "execution_count": 56,
   "id": "06d3423a",
   "metadata": {},
   "outputs": [
    {
     "data": {
      "text/plain": [
       "2003-01-01   -0.345352\n",
       "2003-01-02    1.314232\n",
       "2003-01-03    0.690579\n",
       "2003-01-04    0.995761\n",
       "2003-01-05    2.396780\n",
       "                ...   \n",
       "2003-04-06    0.227371\n",
       "2003-04-07   -0.496922\n",
       "2003-04-08    0.306389\n",
       "2003-04-09   -2.290613\n",
       "2003-04-10   -1.134623\n",
       "Freq: D, Length: 100, dtype: float64"
      ]
     },
     "execution_count": 56,
     "metadata": {},
     "output_type": "execute_result"
    }
   ],
   "source": [
    "date_series2"
   ]
  },
  {
   "cell_type": "code",
   "execution_count": 57,
   "id": "7a89b21b",
   "metadata": {},
   "outputs": [
    {
     "data": {
      "text/plain": [
       "2003-08-01    0.469112\n",
       "2003-08-02   -0.282863\n",
       "2003-08-03   -1.509059\n",
       "2003-08-04   -1.135632\n",
       "2003-08-05    1.212112\n",
       "Freq: D, dtype: float64"
      ]
     },
     "execution_count": 57,
     "metadata": {},
     "output_type": "execute_result"
    }
   ],
   "source": [
    "date_series1['8/1/2003':'8/5/2003']"
   ]
  },
  {
   "cell_type": "markdown",
   "id": "5804ac7e",
   "metadata": {},
   "source": [
    "# Creating time-series data with specific frequencies"
   ]
  },
  {
   "cell_type": "code",
   "execution_count": 58,
   "id": "fce7d879",
   "metadata": {},
   "outputs": [
    {
     "data": {
      "text/plain": [
       "DatetimeIndex(['2024-08-02', '2024-08-03', '2024-08-04', '2024-08-05',\n",
       "               '2024-08-06', '2024-08-07', '2024-08-08', '2024-08-09',\n",
       "               '2024-08-10', '2024-08-11', '2024-08-12', '2024-08-13',\n",
       "               '2024-08-14', '2024-08-15', '2024-08-16', '2024-08-17',\n",
       "               '2024-08-18', '2024-08-19', '2024-08-20', '2024-08-21',\n",
       "               '2024-08-22', '2024-08-23', '2024-08-24', '2024-08-25',\n",
       "               '2024-08-26', '2024-08-27', '2024-08-28', '2024-08-29',\n",
       "               '2024-08-30', '2024-08-31', '2024-09-01', '2024-09-02',\n",
       "               '2024-09-03', '2024-09-04', '2024-09-05', '2024-09-06',\n",
       "               '2024-09-07', '2024-09-08', '2024-09-09', '2024-09-10',\n",
       "               '2024-09-11', '2024-09-12', '2024-09-13', '2024-09-14',\n",
       "               '2024-09-15', '2024-09-16', '2024-09-17', '2024-09-18',\n",
       "               '2024-09-19', '2024-09-20', '2024-09-21', '2024-09-22',\n",
       "               '2024-09-23', '2024-09-24', '2024-09-25', '2024-09-26',\n",
       "               '2024-09-27', '2024-09-28', '2024-09-29', '2024-09-30',\n",
       "               '2024-10-01', '2024-10-02', '2024-10-03', '2024-10-04',\n",
       "               '2024-10-05', '2024-10-06', '2024-10-07', '2024-10-08',\n",
       "               '2024-10-09', '2024-10-10', '2024-10-11', '2024-10-12',\n",
       "               '2024-10-13', '2024-10-14', '2024-10-15', '2024-10-16',\n",
       "               '2024-10-17', '2024-10-18', '2024-10-19', '2024-10-20',\n",
       "               '2024-10-21', '2024-10-22', '2024-10-23', '2024-10-24',\n",
       "               '2024-10-25', '2024-10-26', '2024-10-27', '2024-10-28',\n",
       "               '2024-10-29', '2024-10-30'],\n",
       "              dtype='datetime64[ns]', freq='D')"
      ]
     },
     "execution_count": 58,
     "metadata": {},
     "output_type": "execute_result"
    }
   ],
   "source": [
    "pd.date_range(\"2024-8-2\",'2024-10-30')"
   ]
  },
  {
   "cell_type": "code",
   "execution_count": 59,
   "id": "a5a2f5db",
   "metadata": {},
   "outputs": [
    {
     "data": {
      "text/plain": [
       "92"
      ]
     },
     "execution_count": 59,
     "metadata": {},
     "output_type": "execute_result"
    }
   ],
   "source": [
    "len(pd.date_range(\"2024-8-2\",'2024-11-1'))"
   ]
  },
  {
   "cell_type": "code",
   "execution_count": 60,
   "id": "97ed255c",
   "metadata": {},
   "outputs": [
    {
     "data": {
      "text/plain": [
       "132480"
      ]
     },
     "execution_count": 60,
     "metadata": {},
     "output_type": "execute_result"
    }
   ],
   "source": [
    "len(pd.date_range(\"2024-8-2\",'2024-11-1'))*24*60"
   ]
  },
  {
   "cell_type": "code",
   "execution_count": 61,
   "id": "39106d97",
   "metadata": {},
   "outputs": [],
   "source": [
    "np.random.seed(123456)\n",
    "\n",
    "by_hours=pd.Series(np.random.randn(131697),pd.date_range(\"2024-8-2\",'2024-11-1 10:56 ' ,freq='T'))"
   ]
  },
  {
   "cell_type": "code",
   "execution_count": 62,
   "id": "c7260b3a",
   "metadata": {},
   "outputs": [
    {
     "data": {
      "text/plain": [
       "2024-08-02 00:00:00    0.469112\n",
       "2024-08-02 00:01:00   -0.282863\n",
       "2024-08-02 00:02:00   -1.509059\n",
       "2024-08-02 00:03:00   -1.135632\n",
       "2024-08-02 00:04:00    1.212112\n",
       "                         ...   \n",
       "2024-11-01 10:52:00   -0.936283\n",
       "2024-11-01 10:53:00    0.686148\n",
       "2024-11-01 10:54:00    0.839616\n",
       "2024-11-01 10:55:00    1.672606\n",
       "2024-11-01 10:56:00    0.764387\n",
       "Freq: T, Length: 131697, dtype: float64"
      ]
     },
     "execution_count": 62,
     "metadata": {},
     "output_type": "execute_result"
    }
   ],
   "source": [
    "by_hours"
   ]
  },
  {
   "cell_type": "raw",
   "id": "2e32da1f",
   "metadata": {},
   "source": [
    "Alias Description\n",
    "            B Business day frequency\n",
    "            C Custom business day frequency\n",
    "            D Calendar day frequency (the default)\n",
    "            W Weekly frequency\n",
    "            M Month end frequency\n",
    "            BM Business month end frequency\n",
    "            CBM Custom business month end frequency\n",
    "            MS Month start frequency\n",
    "            BMS Business month start frequency\n",
    "            CBMS Custom business month start frequency\n",
    "            Q Quarter end frequency\n",
    "            BQ Business quarter frequency\n",
    "            QS Quarter start frequency\n",
    "            BQS Business quarter start frequency\n",
    "            A Year end frequency\n",
    "            BA Business year-end frequency\n",
    "            AS Year start frequency\n",
    "            BAS Business year start frequency\n",
    "            H Hourly frequency\n",
    "            T Minute-by-minute frequency\n",
    "            S Second-by-second frequency\n",
    "            L Milliseconds\n",
    "            U Microseconds"
   ]
  },
  {
   "cell_type": "code",
   "execution_count": 63,
   "id": "8ba34721",
   "metadata": {},
   "outputs": [],
   "source": [
    "days=pd.date_range(\"2024-10-2\",'2024-12-2',freq='d')"
   ]
  },
  {
   "cell_type": "code",
   "execution_count": 64,
   "id": "a7f522bc",
   "metadata": {},
   "outputs": [
    {
     "data": {
      "text/plain": [
       "DatetimeIndex(['2024-10-02', '2024-10-03', '2024-10-04', '2024-10-05',\n",
       "               '2024-10-06', '2024-10-07', '2024-10-08', '2024-10-09',\n",
       "               '2024-10-10', '2024-10-11', '2024-10-12', '2024-10-13',\n",
       "               '2024-10-14', '2024-10-15', '2024-10-16', '2024-10-17',\n",
       "               '2024-10-18', '2024-10-19', '2024-10-20', '2024-10-21',\n",
       "               '2024-10-22', '2024-10-23', '2024-10-24', '2024-10-25',\n",
       "               '2024-10-26', '2024-10-27', '2024-10-28', '2024-10-29',\n",
       "               '2024-10-30', '2024-10-31', '2024-11-01', '2024-11-02',\n",
       "               '2024-11-03', '2024-11-04', '2024-11-05', '2024-11-06',\n",
       "               '2024-11-07', '2024-11-08', '2024-11-09', '2024-11-10',\n",
       "               '2024-11-11', '2024-11-12', '2024-11-13', '2024-11-14',\n",
       "               '2024-11-15', '2024-11-16', '2024-11-17', '2024-11-18',\n",
       "               '2024-11-19', '2024-11-20', '2024-11-21', '2024-11-22',\n",
       "               '2024-11-23', '2024-11-24', '2024-11-25', '2024-11-26',\n",
       "               '2024-11-27', '2024-11-28', '2024-11-29', '2024-11-30',\n",
       "               '2024-12-01', '2024-12-02'],\n",
       "              dtype='datetime64[ns]', freq='D')"
      ]
     },
     "execution_count": 64,
     "metadata": {},
     "output_type": "execute_result"
    }
   ],
   "source": [
    "days\n"
   ]
  },
  {
   "cell_type": "code",
   "execution_count": 65,
   "id": "001b71b3",
   "metadata": {},
   "outputs": [
    {
     "data": {
      "text/plain": [
       "DatetimeIndex(['2023-02-05', '2023-02-12', '2023-02-19', '2023-02-26',\n",
       "               '2023-03-05', '2023-03-12', '2023-03-19', '2023-03-26',\n",
       "               '2023-04-02', '2023-04-09', '2023-04-16', '2023-04-23',\n",
       "               '2023-04-30', '2023-05-07', '2023-05-14', '2023-05-21',\n",
       "               '2023-05-28', '2023-06-04', '2023-06-11', '2023-06-18',\n",
       "               '2023-06-25', '2023-07-02', '2023-07-09', '2023-07-16',\n",
       "               '2023-07-23', '2023-07-30', '2023-08-06', '2023-08-13',\n",
       "               '2023-08-20', '2023-08-27', '2023-09-03', '2023-09-10',\n",
       "               '2023-09-17', '2023-09-24', '2023-10-01', '2023-10-08',\n",
       "               '2023-10-15', '2023-10-22', '2023-10-29', '2023-11-05',\n",
       "               '2023-11-12', '2023-11-19', '2023-11-26', '2023-12-03',\n",
       "               '2023-12-10', '2023-12-17', '2023-12-24', '2023-12-31',\n",
       "               '2024-01-07', '2024-01-14', '2024-01-21', '2024-01-28',\n",
       "               '2024-02-04', '2024-02-11', '2024-02-18', '2024-02-25',\n",
       "               '2024-03-03'],\n",
       "              dtype='datetime64[ns]', freq='W-SUN')"
      ]
     },
     "execution_count": 65,
     "metadata": {},
     "output_type": "execute_result"
    }
   ],
   "source": [
    "weakly=pd.date_range('2023-2-3','2024-3-5',freq='w')\n",
    "weakly"
   ]
  },
  {
   "cell_type": "code",
   "execution_count": 66,
   "id": "1257fee8",
   "metadata": {},
   "outputs": [
    {
     "data": {
      "text/plain": [
       "DatetimeIndex(['2023-02-28', '2023-03-31', '2023-04-30', '2023-05-31',\n",
       "               '2023-06-30', '2023-07-31', '2023-08-31', '2023-09-30',\n",
       "               '2023-10-31', '2023-11-30', '2023-12-31', '2024-01-31',\n",
       "               '2024-02-29'],\n",
       "              dtype='datetime64[ns]', freq='M')"
      ]
     },
     "execution_count": 66,
     "metadata": {},
     "output_type": "execute_result"
    }
   ],
   "source": [
    "monthly=pd.date_range('2023-2-3','2024-3-5',freq='M')\n",
    "monthly"
   ]
  },
  {
   "cell_type": "code",
   "execution_count": 67,
   "id": "8d6ea405",
   "metadata": {},
   "outputs": [
    {
     "data": {
      "text/plain": [
       "DatetimeIndex(['2023-12-31'], dtype='datetime64[ns]', freq='A-DEC')"
      ]
     },
     "execution_count": 67,
     "metadata": {},
     "output_type": "execute_result"
    }
   ],
   "source": [
    "Yearly=pd.date_range('2023-2-3','2024-3-5',freq='Y')\n",
    "Yearly"
   ]
  },
  {
   "cell_type": "code",
   "execution_count": 68,
   "id": "19176c17",
   "metadata": {},
   "outputs": [
    {
     "data": {
      "text/plain": [
       "DatetimeIndex(['2023-02-03', '2023-02-06', '2023-02-07', '2023-02-08',\n",
       "               '2023-02-09', '2023-02-10', '2023-02-13', '2023-02-14',\n",
       "               '2023-02-15', '2023-02-16',\n",
       "               ...\n",
       "               '2024-02-21', '2024-02-22', '2024-02-23', '2024-02-26',\n",
       "               '2024-02-27', '2024-02-28', '2024-02-29', '2024-03-01',\n",
       "               '2024-03-04', '2024-03-05'],\n",
       "              dtype='datetime64[ns]', length=283, freq='B')"
      ]
     },
     "execution_count": 68,
     "metadata": {},
     "output_type": "execute_result"
    }
   ],
   "source": [
    "Bussiness_days=pd.date_range('2023-2-3','2024-3-5',freq='B')\n",
    "Bussiness_days"
   ]
  },
  {
   "cell_type": "code",
   "execution_count": 69,
   "id": "0015a3ce",
   "metadata": {},
   "outputs": [
    {
     "data": {
      "text/plain": [
       "DatetimeIndex(['2023-12-29'], dtype='datetime64[ns]', freq='BA-DEC')"
      ]
     },
     "execution_count": 69,
     "metadata": {},
     "output_type": "execute_result"
    }
   ],
   "source": [
    "Bussiness_year_end=pd.date_range('2023-2-3','2024-3-5',freq='BA')\n",
    "Bussiness_year_end"
   ]
  },
  {
   "cell_type": "code",
   "execution_count": 70,
   "id": "0575040b",
   "metadata": {},
   "outputs": [
    {
     "data": {
      "text/plain": [
       "DatetimeIndex(['2024-11-01 11:08:39', '2024-11-01 11:08:40',\n",
       "               '2024-11-01 11:08:41', '2024-11-01 11:08:42',\n",
       "               '2024-11-01 11:08:43', '2024-11-01 11:08:44',\n",
       "               '2024-11-01 11:08:45', '2024-11-01 11:08:46',\n",
       "               '2024-11-01 11:08:47', '2024-11-01 11:08:48'],\n",
       "              dtype='datetime64[ns]', freq='S')"
      ]
     },
     "execution_count": 70,
     "metadata": {},
     "output_type": "execute_result"
    }
   ],
   "source": [
    "# Peroide will use the frequency is the increament \n",
    "pd.date_range(\"2024-11-1 11:08:39\",freq='S',periods=10)"
   ]
  },
  {
   "cell_type": "code",
   "execution_count": 71,
   "id": "93f8208e",
   "metadata": {},
   "outputs": [
    {
     "data": {
      "text/plain": [
       "array(['2023-02-03T00:00:00.000000000', '2023-02-06T00:00:00.000000000',\n",
       "       '2023-02-07T00:00:00.000000000', '2023-02-08T00:00:00.000000000',\n",
       "       '2023-02-09T00:00:00.000000000', '2023-02-10T00:00:00.000000000',\n",
       "       '2023-02-13T00:00:00.000000000', '2023-02-14T00:00:00.000000000',\n",
       "       '2023-02-15T00:00:00.000000000', '2023-02-16T00:00:00.000000000',\n",
       "       '2023-02-17T00:00:00.000000000', '2023-02-20T00:00:00.000000000',\n",
       "       '2023-02-21T00:00:00.000000000', '2023-02-22T00:00:00.000000000',\n",
       "       '2023-02-23T00:00:00.000000000', '2023-02-24T00:00:00.000000000',\n",
       "       '2023-02-27T00:00:00.000000000', '2023-02-28T00:00:00.000000000',\n",
       "       '2023-03-01T00:00:00.000000000', '2023-03-02T00:00:00.000000000',\n",
       "       '2023-03-03T00:00:00.000000000', '2023-03-06T00:00:00.000000000',\n",
       "       '2023-03-07T00:00:00.000000000', '2023-03-08T00:00:00.000000000',\n",
       "       '2023-03-09T00:00:00.000000000', '2023-03-10T00:00:00.000000000',\n",
       "       '2023-03-13T00:00:00.000000000', '2023-03-14T00:00:00.000000000',\n",
       "       '2023-03-15T00:00:00.000000000', '2023-03-16T00:00:00.000000000',\n",
       "       '2023-03-17T00:00:00.000000000', '2023-03-20T00:00:00.000000000',\n",
       "       '2023-03-21T00:00:00.000000000', '2023-03-22T00:00:00.000000000',\n",
       "       '2023-03-23T00:00:00.000000000', '2023-03-24T00:00:00.000000000',\n",
       "       '2023-03-27T00:00:00.000000000', '2023-03-28T00:00:00.000000000',\n",
       "       '2023-03-29T00:00:00.000000000', '2023-03-30T00:00:00.000000000',\n",
       "       '2023-03-31T00:00:00.000000000', '2023-04-03T00:00:00.000000000',\n",
       "       '2023-04-04T00:00:00.000000000', '2023-04-05T00:00:00.000000000',\n",
       "       '2023-04-06T00:00:00.000000000', '2023-04-07T00:00:00.000000000',\n",
       "       '2023-04-10T00:00:00.000000000', '2023-04-11T00:00:00.000000000',\n",
       "       '2023-04-12T00:00:00.000000000', '2023-04-13T00:00:00.000000000',\n",
       "       '2023-04-14T00:00:00.000000000', '2023-04-17T00:00:00.000000000',\n",
       "       '2023-04-18T00:00:00.000000000', '2023-04-19T00:00:00.000000000',\n",
       "       '2023-04-20T00:00:00.000000000', '2023-04-21T00:00:00.000000000',\n",
       "       '2023-04-24T00:00:00.000000000', '2023-04-25T00:00:00.000000000',\n",
       "       '2023-04-26T00:00:00.000000000', '2023-04-27T00:00:00.000000000',\n",
       "       '2023-04-28T00:00:00.000000000', '2023-05-01T00:00:00.000000000',\n",
       "       '2023-05-02T00:00:00.000000000', '2023-05-03T00:00:00.000000000',\n",
       "       '2023-05-04T00:00:00.000000000', '2023-05-05T00:00:00.000000000',\n",
       "       '2023-05-08T00:00:00.000000000', '2023-05-09T00:00:00.000000000',\n",
       "       '2023-05-10T00:00:00.000000000', '2023-05-11T00:00:00.000000000',\n",
       "       '2023-05-12T00:00:00.000000000', '2023-05-15T00:00:00.000000000',\n",
       "       '2023-05-16T00:00:00.000000000', '2023-05-17T00:00:00.000000000',\n",
       "       '2023-05-18T00:00:00.000000000', '2023-05-19T00:00:00.000000000',\n",
       "       '2023-05-22T00:00:00.000000000', '2023-05-23T00:00:00.000000000',\n",
       "       '2023-05-24T00:00:00.000000000', '2023-05-25T00:00:00.000000000',\n",
       "       '2023-05-26T00:00:00.000000000', '2023-05-29T00:00:00.000000000',\n",
       "       '2023-05-30T00:00:00.000000000', '2023-05-31T00:00:00.000000000',\n",
       "       '2023-06-01T00:00:00.000000000', '2023-06-02T00:00:00.000000000',\n",
       "       '2023-06-05T00:00:00.000000000', '2023-06-06T00:00:00.000000000',\n",
       "       '2023-06-07T00:00:00.000000000', '2023-06-08T00:00:00.000000000',\n",
       "       '2023-06-09T00:00:00.000000000', '2023-06-12T00:00:00.000000000',\n",
       "       '2023-06-13T00:00:00.000000000', '2023-06-14T00:00:00.000000000',\n",
       "       '2023-06-15T00:00:00.000000000', '2023-06-16T00:00:00.000000000',\n",
       "       '2023-06-19T00:00:00.000000000', '2023-06-20T00:00:00.000000000',\n",
       "       '2023-06-21T00:00:00.000000000', '2023-06-22T00:00:00.000000000',\n",
       "       '2023-06-23T00:00:00.000000000', '2023-06-26T00:00:00.000000000',\n",
       "       '2023-06-27T00:00:00.000000000', '2023-06-28T00:00:00.000000000',\n",
       "       '2023-06-29T00:00:00.000000000', '2023-06-30T00:00:00.000000000',\n",
       "       '2023-07-03T00:00:00.000000000', '2023-07-04T00:00:00.000000000',\n",
       "       '2023-07-05T00:00:00.000000000', '2023-07-06T00:00:00.000000000',\n",
       "       '2023-07-07T00:00:00.000000000', '2023-07-10T00:00:00.000000000',\n",
       "       '2023-07-11T00:00:00.000000000', '2023-07-12T00:00:00.000000000',\n",
       "       '2023-07-13T00:00:00.000000000', '2023-07-14T00:00:00.000000000',\n",
       "       '2023-07-17T00:00:00.000000000', '2023-07-18T00:00:00.000000000',\n",
       "       '2023-07-19T00:00:00.000000000', '2023-07-20T00:00:00.000000000',\n",
       "       '2023-07-21T00:00:00.000000000', '2023-07-24T00:00:00.000000000',\n",
       "       '2023-07-25T00:00:00.000000000', '2023-07-26T00:00:00.000000000',\n",
       "       '2023-07-27T00:00:00.000000000', '2023-07-28T00:00:00.000000000',\n",
       "       '2023-07-31T00:00:00.000000000', '2023-08-01T00:00:00.000000000',\n",
       "       '2023-08-02T00:00:00.000000000', '2023-08-03T00:00:00.000000000',\n",
       "       '2023-08-04T00:00:00.000000000', '2023-08-07T00:00:00.000000000',\n",
       "       '2023-08-08T00:00:00.000000000', '2023-08-09T00:00:00.000000000',\n",
       "       '2023-08-10T00:00:00.000000000', '2023-08-11T00:00:00.000000000',\n",
       "       '2023-08-14T00:00:00.000000000', '2023-08-15T00:00:00.000000000',\n",
       "       '2023-08-16T00:00:00.000000000', '2023-08-17T00:00:00.000000000',\n",
       "       '2023-08-18T00:00:00.000000000', '2023-08-21T00:00:00.000000000',\n",
       "       '2023-08-22T00:00:00.000000000', '2023-08-23T00:00:00.000000000',\n",
       "       '2023-08-24T00:00:00.000000000', '2023-08-25T00:00:00.000000000',\n",
       "       '2023-08-28T00:00:00.000000000', '2023-08-29T00:00:00.000000000',\n",
       "       '2023-08-30T00:00:00.000000000', '2023-08-31T00:00:00.000000000',\n",
       "       '2023-09-01T00:00:00.000000000', '2023-09-04T00:00:00.000000000',\n",
       "       '2023-09-05T00:00:00.000000000', '2023-09-06T00:00:00.000000000',\n",
       "       '2023-09-07T00:00:00.000000000', '2023-09-08T00:00:00.000000000',\n",
       "       '2023-09-11T00:00:00.000000000', '2023-09-12T00:00:00.000000000',\n",
       "       '2023-09-13T00:00:00.000000000', '2023-09-14T00:00:00.000000000',\n",
       "       '2023-09-15T00:00:00.000000000', '2023-09-18T00:00:00.000000000',\n",
       "       '2023-09-19T00:00:00.000000000', '2023-09-20T00:00:00.000000000',\n",
       "       '2023-09-21T00:00:00.000000000', '2023-09-22T00:00:00.000000000',\n",
       "       '2023-09-25T00:00:00.000000000', '2023-09-26T00:00:00.000000000',\n",
       "       '2023-09-27T00:00:00.000000000', '2023-09-28T00:00:00.000000000',\n",
       "       '2023-09-29T00:00:00.000000000', '2023-10-02T00:00:00.000000000',\n",
       "       '2023-10-03T00:00:00.000000000', '2023-10-04T00:00:00.000000000',\n",
       "       '2023-10-05T00:00:00.000000000', '2023-10-06T00:00:00.000000000',\n",
       "       '2023-10-09T00:00:00.000000000', '2023-10-10T00:00:00.000000000',\n",
       "       '2023-10-11T00:00:00.000000000', '2023-10-12T00:00:00.000000000',\n",
       "       '2023-10-13T00:00:00.000000000', '2023-10-16T00:00:00.000000000',\n",
       "       '2023-10-17T00:00:00.000000000', '2023-10-18T00:00:00.000000000',\n",
       "       '2023-10-19T00:00:00.000000000', '2023-10-20T00:00:00.000000000',\n",
       "       '2023-10-23T00:00:00.000000000', '2023-10-24T00:00:00.000000000',\n",
       "       '2023-10-25T00:00:00.000000000', '2023-10-26T00:00:00.000000000',\n",
       "       '2023-10-27T00:00:00.000000000', '2023-10-30T00:00:00.000000000',\n",
       "       '2023-10-31T00:00:00.000000000', '2023-11-01T00:00:00.000000000',\n",
       "       '2023-11-02T00:00:00.000000000', '2023-11-03T00:00:00.000000000',\n",
       "       '2023-11-06T00:00:00.000000000', '2023-11-07T00:00:00.000000000',\n",
       "       '2023-11-08T00:00:00.000000000', '2023-11-09T00:00:00.000000000',\n",
       "       '2023-11-10T00:00:00.000000000', '2023-11-13T00:00:00.000000000',\n",
       "       '2023-11-14T00:00:00.000000000', '2023-11-15T00:00:00.000000000',\n",
       "       '2023-11-16T00:00:00.000000000', '2023-11-17T00:00:00.000000000',\n",
       "       '2023-11-20T00:00:00.000000000', '2023-11-21T00:00:00.000000000',\n",
       "       '2023-11-22T00:00:00.000000000', '2023-11-23T00:00:00.000000000',\n",
       "       '2023-11-24T00:00:00.000000000', '2023-11-27T00:00:00.000000000',\n",
       "       '2023-11-28T00:00:00.000000000', '2023-11-29T00:00:00.000000000',\n",
       "       '2023-11-30T00:00:00.000000000', '2023-12-01T00:00:00.000000000',\n",
       "       '2023-12-04T00:00:00.000000000', '2023-12-05T00:00:00.000000000',\n",
       "       '2023-12-06T00:00:00.000000000', '2023-12-07T00:00:00.000000000',\n",
       "       '2023-12-08T00:00:00.000000000', '2023-12-11T00:00:00.000000000',\n",
       "       '2023-12-12T00:00:00.000000000', '2023-12-13T00:00:00.000000000',\n",
       "       '2023-12-14T00:00:00.000000000', '2023-12-15T00:00:00.000000000',\n",
       "       '2023-12-18T00:00:00.000000000', '2023-12-19T00:00:00.000000000',\n",
       "       '2023-12-20T00:00:00.000000000', '2023-12-21T00:00:00.000000000',\n",
       "       '2023-12-22T00:00:00.000000000', '2023-12-25T00:00:00.000000000',\n",
       "       '2023-12-26T00:00:00.000000000', '2023-12-27T00:00:00.000000000',\n",
       "       '2023-12-28T00:00:00.000000000', '2023-12-29T00:00:00.000000000',\n",
       "       '2024-01-01T00:00:00.000000000', '2024-01-02T00:00:00.000000000',\n",
       "       '2024-01-03T00:00:00.000000000', '2024-01-04T00:00:00.000000000',\n",
       "       '2024-01-05T00:00:00.000000000', '2024-01-08T00:00:00.000000000',\n",
       "       '2024-01-09T00:00:00.000000000', '2024-01-10T00:00:00.000000000',\n",
       "       '2024-01-11T00:00:00.000000000', '2024-01-12T00:00:00.000000000',\n",
       "       '2024-01-15T00:00:00.000000000', '2024-01-16T00:00:00.000000000',\n",
       "       '2024-01-17T00:00:00.000000000', '2024-01-18T00:00:00.000000000',\n",
       "       '2024-01-19T00:00:00.000000000', '2024-01-22T00:00:00.000000000',\n",
       "       '2024-01-23T00:00:00.000000000', '2024-01-24T00:00:00.000000000',\n",
       "       '2024-01-25T00:00:00.000000000', '2024-01-26T00:00:00.000000000',\n",
       "       '2024-01-29T00:00:00.000000000', '2024-01-30T00:00:00.000000000',\n",
       "       '2024-01-31T00:00:00.000000000', '2024-02-01T00:00:00.000000000',\n",
       "       '2024-02-02T00:00:00.000000000', '2024-02-05T00:00:00.000000000',\n",
       "       '2024-02-06T00:00:00.000000000', '2024-02-07T00:00:00.000000000',\n",
       "       '2024-02-08T00:00:00.000000000', '2024-02-09T00:00:00.000000000',\n",
       "       '2024-02-12T00:00:00.000000000', '2024-02-13T00:00:00.000000000',\n",
       "       '2024-02-14T00:00:00.000000000', '2024-02-15T00:00:00.000000000',\n",
       "       '2024-02-16T00:00:00.000000000', '2024-02-19T00:00:00.000000000',\n",
       "       '2024-02-20T00:00:00.000000000', '2024-02-21T00:00:00.000000000',\n",
       "       '2024-02-22T00:00:00.000000000', '2024-02-23T00:00:00.000000000',\n",
       "       '2024-02-26T00:00:00.000000000', '2024-02-27T00:00:00.000000000',\n",
       "       '2024-02-28T00:00:00.000000000', '2024-02-29T00:00:00.000000000',\n",
       "       '2024-03-01T00:00:00.000000000', '2024-03-04T00:00:00.000000000'],\n",
       "      dtype='datetime64[ns]')"
      ]
     },
     "execution_count": 71,
     "metadata": {},
     "output_type": "execute_result"
    }
   ],
   "source": [
    "# get the business day betweeen two dates\n",
    "dt=pd.date_range(\"2023-2-3\",'2024-3-4',freq='B')\n",
    "dt.values"
   ]
  },
  {
   "cell_type": "code",
   "execution_count": 72,
   "id": "88dccd0a",
   "metadata": {},
   "outputs": [
    {
     "data": {
      "text/plain": [
       "<BusinessDay>"
      ]
     },
     "execution_count": 72,
     "metadata": {},
     "output_type": "execute_result"
    }
   ],
   "source": [
    "dt.freq"
   ]
  },
  {
   "cell_type": "markdown",
   "id": "ef2f4487",
   "metadata": {},
   "source": [
    "# Manipulating time-series data"
   ]
  },
  {
   "cell_type": "markdown",
   "id": "0d7e1537",
   "metadata": {},
   "source": [
    "We will now examine several common operations that are performed on time-series\n",
    "data. \n",
    "\n",
    "These operations entail realigning data, changing the frequency of the samples\n",
    "and their values, and calculating aggregate results on continuously moving subsets\n",
    "of the data to determine the behavior of the values in the data as time changes. We\n",
    "will examine each of the following:\n",
    "\n",
    "• Shifting and lagging values to calculate percentage changes\n",
    "\n",
    "• Changing the frequency of the data in the time series\n",
    "\n",
    "• Up and down sampling of the intervals and values in the time series\n",
    "\n",
    "• Performing rolling-window calculations"
   ]
  },
  {
   "cell_type": "markdown",
   "id": "52fec035",
   "metadata": {},
   "source": [
    "## Shifting and Lagging"
   ]
  },
  {
   "cell_type": "code",
   "execution_count": 73,
   "id": "104dc0a1",
   "metadata": {},
   "outputs": [
    {
     "data": {
      "text/plain": [
       "2024-11-01    1\n",
       "2024-11-02    2\n",
       "2024-11-03    3\n",
       "2024-11-04    4\n",
       "2024-11-05    5\n",
       "Freq: D, dtype: int64"
      ]
     },
     "execution_count": 73,
     "metadata": {},
     "output_type": "execute_result"
    }
   ],
   "source": [
    "# creating a Series to work on that\n",
    "np.random.seed(123456)\n",
    "ts=pd.Series([1,2,3,4,5],pd.date_range(\"2024-11-1\",periods=5))\n",
    "ts"
   ]
  },
  {
   "cell_type": "code",
   "execution_count": 74,
   "id": "12a8e7a5",
   "metadata": {},
   "outputs": [
    {
     "data": {
      "text/plain": [
       "2024-11-01    NaN\n",
       "2024-11-02    1.0\n",
       "2024-11-03    2.0\n",
       "2024-11-04    3.0\n",
       "2024-11-05    4.0\n",
       "Freq: D, dtype: float64"
      ]
     },
     "execution_count": 74,
     "metadata": {},
     "output_type": "execute_result"
    }
   ],
   "source": [
    "ts_shift1=ts.shift(1)\n",
    "ts_shift1"
   ]
  },
  {
   "cell_type": "code",
   "execution_count": 75,
   "id": "b36020e0",
   "metadata": {},
   "outputs": [
    {
     "data": {
      "text/plain": [
       "2024-11-01    NaN\n",
       "2024-11-02    NaN\n",
       "2024-11-03    1.0\n",
       "2024-11-04    2.0\n",
       "2024-11-05    3.0\n",
       "Freq: D, dtype: float64"
      ]
     },
     "execution_count": 75,
     "metadata": {},
     "output_type": "execute_result"
    }
   ],
   "source": [
    "ts_shift2=ts.shift(2)\n",
    "ts_shift2"
   ]
  },
  {
   "cell_type": "code",
   "execution_count": 76,
   "id": "0bb07128",
   "metadata": {},
   "outputs": [
    {
     "data": {
      "text/plain": [
       "2024-11-01         NaN\n",
       "2024-11-02    2.000000\n",
       "2024-11-03    1.500000\n",
       "2024-11-04    1.333333\n",
       "2024-11-05    1.250000\n",
       "Freq: D, dtype: float64"
      ]
     },
     "execution_count": 76,
     "metadata": {},
     "output_type": "execute_result"
    }
   ],
   "source": [
    "# calculate daily percentage change\n",
    "ts / ts.shift(1)"
   ]
  },
  {
   "cell_type": "markdown",
   "id": "029896f3",
   "metadata": {},
   "source": [
    "# Up and down resampling"
   ]
  },
  {
   "cell_type": "code",
   "execution_count": 77,
   "id": "f4e2bd0d",
   "metadata": {},
   "outputs": [
    {
     "data": {
      "text/plain": [
       "432000"
      ]
     },
     "execution_count": 77,
     "metadata": {},
     "output_type": "execute_result"
    }
   ],
   "source": [
    "# calculate the five day interavla time in second\n",
    "count=5*24*60*60\n",
    "count"
   ]
  },
  {
   "cell_type": "code",
   "execution_count": 78,
   "id": "b7744de7",
   "metadata": {},
   "outputs": [
    {
     "data": {
      "text/plain": [
       "array([ 0.4691123 , -0.28286334, -1.5090585 , ..., -0.84915078,\n",
       "       -0.25561844,  1.24406816])"
      ]
     },
     "execution_count": 78,
     "metadata": {},
     "output_type": "execute_result"
    }
   ],
   "source": [
    "np.random.seed(123456)\n",
    "values=np.random.randn(count)\n",
    "values"
   ]
  },
  {
   "cell_type": "code",
   "execution_count": 79,
   "id": "a1acac1a",
   "metadata": {},
   "outputs": [
    {
     "data": {
      "text/plain": [
       "0         0.469112\n",
       "1        -0.282863\n",
       "2        -1.509059\n",
       "3        -1.135632\n",
       "4         1.212112\n",
       "            ...   \n",
       "431995   -1.731289\n",
       "431996   -0.477632\n",
       "431997   -0.849151\n",
       "431998   -0.255618\n",
       "431999    1.244068\n",
       "Length: 432000, dtype: float64"
      ]
     },
     "execution_count": 79,
     "metadata": {},
     "output_type": "execute_result"
    }
   ],
   "source": [
    "ws=pd.Series(values)\n",
    "ws"
   ]
  },
  {
   "cell_type": "code",
   "execution_count": 80,
   "id": "fe269508",
   "metadata": {},
   "outputs": [],
   "source": [
    "w_second=pd.Series(values,pd.date_range(\"2024-11-2\",periods=432000,freq='S'))"
   ]
  },
  {
   "cell_type": "code",
   "execution_count": 81,
   "id": "df3d7bc2",
   "metadata": {},
   "outputs": [
    {
     "data": {
      "text/plain": [
       "2024-11-02 00:00:00    0.469112\n",
       "2024-11-02 00:00:01   -0.282863\n",
       "2024-11-02 00:00:02   -1.509059\n",
       "2024-11-02 00:00:03   -1.135632\n",
       "2024-11-02 00:00:04    1.212112\n",
       "                         ...   \n",
       "2024-11-06 23:59:55   -1.731289\n",
       "2024-11-06 23:59:56   -0.477632\n",
       "2024-11-06 23:59:57   -0.849151\n",
       "2024-11-06 23:59:58   -0.255618\n",
       "2024-11-06 23:59:59    1.244068\n",
       "Freq: S, Length: 432000, dtype: float64"
      ]
     },
     "execution_count": 81,
     "metadata": {},
     "output_type": "execute_result"
    }
   ],
   "source": [
    "w_second"
   ]
  },
  {
   "cell_type": "code",
   "execution_count": 82,
   "id": "8b8f3870",
   "metadata": {},
   "outputs": [
    {
     "data": {
      "text/plain": [
       "<Axes: >"
      ]
     },
     "execution_count": 82,
     "metadata": {},
     "output_type": "execute_result"
    },
    {
     "data": {
      "image/png": "[encoded data removed]",
      "text/plain": [
       "<Figure size 640x480 with 1 Axes>"
      ]
     },
     "metadata": {},
     "output_type": "display_data"
    }
   ],
   "source": [
    "w_hours=w_second.resample(rule=\"T\").mean()\n",
    "w_hours.plot()"
   ]
  },
  {
   "cell_type": "code",
   "execution_count": 83,
   "id": "e96f4894",
   "metadata": {},
   "outputs": [
    {
     "data": {
      "text/plain": [
       "<Axes: >"
      ]
     },
     "execution_count": 83,
     "metadata": {},
     "output_type": "execute_result"
    },
    {
     "data": {
      "image/png": "[encoded data removed]",
      "text/plain": [
       "<Figure size 640x480 with 1 Axes>"
      ]
     },
     "metadata": {},
     "output_type": "display_data"
    }
   ],
   "source": [
    "# calculate the walk\n",
    "walk = w_hours.cumsum()\n",
    "walk.plot()"
   ]
  },
  {
   "cell_type": "code",
   "execution_count": 84,
   "id": "4a57904a",
   "metadata": {},
   "outputs": [
    {
     "data": {
      "text/plain": [
       "<Axes: >"
      ]
     },
     "execution_count": 84,
     "metadata": {},
     "output_type": "execute_result"
    },
    {
     "data": {
      "image/png": "[encoded data removed]",
      "text/plain": [
       "<Figure size 640x480 with 1 Axes>"
      ]
     },
     "metadata": {},
     "output_type": "display_data"
    }
   ],
   "source": [
    "walk=w_second.cumsum()\n",
    "walk.plot()"
   ]
  },
  {
   "cell_type": "code",
   "execution_count": 86,
   "id": "ca589981",
   "metadata": {},
   "outputs": [
    {
     "data": {
      "text/plain": [
       "2024-11-02    0.384780\n",
       "2024-11-03    0.380220\n",
       "2024-11-04    0.442528\n",
       "2024-11-05    0.430089\n",
       "2024-11-06    0.389013\n",
       "Freq: D, dtype: float64"
      ]
     },
     "execution_count": 86,
     "metadata": {},
     "output_type": "execute_result"
    }
   ],
   "source": [
    "w_day=w_hours.resample(rule='D').max()\n",
    "w_day"
   ]
  },
  {
   "cell_type": "code",
   "execution_count": 87,
   "id": "5da3107f",
   "metadata": {},
   "outputs": [
    {
     "data": {
      "text/plain": [
       "<Axes: >"
      ]
     },
     "execution_count": 87,
     "metadata": {},
     "output_type": "execute_result"
    },
    {
     "data": {
      "image/png": "[encoded data removed]",
      "text/plain": [
       "<Figure size 640x480 with 1 Axes>"
      ]
     },
     "metadata": {},
     "output_type": "display_data"
    }
   ],
   "source": [
    "w_day=w_hours.resample(rule='D').max()\n",
    "w_day.plot()"
   ]
  },
  {
   "cell_type": "code",
   "execution_count": 88,
   "id": "7e1d61ea",
   "metadata": {},
   "outputs": [
    {
     "data": {
      "text/plain": [
       "<Axes: >"
      ]
     },
     "execution_count": 88,
     "metadata": {},
     "output_type": "execute_result"
    },
    {
     "data": {
      "image/png": "[encoded data removed]",
      "text/plain": [
       "<Figure size 640x480 with 1 Axes>"
      ]
     },
     "metadata": {},
     "output_type": "display_data"
    }
   ],
   "source": [
    "w_day=w_day.cumsum()\n",
    "w_day.plot()"
   ]
  },
  {
   "cell_type": "code",
   "execution_count": 92,
   "id": "d51d1d88",
   "metadata": {},
   "outputs": [
    {
     "name": "stderr",
     "output_type": "stream",
     "text": [
      "C:\\Users\\SAJID\\.jupyter\\anaconda.installed\\Lib\\site-packages\\pandas\\plotting\\_matplotlib\\core.py:1400: UserWarning: Attempting to set identical low and high xlims makes transformation singular; automatically expanding.\n",
      "  ax.set_xlim(left, right)\n"
     ]
    },
    {
     "data": {
      "text/plain": [
       "<Axes: >"
      ]
     },
     "execution_count": 92,
     "metadata": {},
     "output_type": "execute_result"
    },
    {
     "data": {
      "image/png": "[encoded data removed]",
      "text/plain": [
       "<Figure size 640x480 with 1 Axes>"
      ]
     },
     "metadata": {},
     "output_type": "display_data"
    }
   ],
   "source": [
    "w_minutes=w_second.resample(rule=\"5M\").mean()\n",
    "w_minutes.plot()"
   ]
  },
  {
   "cell_type": "code",
   "execution_count": 95,
   "id": "f78ab45a",
   "metadata": {},
   "outputs": [
    {
     "data": {
      "text/plain": [
       "<Axes: >"
      ]
     },
     "execution_count": 95,
     "metadata": {},
     "output_type": "execute_result"
    },
    {
     "data": {
      "image/png": "[encoded data removed]",
      "text/plain": [
       "<Figure size 640x480 with 1 Axes>"
      ]
     },
     "metadata": {},
     "output_type": "display_data"
    }
   ],
   "source": [
    "walk.resample(\"1H\").mean().plot()\n"
   ]
  },
  {
   "cell_type": "code",
   "execution_count": 96,
   "id": "bd478666",
   "metadata": {},
   "outputs": [
    {
     "data": {
      "text/plain": [
       "<Axes: >"
      ]
     },
     "execution_count": 96,
     "metadata": {},
     "output_type": "execute_result"
    },
    {
     "data": {
      "image/png": "[encoded data removed]",
      "text/plain": [
       "<Figure size 640x480 with 1 Axes>"
      ]
     },
     "metadata": {},
     "output_type": "display_data"
    }
   ],
   "source": [
    "walk.resample(\"1D\").mean().plot()"
   ]
  },
  {
   "cell_type": "markdown",
   "id": "5485a563",
   "metadata": {},
   "source": [
    "# Creating time-series charts with .plot()"
   ]
  },
  {
   "cell_type": "code",
   "execution_count": 97,
   "id": "84acd96b",
   "metadata": {},
   "outputs": [],
   "source": [
    "# generate a random walk time-series\n",
    "np.random.seed(123)\n",
    "s = pd.Series(np.random.randn(1096),\n",
    "index=pd.date_range('2012-01-01','2014-12-31'))\n",
    "walk_ts = s.cumsum()"
   ]
  },
  {
   "cell_type": "code",
   "execution_count": 99,
   "id": "b7c37317",
   "metadata": {},
   "outputs": [
    {
     "data": {
      "text/plain": [
       "<Axes: >"
      ]
     },
     "execution_count": 99,
     "metadata": {},
     "output_type": "execute_result"
    },
    {
     "data": {
      "image/png": "[encoded data removed]",
      "text/plain": [
       "<Figure size 640x480 with 1 Axes>"
      ]
     },
     "metadata": {},
     "output_type": "display_data"
    }
   ],
   "source": [
    "# plot this wlak just that easy\n",
    "s.plot()\n",
    "s.plot(grid=True)"
   ]
  },
  {
   "cell_type": "code",
   "execution_count": 100,
   "id": "23d03bc9",
   "metadata": {},
   "outputs": [
    {
     "data": {
      "text/plain": [
       "<Axes: >"
      ]
     },
     "execution_count": 100,
     "metadata": {},
     "output_type": "execute_result"
    },
    {
     "data": {
      "image/png": "[encoded data removed]",
      "text/plain": [
       "<Figure size 640x480 with 1 Axes>"
      ]
     },
     "metadata": {},
     "output_type": "display_data"
    }
   ],
   "source": [
    "walk_ts.plot()\n",
    "walk_ts.plot(grid=True)"
   ]
  },
  {
   "cell_type": "markdown",
   "id": "2864d728",
   "metadata": {},
   "source": [
    "# Manipulating time-series data"
   ]
  },
  {
   "cell_type": "raw",
   "id": "698c3dee",
   "metadata": {},
   "source": [
    "pandas provides a number of functions to compute moving (also known as rolling)\n",
    "statistics. In a rolling window, pandas computes the statistic on a window of data\n",
    "represented by a particular period of time. The window is then rolled along a certain\n",
    "interval, and the statistic is continually calculated on each window as long as the\n",
    "window fits within the dates of the time series.\n",
    "pandas provides direct support for rolling windows with the following functions:\n"
   ]
  },
  {
   "cell_type": "raw",
   "id": "aea5a0f1",
   "metadata": {},
   "source": [
    "Function Description\n",
    "rolling_mean The mean of values in the window\n",
    "rolling_std The standard deviation of values in the window\n",
    "rolling_var The variance of values\n",
    "rolling_min The minimum of values in the window\n",
    "rolling_max The maximum of values in the window\n",
    "rolling_cov The covariance of values\n",
    "rolling_quantile Moving window score at percentile/sample quantile\n",
    "rolling_corr The correlation of values in the window\n",
    "rolling_median The median of values in the window\n",
    "rolling_sum The sum of values in the window\n",
    "rolling_apply The application of a user function to values in the window\n",
    "rolling_count The number of non-NaN values in a window\n",
    "rolling_skew The skewedness of the values in the window\n",
    "rolling_kurt The kurtosis of values in the window\n"
   ]
  },
  {
   "cell_type": "raw",
   "id": "f20dc297",
   "metadata": {},
   "source": [
    "As a practical example, a rolling mean is commonly used to smooth out short-term\n",
    "fluctuations and highlight longer-term trends in data and is used quite commonly in\n",
    "financial time-series analysis"
   ]
  },
  {
   "cell_type": "code",
   "execution_count": 1,
   "id": "ae816ead",
   "metadata": {},
   "outputs": [
    {
     "data": {
      "text/html": [
       "<div>\n",
       "<style scoped>\n",
       "    .dataframe tbody tr th:only-of-type {\n",
       "        vertical-align: middle;\n",
       "    }\n",
       "\n",
       "    .dataframe tbody tr th {\n",
       "        vertical-align: top;\n",
       "    }\n",
       "\n",
       "    .dataframe thead th {\n",
       "        text-align: right;\n",
       "    }\n",
       "</style>\n",
       "<table border=\"1\" class=\"dataframe\">\n",
       "  <thead>\n",
       "    <tr style=\"text-align: right;\">\n",
       "      <th></th>\n",
       "      <th>period</th>\n",
       "      <th>leads</th>\n",
       "      <th>sales</th>\n",
       "    </tr>\n",
       "  </thead>\n",
       "  <tbody>\n",
       "    <tr>\n",
       "      <th>0</th>\n",
       "      <td>1</td>\n",
       "      <td>11.427457</td>\n",
       "      <td>61.417425</td>\n",
       "    </tr>\n",
       "    <tr>\n",
       "      <th>1</th>\n",
       "      <td>2</td>\n",
       "      <td>14.588598</td>\n",
       "      <td>64.900826</td>\n",
       "    </tr>\n",
       "    <tr>\n",
       "      <th>2</th>\n",
       "      <td>3</td>\n",
       "      <td>12.452504</td>\n",
       "      <td>66.698494</td>\n",
       "    </tr>\n",
       "    <tr>\n",
       "      <th>3</th>\n",
       "      <td>4</td>\n",
       "      <td>11.352780</td>\n",
       "      <td>64.927513</td>\n",
       "    </tr>\n",
       "    <tr>\n",
       "      <th>4</th>\n",
       "      <td>5</td>\n",
       "      <td>9.049441</td>\n",
       "      <td>73.720630</td>\n",
       "    </tr>\n",
       "    <tr>\n",
       "      <th>...</th>\n",
       "      <td>...</td>\n",
       "      <td>...</td>\n",
       "      <td>...</td>\n",
       "    </tr>\n",
       "    <tr>\n",
       "      <th>95</th>\n",
       "      <td>96</td>\n",
       "      <td>4.480636</td>\n",
       "      <td>284.716537</td>\n",
       "    </tr>\n",
       "    <tr>\n",
       "      <th>96</th>\n",
       "      <td>97</td>\n",
       "      <td>12.143746</td>\n",
       "      <td>215.034631</td>\n",
       "    </tr>\n",
       "    <tr>\n",
       "      <th>97</th>\n",
       "      <td>98</td>\n",
       "      <td>1.382043</td>\n",
       "      <td>222.212061</td>\n",
       "    </tr>\n",
       "    <tr>\n",
       "      <th>98</th>\n",
       "      <td>99</td>\n",
       "      <td>16.749861</td>\n",
       "      <td>235.451141</td>\n",
       "    </tr>\n",
       "    <tr>\n",
       "      <th>99</th>\n",
       "      <td>100</td>\n",
       "      <td>1.089214</td>\n",
       "      <td>260.873958</td>\n",
       "    </tr>\n",
       "  </tbody>\n",
       "</table>\n",
       "<p>100 rows × 3 columns</p>\n",
       "</div>"
      ],
      "text/plain": [
       "    period      leads       sales\n",
       "0        1  11.427457   61.417425\n",
       "1        2  14.588598   64.900826\n",
       "2        3  12.452504   66.698494\n",
       "3        4  11.352780   64.927513\n",
       "4        5   9.049441   73.720630\n",
       "..     ...        ...         ...\n",
       "95      96   4.480636  284.716537\n",
       "96      97  12.143746  215.034631\n",
       "97      98   1.382043  222.212061\n",
       "98      99  16.749861  235.451141\n",
       "99     100   1.089214  260.873958\n",
       "\n",
       "[100 rows x 3 columns]"
      ]
     },
     "execution_count": 1,
     "metadata": {},
     "output_type": "execute_result"
    }
   ],
   "source": [
    "import numpy as np\n",
    "import pandas as pd\n",
    "\n",
    "#make this example reproducible\n",
    "np.random.seed(0)\n",
    "\n",
    "#create dataset\n",
    "period = np.arange(1, 101, 1)\n",
    "leads = np.random.uniform(1, 20, 100)\n",
    "sales = 60 + 2*period + np.random.normal(loc=0, scale=.5*period, size=100)\n",
    "df = pd.DataFrame({'period': period, 'leads': leads, 'sales': sales})\n",
    "\n",
    "#view first 10 rows\n",
    "df"
   ]
  },
  {
   "cell_type": "code",
   "execution_count": 2,
   "id": "204f35c2",
   "metadata": {},
   "outputs": [
    {
     "data": {
      "text/plain": [
       "<Axes: >"
      ]
     },
     "execution_count": 2,
     "metadata": {},
     "output_type": "execute_result"
    },
    {
     "data": {
      "image/png": "[encoded data removed]",
      "text/plain": [
       "<Figure size 640x480 with 1 Axes>"
      ]
     },
     "metadata": {},
     "output_type": "display_data"
    }
   ],
   "source": [
    "df['sales'].plot()"
   ]
  },
  {
   "cell_type": "markdown",
   "id": "3bf21f8f",
   "metadata": {},
   "source": [
    "### We can use the following syntax to create a new column that contains the rolling mean of ‘sales’ for the previous 5 periods"
   ]
  },
  {
   "cell_type": "code",
   "execution_count": 3,
   "id": "d5c141f3",
   "metadata": {},
   "outputs": [
    {
     "data": {
      "text/html": [
       "<div>\n",
       "<style scoped>\n",
       "    .dataframe tbody tr th:only-of-type {\n",
       "        vertical-align: middle;\n",
       "    }\n",
       "\n",
       "    .dataframe tbody tr th {\n",
       "        vertical-align: top;\n",
       "    }\n",
       "\n",
       "    .dataframe thead th {\n",
       "        text-align: right;\n",
       "    }\n",
       "</style>\n",
       "<table border=\"1\" class=\"dataframe\">\n",
       "  <thead>\n",
       "    <tr style=\"text-align: right;\">\n",
       "      <th></th>\n",
       "      <th>period</th>\n",
       "      <th>leads</th>\n",
       "      <th>sales</th>\n",
       "      <th>rolling_sales_5</th>\n",
       "    </tr>\n",
       "  </thead>\n",
       "  <tbody>\n",
       "    <tr>\n",
       "      <th>0</th>\n",
       "      <td>1</td>\n",
       "      <td>11.427457</td>\n",
       "      <td>61.417425</td>\n",
       "      <td>61.417425</td>\n",
       "    </tr>\n",
       "    <tr>\n",
       "      <th>1</th>\n",
       "      <td>2</td>\n",
       "      <td>14.588598</td>\n",
       "      <td>64.900826</td>\n",
       "      <td>63.159126</td>\n",
       "    </tr>\n",
       "    <tr>\n",
       "      <th>2</th>\n",
       "      <td>3</td>\n",
       "      <td>12.452504</td>\n",
       "      <td>66.698494</td>\n",
       "      <td>64.338915</td>\n",
       "    </tr>\n",
       "    <tr>\n",
       "      <th>3</th>\n",
       "      <td>4</td>\n",
       "      <td>11.352780</td>\n",
       "      <td>64.927513</td>\n",
       "      <td>64.486064</td>\n",
       "    </tr>\n",
       "    <tr>\n",
       "      <th>4</th>\n",
       "      <td>5</td>\n",
       "      <td>9.049441</td>\n",
       "      <td>73.720630</td>\n",
       "      <td>66.332978</td>\n",
       "    </tr>\n",
       "    <tr>\n",
       "      <th>...</th>\n",
       "      <td>...</td>\n",
       "      <td>...</td>\n",
       "      <td>...</td>\n",
       "      <td>...</td>\n",
       "    </tr>\n",
       "    <tr>\n",
       "      <th>95</th>\n",
       "      <td>96</td>\n",
       "      <td>4.480636</td>\n",
       "      <td>284.716537</td>\n",
       "      <td>249.499179</td>\n",
       "    </tr>\n",
       "    <tr>\n",
       "      <th>96</th>\n",
       "      <td>97</td>\n",
       "      <td>12.143746</td>\n",
       "      <td>215.034631</td>\n",
       "      <td>240.773811</td>\n",
       "    </tr>\n",
       "    <tr>\n",
       "      <th>97</th>\n",
       "      <td>98</td>\n",
       "      <td>1.382043</td>\n",
       "      <td>222.212061</td>\n",
       "      <td>228.047698</td>\n",
       "    </tr>\n",
       "    <tr>\n",
       "      <th>98</th>\n",
       "      <td>99</td>\n",
       "      <td>16.749861</td>\n",
       "      <td>235.451141</td>\n",
       "      <td>231.657567</td>\n",
       "    </tr>\n",
       "    <tr>\n",
       "      <th>99</th>\n",
       "      <td>100</td>\n",
       "      <td>1.089214</td>\n",
       "      <td>260.873958</td>\n",
       "      <td>243.657666</td>\n",
       "    </tr>\n",
       "  </tbody>\n",
       "</table>\n",
       "<p>100 rows × 4 columns</p>\n",
       "</div>"
      ],
      "text/plain": [
       "    period      leads       sales  rolling_sales_5\n",
       "0        1  11.427457   61.417425        61.417425\n",
       "1        2  14.588598   64.900826        63.159126\n",
       "2        3  12.452504   66.698494        64.338915\n",
       "3        4  11.352780   64.927513        64.486064\n",
       "4        5   9.049441   73.720630        66.332978\n",
       "..     ...        ...         ...              ...\n",
       "95      96   4.480636  284.716537       249.499179\n",
       "96      97  12.143746  215.034631       240.773811\n",
       "97      98   1.382043  222.212061       228.047698\n",
       "98      99  16.749861  235.451141       231.657567\n",
       "99     100   1.089214  260.873958       243.657666\n",
       "\n",
       "[100 rows x 4 columns]"
      ]
     },
     "execution_count": 3,
     "metadata": {},
     "output_type": "execute_result"
    }
   ],
   "source": [
    "df[\"rolling_sales_5\"]=df[\"sales\"].rolling(5,min_periods=1).mean()\n",
    "df"
   ]
  },
  {
   "cell_type": "code",
   "execution_count": 5,
   "id": "0f713268",
   "metadata": {},
   "outputs": [
    {
     "data": {
      "text/plain": [
       "<Axes: >"
      ]
     },
     "execution_count": 5,
     "metadata": {},
     "output_type": "execute_result"
    },
    {
     "data": {
      "image/png": "[encoded data removed]",
      "text/plain": [
       "<Figure size 640x480 with 1 Axes>"
      ]
     },
     "metadata": {},
     "output_type": "display_data"
    }
   ],
   "source": [
    "df['sales'].plot()\n",
    "df[\"rolling_sales_5\"].plot()"
   ]
  },
  {
   "cell_type": "markdown",
   "id": "bed7b023",
   "metadata": {},
   "source": [
    "### We can manually verify that the rolling mean sales displayed for period 5 is the mean of the previous 5 periods"
   ]
  },
  {
   "cell_type": "markdown",
   "id": "d7a1147a",
   "metadata": {},
   "source": [
    "Rolling mean at period 5: (61.417+64.900+66.698+64.927+73.720)/5 = 66.33\n",
    "\n",
    "We can use similar syntax to calculate the rolling mean of multiple columns:"
   ]
  },
  {
   "cell_type": "code",
   "execution_count": 7,
   "id": "a2fdc341",
   "metadata": {},
   "outputs": [
    {
     "data": {
      "text/html": [
       "<div>\n",
       "<style scoped>\n",
       "    .dataframe tbody tr th:only-of-type {\n",
       "        vertical-align: middle;\n",
       "    }\n",
       "\n",
       "    .dataframe tbody tr th {\n",
       "        vertical-align: top;\n",
       "    }\n",
       "\n",
       "    .dataframe thead th {\n",
       "        text-align: right;\n",
       "    }\n",
       "</style>\n",
       "<table border=\"1\" class=\"dataframe\">\n",
       "  <thead>\n",
       "    <tr style=\"text-align: right;\">\n",
       "      <th></th>\n",
       "      <th>period</th>\n",
       "      <th>leads</th>\n",
       "      <th>sales</th>\n",
       "      <th>rolling_sales_5</th>\n",
       "      <th>rolling_sales_10</th>\n",
       "      <th>rolling_sales_15</th>\n",
       "      <th>rolling_sales_20</th>\n",
       "      <th>rolling_sales_25</th>\n",
       "    </tr>\n",
       "  </thead>\n",
       "  <tbody>\n",
       "    <tr>\n",
       "      <th>0</th>\n",
       "      <td>1</td>\n",
       "      <td>11.427457</td>\n",
       "      <td>61.417425</td>\n",
       "      <td>NaN</td>\n",
       "      <td>NaN</td>\n",
       "      <td>NaN</td>\n",
       "      <td>NaN</td>\n",
       "      <td>NaN</td>\n",
       "    </tr>\n",
       "    <tr>\n",
       "      <th>1</th>\n",
       "      <td>2</td>\n",
       "      <td>14.588598</td>\n",
       "      <td>64.900826</td>\n",
       "      <td>NaN</td>\n",
       "      <td>NaN</td>\n",
       "      <td>NaN</td>\n",
       "      <td>NaN</td>\n",
       "      <td>NaN</td>\n",
       "    </tr>\n",
       "    <tr>\n",
       "      <th>2</th>\n",
       "      <td>3</td>\n",
       "      <td>12.452504</td>\n",
       "      <td>66.698494</td>\n",
       "      <td>NaN</td>\n",
       "      <td>NaN</td>\n",
       "      <td>NaN</td>\n",
       "      <td>NaN</td>\n",
       "      <td>NaN</td>\n",
       "    </tr>\n",
       "    <tr>\n",
       "      <th>3</th>\n",
       "      <td>4</td>\n",
       "      <td>11.352780</td>\n",
       "      <td>64.927513</td>\n",
       "      <td>NaN</td>\n",
       "      <td>NaN</td>\n",
       "      <td>NaN</td>\n",
       "      <td>NaN</td>\n",
       "      <td>NaN</td>\n",
       "    </tr>\n",
       "    <tr>\n",
       "      <th>4</th>\n",
       "      <td>5</td>\n",
       "      <td>9.049441</td>\n",
       "      <td>73.720630</td>\n",
       "      <td>66.332978</td>\n",
       "      <td>NaN</td>\n",
       "      <td>NaN</td>\n",
       "      <td>NaN</td>\n",
       "      <td>NaN</td>\n",
       "    </tr>\n",
       "    <tr>\n",
       "      <th>...</th>\n",
       "      <td>...</td>\n",
       "      <td>...</td>\n",
       "      <td>...</td>\n",
       "      <td>...</td>\n",
       "      <td>...</td>\n",
       "      <td>...</td>\n",
       "      <td>...</td>\n",
       "      <td>...</td>\n",
       "    </tr>\n",
       "    <tr>\n",
       "      <th>95</th>\n",
       "      <td>96</td>\n",
       "      <td>4.480636</td>\n",
       "      <td>284.716537</td>\n",
       "      <td>249.499179</td>\n",
       "      <td>243.504542</td>\n",
       "      <td>245.430730</td>\n",
       "      <td>234.485549</td>\n",
       "      <td>228.189016</td>\n",
       "    </tr>\n",
       "    <tr>\n",
       "      <th>96</th>\n",
       "      <td>97</td>\n",
       "      <td>12.143746</td>\n",
       "      <td>215.034631</td>\n",
       "      <td>240.773811</td>\n",
       "      <td>245.958942</td>\n",
       "      <td>239.558984</td>\n",
       "      <td>232.368506</td>\n",
       "      <td>226.163187</td>\n",
       "    </tr>\n",
       "    <tr>\n",
       "      <th>97</th>\n",
       "      <td>98</td>\n",
       "      <td>1.382043</td>\n",
       "      <td>222.212061</td>\n",
       "      <td>228.047698</td>\n",
       "      <td>251.377141</td>\n",
       "      <td>236.679724</td>\n",
       "      <td>234.784976</td>\n",
       "      <td>227.899012</td>\n",
       "    </tr>\n",
       "    <tr>\n",
       "      <th>98</th>\n",
       "      <td>99</td>\n",
       "      <td>16.749861</td>\n",
       "      <td>235.451141</td>\n",
       "      <td>231.657567</td>\n",
       "      <td>245.835522</td>\n",
       "      <td>236.931323</td>\n",
       "      <td>237.923783</td>\n",
       "      <td>230.220186</td>\n",
       "    </tr>\n",
       "    <tr>\n",
       "      <th>99</th>\n",
       "      <td>100</td>\n",
       "      <td>1.089214</td>\n",
       "      <td>260.873958</td>\n",
       "      <td>243.657666</td>\n",
       "      <td>246.496676</td>\n",
       "      <td>242.461655</td>\n",
       "      <td>240.843121</td>\n",
       "      <td>232.402824</td>\n",
       "    </tr>\n",
       "  </tbody>\n",
       "</table>\n",
       "<p>100 rows × 8 columns</p>\n",
       "</div>"
      ],
      "text/plain": [
       "    period      leads       sales  rolling_sales_5  rolling_sales_10  \\\n",
       "0        1  11.427457   61.417425              NaN               NaN   \n",
       "1        2  14.588598   64.900826              NaN               NaN   \n",
       "2        3  12.452504   66.698494              NaN               NaN   \n",
       "3        4  11.352780   64.927513              NaN               NaN   \n",
       "4        5   9.049441   73.720630        66.332978               NaN   \n",
       "..     ...        ...         ...              ...               ...   \n",
       "95      96   4.480636  284.716537       249.499179        243.504542   \n",
       "96      97  12.143746  215.034631       240.773811        245.958942   \n",
       "97      98   1.382043  222.212061       228.047698        251.377141   \n",
       "98      99  16.749861  235.451141       231.657567        245.835522   \n",
       "99     100   1.089214  260.873958       243.657666        246.496676   \n",
       "\n",
       "    rolling_sales_15  rolling_sales_20  rolling_sales_25  \n",
       "0                NaN               NaN               NaN  \n",
       "1                NaN               NaN               NaN  \n",
       "2                NaN               NaN               NaN  \n",
       "3                NaN               NaN               NaN  \n",
       "4                NaN               NaN               NaN  \n",
       "..               ...               ...               ...  \n",
       "95        245.430730        234.485549        228.189016  \n",
       "96        239.558984        232.368506        226.163187  \n",
       "97        236.679724        234.784976        227.899012  \n",
       "98        236.931323        237.923783        230.220186  \n",
       "99        242.461655        240.843121        232.402824  \n",
       "\n",
       "[100 rows x 8 columns]"
      ]
     },
     "execution_count": 7,
     "metadata": {},
     "output_type": "execute_result"
    }
   ],
   "source": [
    "df[\"rolling_sales_5\"]=df[\"sales\"].rolling(5).mean()\n",
    "df[\"rolling_sales_10\"]=df[\"sales\"].rolling(10).mean()\n",
    "df[\"rolling_sales_15\"]=df[\"sales\"].rolling(15).mean()\n",
    "df[\"rolling_sales_20\"]=df[\"sales\"].rolling(20).mean()\n",
    "df[\"rolling_sales_25\"]=df[\"sales\"].rolling(25).mean()\n",
    "df"
   ]
  },
  {
   "cell_type": "markdown",
   "id": "a6264a25",
   "metadata": {},
   "source": [
    "### We can also create a quick line plot using Matplotlib to visualize the raw sales compared to the rolling mean of sales:\n",
    "\n",
    "    import matplotlib.pyplot as plt\n",
    "    plt.plot(df['rolling_sales_5'], label='Rolling Mean')\n",
    "    plt.plot(df['sales'], label='Raw Data')\n",
    "    plt.legend()\n",
    "    plt.ylabel('Sales')\n",
    "    plt.xlabel('Period')\n",
    "    plt.show()"
   ]
  },
  {
   "cell_type": "code",
   "execution_count": 8,
   "id": "27d69654",
   "metadata": {},
   "outputs": [
    {
     "data": {
      "image/png": "[encoded data removed]",
      "text/plain": [
       "<Figure size 1400x600 with 1 Axes>"
      ]
     },
     "metadata": {},
     "output_type": "display_data"
    }
   ],
   "source": [
    "import matplotlib.pyplot as plt \n",
    "plt.figure(figsize=(14,6))\n",
    "plt.plot(df['rolling_sales_15'], label='Rolling Mean15') \n",
    "plt.plot(df['rolling_sales_20'], label='Rolling Mean20')\n",
    "plt.plot(df['rolling_sales_5'], label='Rolling Mean5')\n",
    "plt.plot(df['rolling_sales_10'], label='Rolling Mean10')\n",
    "\n",
    "plt.plot(df['sales'], label='Raw Data') \n",
    "plt.legend() \n",
    "plt.ylabel('Sales') \n",
    "plt.xlabel('Period') \n",
    "plt.show()"
   ]
  },
  {
   "cell_type": "markdown",
   "id": "59285b9e",
   "metadata": {},
   "source": [
    "# Python | ARIMA Model for Time Series Forecasting"
   ]
  },
  {
   "cell_type": "code",
   "execution_count": null,
   "id": "3b08dfbd",
   "metadata": {},
   "outputs": [],
   "source": []
  }
 ],
 "metadata": {
  "kernelspec": {
   "display_name": "Python 3 (ipykernel)",
   "language": "python",
   "name": "python3"
  },
  "language_info": {
   "codemirror_mode": {
    "name": "ipython",
    "version": 3
   },
   "file_extension": ".py",
   "mimetype": "text/x-python",
   "name": "python",
   "nbconvert_exporter": "python",
   "pygments_lexer": "ipython3",
   "version": "3.11.4"
  }
 },
 "nbformat": 4,
 "nbformat_minor": 5
}
