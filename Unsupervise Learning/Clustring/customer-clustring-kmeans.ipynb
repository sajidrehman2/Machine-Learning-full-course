{
 "cells": [
  {
   "cell_type": "markdown",
   "id": "b430f646",
   "metadata": {
    "papermill": {
     "duration": 0.006417,
     "end_time": "2022-05-29T05:45:08.006005",
     "exception": false,
     "start_time": "2022-05-29T05:45:07.999588",
     "status": "completed"
    },
    "tags": []
   },
   "source": [
    "# About Kmeans Clustering\n",
    "Clustering algorithms seek to learn, from the properties of the data, an optimal division or discrete labeling of groups of points.\n",
    "\n",
    "Many clustering algorithms are available in Scikit-Learn and elsewhere, but perhaps the simplest to understand is an algorithm known as k-means clustering"
   ]
  },
  {
   "cell_type": "markdown",
   "id": "b3b2d3f6",
   "metadata": {
    "papermill": {
     "duration": 0.008044,
     "end_time": "2022-05-29T05:45:08.020805",
     "exception": false,
     "start_time": "2022-05-29T05:45:08.012761",
     "status": "completed"
    },
    "tags": []
   },
   "source": [
    "# 1.Import Libraries"
   ]
  },
  {
   "cell_type": "code",
   "execution_count": 1,
   "id": "47a42468",
   "metadata": {
    "execution": {
     "iopub.execute_input": "2022-05-29T05:45:08.040337Z",
     "iopub.status.busy": "2022-05-29T05:45:08.039657Z",
     "iopub.status.idle": "2022-05-29T05:45:09.522837Z",
     "shell.execute_reply": "2022-05-29T05:45:09.521814Z"
    },
    "papermill": {
     "duration": 1.494427,
     "end_time": "2022-05-29T05:45:09.525213",
     "exception": false,
     "start_time": "2022-05-29T05:45:08.030786",
     "status": "completed"
    },
    "tags": []
   },
   "outputs": [],
   "source": [
    "import numpy as np            # Data manipulation\n",
    "import pandas as pd           # Dataframe manipulatio \n",
    "import matplotlib.pyplot as plt                   # For graphics\n",
    "import seaborn as sns\n",
    "from sklearn.preprocessing import StandardScaler  # For scaling dataset\n",
    "from sklearn.cluster import KMeans"
   ]
  },
  {
   "cell_type": "markdown",
   "id": "d5007553",
   "metadata": {
    "papermill": {
     "duration": 0.006651,
     "end_time": "2022-05-29T05:45:09.538754",
     "exception": false,
     "start_time": "2022-05-29T05:45:09.532103",
     "status": "completed"
    },
    "tags": []
   },
   "source": [
    "# 2.Load Dataset"
   ]
  },
  {
   "cell_type": "code",
   "execution_count": 2,
   "id": "e503bcd6",
   "metadata": {
    "execution": {
     "iopub.execute_input": "2022-05-29T05:45:09.554358Z",
     "iopub.status.busy": "2022-05-29T05:45:09.553658Z",
     "iopub.status.idle": "2022-05-29T05:45:09.570429Z",
     "shell.execute_reply": "2022-05-29T05:45:09.569494Z"
    },
    "papermill": {
     "duration": 0.02735,
     "end_time": "2022-05-29T05:45:09.572927",
     "exception": false,
     "start_time": "2022-05-29T05:45:09.545577",
     "status": "completed"
    },
    "tags": []
   },
   "outputs": [
    {
     "name": "stdout",
     "output_type": "stream",
     "text": [
      "Dataset Loaded..\n"
     ]
    }
   ],
   "source": [
    "df = pd.read_csv(\"segmentation data.csv\")\n",
    "print(\"Dataset Loaded..\")"
   ]
  },
  {
   "cell_type": "markdown",
   "id": "2fd31bfc",
   "metadata": {
    "papermill": {
     "duration": 0.00644,
     "end_time": "2022-05-29T05:45:09.587141",
     "exception": false,
     "start_time": "2022-05-29T05:45:09.580701",
     "status": "completed"
    },
    "tags": []
   },
   "source": [
    "# 3. Data Anaysis"
   ]
  },
  {
   "cell_type": "code",
   "execution_count": 3,
   "id": "9687458e",
   "metadata": {
    "execution": {
     "iopub.execute_input": "2022-05-29T05:45:09.602444Z",
     "iopub.status.busy": "2022-05-29T05:45:09.602059Z",
     "iopub.status.idle": "2022-05-29T05:45:09.622292Z",
     "shell.execute_reply": "2022-05-29T05:45:09.621151Z"
    },
    "papermill": {
     "duration": 0.030193,
     "end_time": "2022-05-29T05:45:09.624265",
     "exception": false,
     "start_time": "2022-05-29T05:45:09.594072",
     "status": "completed"
    },
    "tags": []
   },
   "outputs": [
    {
     "data": {
      "text/html": [
       "<div>\n",
       "<style scoped>\n",
       "    .dataframe tbody tr th:only-of-type {\n",
       "        vertical-align: middle;\n",
       "    }\n",
       "\n",
       "    .dataframe tbody tr th {\n",
       "        vertical-align: top;\n",
       "    }\n",
       "\n",
       "    .dataframe thead th {\n",
       "        text-align: right;\n",
       "    }\n",
       "</style>\n",
       "<table border=\"1\" class=\"dataframe\">\n",
       "  <thead>\n",
       "    <tr style=\"text-align: right;\">\n",
       "      <th></th>\n",
       "      <th>ID</th>\n",
       "      <th>Sex</th>\n",
       "      <th>Marital status</th>\n",
       "      <th>Age</th>\n",
       "      <th>Education</th>\n",
       "      <th>Income</th>\n",
       "      <th>Occupation</th>\n",
       "      <th>Settlement size</th>\n",
       "    </tr>\n",
       "  </thead>\n",
       "  <tbody>\n",
       "    <tr>\n",
       "      <td>0</td>\n",
       "      <td>100000001</td>\n",
       "      <td>0</td>\n",
       "      <td>0</td>\n",
       "      <td>67</td>\n",
       "      <td>2</td>\n",
       "      <td>124670</td>\n",
       "      <td>1</td>\n",
       "      <td>2</td>\n",
       "    </tr>\n",
       "    <tr>\n",
       "      <td>1</td>\n",
       "      <td>100000002</td>\n",
       "      <td>1</td>\n",
       "      <td>1</td>\n",
       "      <td>22</td>\n",
       "      <td>1</td>\n",
       "      <td>150773</td>\n",
       "      <td>1</td>\n",
       "      <td>2</td>\n",
       "    </tr>\n",
       "    <tr>\n",
       "      <td>2</td>\n",
       "      <td>100000003</td>\n",
       "      <td>0</td>\n",
       "      <td>0</td>\n",
       "      <td>49</td>\n",
       "      <td>1</td>\n",
       "      <td>89210</td>\n",
       "      <td>0</td>\n",
       "      <td>0</td>\n",
       "    </tr>\n",
       "    <tr>\n",
       "      <td>3</td>\n",
       "      <td>100000004</td>\n",
       "      <td>0</td>\n",
       "      <td>0</td>\n",
       "      <td>45</td>\n",
       "      <td>1</td>\n",
       "      <td>171565</td>\n",
       "      <td>1</td>\n",
       "      <td>1</td>\n",
       "    </tr>\n",
       "    <tr>\n",
       "      <td>4</td>\n",
       "      <td>100000005</td>\n",
       "      <td>0</td>\n",
       "      <td>0</td>\n",
       "      <td>53</td>\n",
       "      <td>1</td>\n",
       "      <td>149031</td>\n",
       "      <td>1</td>\n",
       "      <td>1</td>\n",
       "    </tr>\n",
       "  </tbody>\n",
       "</table>\n",
       "</div>"
      ],
      "text/plain": [
       "          ID  Sex  Marital status  Age  Education  Income  Occupation  \\\n",
       "0  100000001    0               0   67          2  124670           1   \n",
       "1  100000002    1               1   22          1  150773           1   \n",
       "2  100000003    0               0   49          1   89210           0   \n",
       "3  100000004    0               0   45          1  171565           1   \n",
       "4  100000005    0               0   53          1  149031           1   \n",
       "\n",
       "   Settlement size  \n",
       "0                2  \n",
       "1                2  \n",
       "2                0  \n",
       "3                1  \n",
       "4                1  "
      ]
     },
     "execution_count": 3,
     "metadata": {},
     "output_type": "execute_result"
    }
   ],
   "source": [
    "df.head()"
   ]
  },
  {
   "cell_type": "code",
   "execution_count": 4,
   "id": "4fe0e84d",
   "metadata": {
    "execution": {
     "iopub.execute_input": "2022-05-29T05:45:09.639740Z",
     "iopub.status.busy": "2022-05-29T05:45:09.639045Z",
     "iopub.status.idle": "2022-05-29T05:45:09.644887Z",
     "shell.execute_reply": "2022-05-29T05:45:09.644185Z"
    },
    "papermill": {
     "duration": 0.015635,
     "end_time": "2022-05-29T05:45:09.646581",
     "exception": false,
     "start_time": "2022-05-29T05:45:09.630946",
     "status": "completed"
    },
    "tags": []
   },
   "outputs": [
    {
     "data": {
      "text/plain": [
       "(2000, 8)"
      ]
     },
     "execution_count": 4,
     "metadata": {},
     "output_type": "execute_result"
    }
   ],
   "source": [
    "df.shape"
   ]
  },
  {
   "cell_type": "code",
   "execution_count": 5,
   "id": "4ad3736b",
   "metadata": {
    "execution": {
     "iopub.execute_input": "2022-05-29T05:45:09.662248Z",
     "iopub.status.busy": "2022-05-29T05:45:09.661525Z",
     "iopub.status.idle": "2022-05-29T05:45:09.703150Z",
     "shell.execute_reply": "2022-05-29T05:45:09.702200Z"
    },
    "papermill": {
     "duration": 0.05183,
     "end_time": "2022-05-29T05:45:09.705156",
     "exception": false,
     "start_time": "2022-05-29T05:45:09.653326",
     "status": "completed"
    },
    "tags": []
   },
   "outputs": [
    {
     "data": {
      "text/html": [
       "<div>\n",
       "<style scoped>\n",
       "    .dataframe tbody tr th:only-of-type {\n",
       "        vertical-align: middle;\n",
       "    }\n",
       "\n",
       "    .dataframe tbody tr th {\n",
       "        vertical-align: top;\n",
       "    }\n",
       "\n",
       "    .dataframe thead th {\n",
       "        text-align: right;\n",
       "    }\n",
       "</style>\n",
       "<table border=\"1\" class=\"dataframe\">\n",
       "  <thead>\n",
       "    <tr style=\"text-align: right;\">\n",
       "      <th></th>\n",
       "      <th>ID</th>\n",
       "      <th>Sex</th>\n",
       "      <th>Marital status</th>\n",
       "      <th>Age</th>\n",
       "      <th>Education</th>\n",
       "      <th>Income</th>\n",
       "      <th>Occupation</th>\n",
       "      <th>Settlement size</th>\n",
       "    </tr>\n",
       "  </thead>\n",
       "  <tbody>\n",
       "    <tr>\n",
       "      <td>count</td>\n",
       "      <td>2.000000e+03</td>\n",
       "      <td>2000.000000</td>\n",
       "      <td>2000.000000</td>\n",
       "      <td>2000.000000</td>\n",
       "      <td>2000.00000</td>\n",
       "      <td>2000.000000</td>\n",
       "      <td>2000.000000</td>\n",
       "      <td>2000.000000</td>\n",
       "    </tr>\n",
       "    <tr>\n",
       "      <td>mean</td>\n",
       "      <td>1.000010e+08</td>\n",
       "      <td>0.457000</td>\n",
       "      <td>0.496500</td>\n",
       "      <td>35.909000</td>\n",
       "      <td>1.03800</td>\n",
       "      <td>120954.419000</td>\n",
       "      <td>0.810500</td>\n",
       "      <td>0.739000</td>\n",
       "    </tr>\n",
       "    <tr>\n",
       "      <td>std</td>\n",
       "      <td>5.774946e+02</td>\n",
       "      <td>0.498272</td>\n",
       "      <td>0.500113</td>\n",
       "      <td>11.719402</td>\n",
       "      <td>0.59978</td>\n",
       "      <td>38108.824679</td>\n",
       "      <td>0.638587</td>\n",
       "      <td>0.812533</td>\n",
       "    </tr>\n",
       "    <tr>\n",
       "      <td>min</td>\n",
       "      <td>1.000000e+08</td>\n",
       "      <td>0.000000</td>\n",
       "      <td>0.000000</td>\n",
       "      <td>18.000000</td>\n",
       "      <td>0.00000</td>\n",
       "      <td>35832.000000</td>\n",
       "      <td>0.000000</td>\n",
       "      <td>0.000000</td>\n",
       "    </tr>\n",
       "    <tr>\n",
       "      <td>25%</td>\n",
       "      <td>1.000005e+08</td>\n",
       "      <td>0.000000</td>\n",
       "      <td>0.000000</td>\n",
       "      <td>27.000000</td>\n",
       "      <td>1.00000</td>\n",
       "      <td>97663.250000</td>\n",
       "      <td>0.000000</td>\n",
       "      <td>0.000000</td>\n",
       "    </tr>\n",
       "    <tr>\n",
       "      <td>50%</td>\n",
       "      <td>1.000010e+08</td>\n",
       "      <td>0.000000</td>\n",
       "      <td>0.000000</td>\n",
       "      <td>33.000000</td>\n",
       "      <td>1.00000</td>\n",
       "      <td>115548.500000</td>\n",
       "      <td>1.000000</td>\n",
       "      <td>1.000000</td>\n",
       "    </tr>\n",
       "    <tr>\n",
       "      <td>75%</td>\n",
       "      <td>1.000015e+08</td>\n",
       "      <td>1.000000</td>\n",
       "      <td>1.000000</td>\n",
       "      <td>42.000000</td>\n",
       "      <td>1.00000</td>\n",
       "      <td>138072.250000</td>\n",
       "      <td>1.000000</td>\n",
       "      <td>1.000000</td>\n",
       "    </tr>\n",
       "    <tr>\n",
       "      <td>max</td>\n",
       "      <td>1.000020e+08</td>\n",
       "      <td>1.000000</td>\n",
       "      <td>1.000000</td>\n",
       "      <td>76.000000</td>\n",
       "      <td>3.00000</td>\n",
       "      <td>309364.000000</td>\n",
       "      <td>2.000000</td>\n",
       "      <td>2.000000</td>\n",
       "    </tr>\n",
       "  </tbody>\n",
       "</table>\n",
       "</div>"
      ],
      "text/plain": [
       "                 ID          Sex  Marital status          Age   Education  \\\n",
       "count  2.000000e+03  2000.000000     2000.000000  2000.000000  2000.00000   \n",
       "mean   1.000010e+08     0.457000        0.496500    35.909000     1.03800   \n",
       "std    5.774946e+02     0.498272        0.500113    11.719402     0.59978   \n",
       "min    1.000000e+08     0.000000        0.000000    18.000000     0.00000   \n",
       "25%    1.000005e+08     0.000000        0.000000    27.000000     1.00000   \n",
       "50%    1.000010e+08     0.000000        0.000000    33.000000     1.00000   \n",
       "75%    1.000015e+08     1.000000        1.000000    42.000000     1.00000   \n",
       "max    1.000020e+08     1.000000        1.000000    76.000000     3.00000   \n",
       "\n",
       "              Income   Occupation  Settlement size  \n",
       "count    2000.000000  2000.000000      2000.000000  \n",
       "mean   120954.419000     0.810500         0.739000  \n",
       "std     38108.824679     0.638587         0.812533  \n",
       "min     35832.000000     0.000000         0.000000  \n",
       "25%     97663.250000     0.000000         0.000000  \n",
       "50%    115548.500000     1.000000         1.000000  \n",
       "75%    138072.250000     1.000000         1.000000  \n",
       "max    309364.000000     2.000000         2.000000  "
      ]
     },
     "execution_count": 5,
     "metadata": {},
     "output_type": "execute_result"
    }
   ],
   "source": [
    "df.describe()"
   ]
  },
  {
   "cell_type": "code",
   "execution_count": 6,
   "id": "44fac110",
   "metadata": {
    "execution": {
     "iopub.execute_input": "2022-05-29T05:45:09.721610Z",
     "iopub.status.busy": "2022-05-29T05:45:09.720894Z",
     "iopub.status.idle": "2022-05-29T05:45:09.727642Z",
     "shell.execute_reply": "2022-05-29T05:45:09.726579Z"
    },
    "papermill": {
     "duration": 0.017424,
     "end_time": "2022-05-29T05:45:09.729696",
     "exception": false,
     "start_time": "2022-05-29T05:45:09.712272",
     "status": "completed"
    },
    "tags": []
   },
   "outputs": [
    {
     "data": {
      "text/plain": [
       "Index(['ID', 'Sex', 'Marital status', 'Age', 'Education', 'Income',\n",
       "       'Occupation', 'Settlement size'],\n",
       "      dtype='object')"
      ]
     },
     "execution_count": 6,
     "metadata": {},
     "output_type": "execute_result"
    }
   ],
   "source": [
    "df.columns"
   ]
  },
  {
   "cell_type": "code",
   "execution_count": 7,
   "id": "d95b4bfe",
   "metadata": {
    "execution": {
     "iopub.execute_input": "2022-05-29T05:45:09.746379Z",
     "iopub.status.busy": "2022-05-29T05:45:09.745382Z",
     "iopub.status.idle": "2022-05-29T05:45:09.753174Z",
     "shell.execute_reply": "2022-05-29T05:45:09.752414Z"
    },
    "papermill": {
     "duration": 0.018049,
     "end_time": "2022-05-29T05:45:09.754978",
     "exception": false,
     "start_time": "2022-05-29T05:45:09.736929",
     "status": "completed"
    },
    "tags": []
   },
   "outputs": [
    {
     "data": {
      "text/plain": [
       "0    1086\n",
       "1     914\n",
       "Name: Sex, dtype: int64"
      ]
     },
     "execution_count": 7,
     "metadata": {},
     "output_type": "execute_result"
    }
   ],
   "source": [
    "df['Sex'].value_counts()"
   ]
  },
  {
   "cell_type": "code",
   "execution_count": 8,
   "id": "212236f8",
   "metadata": {
    "execution": {
     "iopub.execute_input": "2022-05-29T05:45:09.771428Z",
     "iopub.status.busy": "2022-05-29T05:45:09.770764Z",
     "iopub.status.idle": "2022-05-29T05:45:09.778571Z",
     "shell.execute_reply": "2022-05-29T05:45:09.777681Z"
    },
    "papermill": {
     "duration": 0.018226,
     "end_time": "2022-05-29T05:45:09.780425",
     "exception": false,
     "start_time": "2022-05-29T05:45:09.762199",
     "status": "completed"
    },
    "tags": []
   },
   "outputs": [
    {
     "data": {
      "text/plain": [
       "ID                 0\n",
       "Sex                0\n",
       "Marital status     0\n",
       "Age                0\n",
       "Education          0\n",
       "Income             0\n",
       "Occupation         0\n",
       "Settlement size    0\n",
       "dtype: int64"
      ]
     },
     "execution_count": 8,
     "metadata": {},
     "output_type": "execute_result"
    }
   ],
   "source": [
    "df.isnull().sum()"
   ]
  },
  {
   "cell_type": "code",
   "execution_count": 9,
   "id": "2a0efdd7",
   "metadata": {},
   "outputs": [
    {
     "data": {
      "text/plain": [
       "1    1386\n",
       "2     291\n",
       "0     287\n",
       "3      36\n",
       "Name: Education, dtype: int64"
      ]
     },
     "execution_count": 9,
     "metadata": {},
     "output_type": "execute_result"
    }
   ],
   "source": [
    "df.Education.value_counts()"
   ]
  },
  {
   "cell_type": "code",
   "execution_count": 10,
   "id": "e031c6b1",
   "metadata": {
    "execution": {
     "iopub.execute_input": "2022-05-29T05:45:09.797269Z",
     "iopub.status.busy": "2022-05-29T05:45:09.796524Z",
     "iopub.status.idle": "2022-05-29T05:45:09.806048Z",
     "shell.execute_reply": "2022-05-29T05:45:09.805150Z"
    },
    "papermill": {
     "duration": 0.019934,
     "end_time": "2022-05-29T05:45:09.807847",
     "exception": false,
     "start_time": "2022-05-29T05:45:09.787913",
     "status": "completed"
    },
    "tags": []
   },
   "outputs": [
    {
     "data": {
      "text/plain": [
       "0"
      ]
     },
     "execution_count": 10,
     "metadata": {},
     "output_type": "execute_result"
    }
   ],
   "source": [
    "df.duplicated().sum()"
   ]
  },
  {
   "cell_type": "markdown",
   "id": "ce1204c8",
   "metadata": {
    "papermill": {
     "duration": 0.007215,
     "end_time": "2022-05-29T05:45:09.822473",
     "exception": false,
     "start_time": "2022-05-29T05:45:09.815258",
     "status": "completed"
    },
    "tags": []
   },
   "source": [
    "# 4. data Visualisation"
   ]
  },
  {
   "cell_type": "code",
   "execution_count": 11,
   "id": "6c3b2974",
   "metadata": {
    "execution": {
     "iopub.execute_input": "2022-05-29T05:45:09.839722Z",
     "iopub.status.busy": "2022-05-29T05:45:09.839027Z",
     "iopub.status.idle": "2022-05-29T05:45:10.765903Z",
     "shell.execute_reply": "2022-05-29T05:45:10.765003Z"
    },
    "papermill": {
     "duration": 0.937795,
     "end_time": "2022-05-29T05:45:10.767847",
     "exception": false,
     "start_time": "2022-05-29T05:45:09.830052",
     "status": "completed"
    },
    "tags": []
   },
   "outputs": [
    {
     "name": "stderr",
     "output_type": "stream",
     "text": [
      "C:\\Users\\Nasir Hussain\\Anaconda3\\lib\\site-packages\\pandas\\plotting\\_matplotlib\\tools.py:307: MatplotlibDeprecationWarning: \n",
      "The rowNum attribute was deprecated in Matplotlib 3.2 and will be removed two minor releases later. Use ax.get_subplotspec().rowspan.start instead.\n",
      "  layout[ax.rowNum, ax.colNum] = ax.get_visible()\n",
      "C:\\Users\\Nasir Hussain\\Anaconda3\\lib\\site-packages\\pandas\\plotting\\_matplotlib\\tools.py:307: MatplotlibDeprecationWarning: \n",
      "The colNum attribute was deprecated in Matplotlib 3.2 and will be removed two minor releases later. Use ax.get_subplotspec().colspan.start instead.\n",
      "  layout[ax.rowNum, ax.colNum] = ax.get_visible()\n",
      "C:\\Users\\Nasir Hussain\\Anaconda3\\lib\\site-packages\\pandas\\plotting\\_matplotlib\\tools.py:313: MatplotlibDeprecationWarning: \n",
      "The rowNum attribute was deprecated in Matplotlib 3.2 and will be removed two minor releases later. Use ax.get_subplotspec().rowspan.start instead.\n",
      "  if not layout[ax.rowNum + 1, ax.colNum]:\n",
      "C:\\Users\\Nasir Hussain\\Anaconda3\\lib\\site-packages\\pandas\\plotting\\_matplotlib\\tools.py:313: MatplotlibDeprecationWarning: \n",
      "The colNum attribute was deprecated in Matplotlib 3.2 and will be removed two minor releases later. Use ax.get_subplotspec().colspan.start instead.\n",
      "  if not layout[ax.rowNum + 1, ax.colNum]:\n"
     ]
    },
    {
     "data": {
      "image/png": "[encoded data removed]",
      "text/plain": [
       "<Figure size 720x720 with 9 Axes>"
      ]
     },
     "metadata": {
      "needs_background": "light"
     },
     "output_type": "display_data"
    }
   ],
   "source": [
    "df.hist(figsize =(10,10))\n",
    "plt.show()"
   ]
  },
  {
   "cell_type": "code",
   "execution_count": 61,
   "id": "9feb0df1",
   "metadata": {},
   "outputs": [],
   "source": [
    "# df.bar()\n",
    "# plot.show()"
   ]
  },
  {
   "cell_type": "code",
   "execution_count": 12,
   "id": "ac8722ed",
   "metadata": {
    "execution": {
     "iopub.execute_input": "2022-05-29T05:45:10.785654Z",
     "iopub.status.busy": "2022-05-29T05:45:10.785035Z",
     "iopub.status.idle": "2022-05-29T05:45:11.289830Z",
     "shell.execute_reply": "2022-05-29T05:45:11.288915Z"
    },
    "papermill": {
     "duration": 0.516563,
     "end_time": "2022-05-29T05:45:11.292326",
     "exception": false,
     "start_time": "2022-05-29T05:45:10.775763",
     "status": "completed"
    },
    "tags": []
   },
   "outputs": [
    {
     "data": {
      "text/plain": [
       "<matplotlib.axes._subplots.AxesSubplot at 0x2dcea6da788>"
      ]
     },
     "execution_count": 12,
     "metadata": {},
     "output_type": "execute_result"
    },
    {
     "data": {
      "image/png": "[encoded data removed]",
      "text/plain": [
       "<Figure size 576x576 with 2 Axes>"
      ]
     },
     "metadata": {
      "needs_background": "light"
     },
     "output_type": "display_data"
    }
   ],
   "source": [
    "df = df[['ID', 'Sex', 'Marital status', 'Age', 'Education', 'Income',\n",
    "       'Occupation', 'Settlement size']] #Subsetting the data\n",
    "cor = df.corr() #Calculate the correlation of the above variables\n",
    "\n",
    "fig,ax = plt.subplots()\n",
    "fig.set_figwidth(8)\n",
    "fig.set_figheight(8)\n",
    "sns.heatmap(cor, square = True,annot=True,cmap=\"YlGnBu\") #Plot the correlation as heat map"
   ]
  },
  {
   "cell_type": "markdown",
   "id": "75a35d87",
   "metadata": {
    "papermill": {
     "duration": 0.008652,
     "end_time": "2022-05-29T05:45:11.309867",
     "exception": false,
     "start_time": "2022-05-29T05:45:11.301215",
     "status": "completed"
    },
    "tags": []
   },
   "source": [
    "# 5. scaling of data"
   ]
  },
  {
   "cell_type": "code",
   "execution_count": 13,
   "id": "8d28c0e5",
   "metadata": {
    "execution": {
     "iopub.execute_input": "2022-05-29T05:45:11.329731Z",
     "iopub.status.busy": "2022-05-29T05:45:11.328875Z",
     "iopub.status.idle": "2022-05-29T05:45:11.339714Z",
     "shell.execute_reply": "2022-05-29T05:45:11.338680Z"
    },
    "papermill": {
     "duration": 0.022893,
     "end_time": "2022-05-29T05:45:11.341766",
     "exception": false,
     "start_time": "2022-05-29T05:45:11.318873",
     "status": "completed"
    },
    "tags": []
   },
   "outputs": [],
   "source": [
    "# scaler = StandardScaler()\n",
    "# df = scaler.fit_transform(df)"
   ]
  },
  {
   "cell_type": "markdown",
   "id": "e81cd290",
   "metadata": {
    "papermill": {
     "duration": 0.009058,
     "end_time": "2022-05-29T05:45:11.391119",
     "exception": false,
     "start_time": "2022-05-29T05:45:11.382061",
     "status": "completed"
    },
    "tags": []
   },
   "source": [
    "# 6.Applying Kmeans Clustering"
   ]
  },
  {
   "cell_type": "code",
   "execution_count": 14,
   "id": "d4bb0c44",
   "metadata": {
    "execution": {
     "iopub.execute_input": "2022-05-29T05:45:11.411499Z",
     "iopub.status.busy": "2022-05-29T05:45:11.410818Z",
     "iopub.status.idle": "2022-05-29T05:45:11.416070Z",
     "shell.execute_reply": "2022-05-29T05:45:11.415292Z"
    },
    "papermill": {
     "duration": 0.017438,
     "end_time": "2022-05-29T05:45:11.417952",
     "exception": false,
     "start_time": "2022-05-29T05:45:11.400514",
     "status": "completed"
    },
    "tags": []
   },
   "outputs": [],
   "source": [
    "def doKmeans(x, nclust=3):\n",
    "    \n",
    "    model = KMeans(nclust)\n",
    "    model.fit(x)\n",
    "    clust_labels = model.predict(x)\n",
    "#     cent = model.cluster_centers_\n",
    "    return (clust_labels)"
   ]
  },
  {
   "cell_type": "code",
   "execution_count": 15,
   "id": "47886ffe",
   "metadata": {
    "execution": {
     "iopub.execute_input": "2022-05-29T05:45:11.438359Z",
     "iopub.status.busy": "2022-05-29T05:45:11.437690Z",
     "iopub.status.idle": "2022-05-29T05:45:12.854665Z",
     "shell.execute_reply": "2022-05-29T05:45:12.852515Z"
    },
    "papermill": {
     "duration": 1.430916,
     "end_time": "2022-05-29T05:45:12.857955",
     "exception": false,
     "start_time": "2022-05-29T05:45:11.427039",
     "status": "completed"
    },
    "tags": []
   },
   "outputs": [
    {
     "data": {
      "text/plain": [
       "array([0, 1, 0, ..., 0, 0, 0])"
      ]
     },
     "execution_count": 15,
     "metadata": {},
     "output_type": "execute_result"
    }
   ],
   "source": [
    "clust_labels= doKmeans(df,2)\n",
    "clust_labels"
   ]
  },
  {
   "cell_type": "code",
   "execution_count": 16,
   "id": "1e4d4f32",
   "metadata": {},
   "outputs": [],
   "source": [
    "df['KmeanCluters'] = clust_labels"
   ]
  },
  {
   "cell_type": "code",
   "execution_count": 17,
   "id": "e13a1e0a",
   "metadata": {},
   "outputs": [
    {
     "data": {
      "text/html": [
       "<div>\n",
       "<style scoped>\n",
       "    .dataframe tbody tr th:only-of-type {\n",
       "        vertical-align: middle;\n",
       "    }\n",
       "\n",
       "    .dataframe tbody tr th {\n",
       "        vertical-align: top;\n",
       "    }\n",
       "\n",
       "    .dataframe thead th {\n",
       "        text-align: right;\n",
       "    }\n",
       "</style>\n",
       "<table border=\"1\" class=\"dataframe\">\n",
       "  <thead>\n",
       "    <tr style=\"text-align: right;\">\n",
       "      <th></th>\n",
       "      <th>ID</th>\n",
       "      <th>Sex</th>\n",
       "      <th>Marital status</th>\n",
       "      <th>Age</th>\n",
       "      <th>Education</th>\n",
       "      <th>Income</th>\n",
       "      <th>Occupation</th>\n",
       "      <th>Settlement size</th>\n",
       "      <th>KmeanCluters</th>\n",
       "    </tr>\n",
       "  </thead>\n",
       "  <tbody>\n",
       "    <tr>\n",
       "      <td>0</td>\n",
       "      <td>100000001</td>\n",
       "      <td>0</td>\n",
       "      <td>0</td>\n",
       "      <td>67</td>\n",
       "      <td>2</td>\n",
       "      <td>124670</td>\n",
       "      <td>1</td>\n",
       "      <td>2</td>\n",
       "      <td>0</td>\n",
       "    </tr>\n",
       "    <tr>\n",
       "      <td>1</td>\n",
       "      <td>100000002</td>\n",
       "      <td>1</td>\n",
       "      <td>1</td>\n",
       "      <td>22</td>\n",
       "      <td>1</td>\n",
       "      <td>150773</td>\n",
       "      <td>1</td>\n",
       "      <td>2</td>\n",
       "      <td>1</td>\n",
       "    </tr>\n",
       "    <tr>\n",
       "      <td>2</td>\n",
       "      <td>100000003</td>\n",
       "      <td>0</td>\n",
       "      <td>0</td>\n",
       "      <td>49</td>\n",
       "      <td>1</td>\n",
       "      <td>89210</td>\n",
       "      <td>0</td>\n",
       "      <td>0</td>\n",
       "      <td>0</td>\n",
       "    </tr>\n",
       "    <tr>\n",
       "      <td>3</td>\n",
       "      <td>100000004</td>\n",
       "      <td>0</td>\n",
       "      <td>0</td>\n",
       "      <td>45</td>\n",
       "      <td>1</td>\n",
       "      <td>171565</td>\n",
       "      <td>1</td>\n",
       "      <td>1</td>\n",
       "      <td>1</td>\n",
       "    </tr>\n",
       "    <tr>\n",
       "      <td>4</td>\n",
       "      <td>100000005</td>\n",
       "      <td>0</td>\n",
       "      <td>0</td>\n",
       "      <td>53</td>\n",
       "      <td>1</td>\n",
       "      <td>149031</td>\n",
       "      <td>1</td>\n",
       "      <td>1</td>\n",
       "      <td>1</td>\n",
       "    </tr>\n",
       "    <tr>\n",
       "      <td>...</td>\n",
       "      <td>...</td>\n",
       "      <td>...</td>\n",
       "      <td>...</td>\n",
       "      <td>...</td>\n",
       "      <td>...</td>\n",
       "      <td>...</td>\n",
       "      <td>...</td>\n",
       "      <td>...</td>\n",
       "      <td>...</td>\n",
       "    </tr>\n",
       "    <tr>\n",
       "      <td>1995</td>\n",
       "      <td>100001996</td>\n",
       "      <td>1</td>\n",
       "      <td>0</td>\n",
       "      <td>47</td>\n",
       "      <td>1</td>\n",
       "      <td>123525</td>\n",
       "      <td>0</td>\n",
       "      <td>0</td>\n",
       "      <td>0</td>\n",
       "    </tr>\n",
       "    <tr>\n",
       "      <td>1996</td>\n",
       "      <td>100001997</td>\n",
       "      <td>1</td>\n",
       "      <td>1</td>\n",
       "      <td>27</td>\n",
       "      <td>1</td>\n",
       "      <td>117744</td>\n",
       "      <td>1</td>\n",
       "      <td>0</td>\n",
       "      <td>0</td>\n",
       "    </tr>\n",
       "    <tr>\n",
       "      <td>1997</td>\n",
       "      <td>100001998</td>\n",
       "      <td>0</td>\n",
       "      <td>0</td>\n",
       "      <td>31</td>\n",
       "      <td>0</td>\n",
       "      <td>86400</td>\n",
       "      <td>0</td>\n",
       "      <td>0</td>\n",
       "      <td>0</td>\n",
       "    </tr>\n",
       "    <tr>\n",
       "      <td>1998</td>\n",
       "      <td>100001999</td>\n",
       "      <td>1</td>\n",
       "      <td>1</td>\n",
       "      <td>24</td>\n",
       "      <td>1</td>\n",
       "      <td>97968</td>\n",
       "      <td>0</td>\n",
       "      <td>0</td>\n",
       "      <td>0</td>\n",
       "    </tr>\n",
       "    <tr>\n",
       "      <td>1999</td>\n",
       "      <td>100002000</td>\n",
       "      <td>0</td>\n",
       "      <td>0</td>\n",
       "      <td>25</td>\n",
       "      <td>0</td>\n",
       "      <td>68416</td>\n",
       "      <td>0</td>\n",
       "      <td>0</td>\n",
       "      <td>0</td>\n",
       "    </tr>\n",
       "  </tbody>\n",
       "</table>\n",
       "<p>2000 rows × 9 columns</p>\n",
       "</div>"
      ],
      "text/plain": [
       "             ID  Sex  Marital status  Age  Education  Income  Occupation  \\\n",
       "0     100000001    0               0   67          2  124670           1   \n",
       "1     100000002    1               1   22          1  150773           1   \n",
       "2     100000003    0               0   49          1   89210           0   \n",
       "3     100000004    0               0   45          1  171565           1   \n",
       "4     100000005    0               0   53          1  149031           1   \n",
       "...         ...  ...             ...  ...        ...     ...         ...   \n",
       "1995  100001996    1               0   47          1  123525           0   \n",
       "1996  100001997    1               1   27          1  117744           1   \n",
       "1997  100001998    0               0   31          0   86400           0   \n",
       "1998  100001999    1               1   24          1   97968           0   \n",
       "1999  100002000    0               0   25          0   68416           0   \n",
       "\n",
       "      Settlement size  KmeanCluters  \n",
       "0                   2             0  \n",
       "1                   2             1  \n",
       "2                   0             0  \n",
       "3                   1             1  \n",
       "4                   1             1  \n",
       "...               ...           ...  \n",
       "1995                0             0  \n",
       "1996                0             0  \n",
       "1997                0             0  \n",
       "1998                0             0  \n",
       "1999                0             0  \n",
       "\n",
       "[2000 rows x 9 columns]"
      ]
     },
     "execution_count": 17,
     "metadata": {},
     "output_type": "execute_result"
    }
   ],
   "source": [
    "# kmeans = pd.DataFrame(clust_labels)\n",
    "# df.insert((df.shape[1]),'kmeans',kmeans)\n",
    "\n",
    "df"
   ]
  },
  {
   "cell_type": "code",
   "execution_count": 19,
   "id": "8ca813a4",
   "metadata": {
    "execution": {
     "iopub.execute_input": "2022-05-29T05:45:12.928899Z",
     "iopub.status.busy": "2022-05-29T05:45:12.927627Z",
     "iopub.status.idle": "2022-05-29T05:45:12.941549Z",
     "shell.execute_reply": "2022-05-29T05:45:12.940660Z"
    },
    "papermill": {
     "duration": 0.053024,
     "end_time": "2022-05-29T05:45:12.943398",
     "exception": false,
     "start_time": "2022-05-29T05:45:12.890374",
     "status": "completed"
    },
    "tags": []
   },
   "outputs": [
    {
     "data": {
      "text/html": [
       "<div>\n",
       "<style scoped>\n",
       "    .dataframe tbody tr th:only-of-type {\n",
       "        vertical-align: middle;\n",
       "    }\n",
       "\n",
       "    .dataframe tbody tr th {\n",
       "        vertical-align: top;\n",
       "    }\n",
       "\n",
       "    .dataframe thead th {\n",
       "        text-align: right;\n",
       "    }\n",
       "</style>\n",
       "<table border=\"1\" class=\"dataframe\">\n",
       "  <thead>\n",
       "    <tr style=\"text-align: right;\">\n",
       "      <th></th>\n",
       "      <th>ID</th>\n",
       "      <th>Sex</th>\n",
       "      <th>Marital status</th>\n",
       "      <th>Age</th>\n",
       "      <th>Education</th>\n",
       "      <th>Income</th>\n",
       "      <th>Occupation</th>\n",
       "      <th>Settlement size</th>\n",
       "      <th>KmeanCluters</th>\n",
       "    </tr>\n",
       "  </thead>\n",
       "  <tbody>\n",
       "    <tr>\n",
       "      <td>0</td>\n",
       "      <td>100000001</td>\n",
       "      <td>0</td>\n",
       "      <td>0</td>\n",
       "      <td>67</td>\n",
       "      <td>2</td>\n",
       "      <td>124670</td>\n",
       "      <td>1</td>\n",
       "      <td>2</td>\n",
       "      <td>0</td>\n",
       "    </tr>\n",
       "    <tr>\n",
       "      <td>1</td>\n",
       "      <td>100000002</td>\n",
       "      <td>1</td>\n",
       "      <td>1</td>\n",
       "      <td>22</td>\n",
       "      <td>1</td>\n",
       "      <td>150773</td>\n",
       "      <td>1</td>\n",
       "      <td>2</td>\n",
       "      <td>1</td>\n",
       "    </tr>\n",
       "    <tr>\n",
       "      <td>2</td>\n",
       "      <td>100000003</td>\n",
       "      <td>0</td>\n",
       "      <td>0</td>\n",
       "      <td>49</td>\n",
       "      <td>1</td>\n",
       "      <td>89210</td>\n",
       "      <td>0</td>\n",
       "      <td>0</td>\n",
       "      <td>0</td>\n",
       "    </tr>\n",
       "    <tr>\n",
       "      <td>3</td>\n",
       "      <td>100000004</td>\n",
       "      <td>0</td>\n",
       "      <td>0</td>\n",
       "      <td>45</td>\n",
       "      <td>1</td>\n",
       "      <td>171565</td>\n",
       "      <td>1</td>\n",
       "      <td>1</td>\n",
       "      <td>1</td>\n",
       "    </tr>\n",
       "    <tr>\n",
       "      <td>4</td>\n",
       "      <td>100000005</td>\n",
       "      <td>0</td>\n",
       "      <td>0</td>\n",
       "      <td>53</td>\n",
       "      <td>1</td>\n",
       "      <td>149031</td>\n",
       "      <td>1</td>\n",
       "      <td>1</td>\n",
       "      <td>1</td>\n",
       "    </tr>\n",
       "    <tr>\n",
       "      <td>5</td>\n",
       "      <td>100000006</td>\n",
       "      <td>0</td>\n",
       "      <td>0</td>\n",
       "      <td>35</td>\n",
       "      <td>1</td>\n",
       "      <td>144848</td>\n",
       "      <td>0</td>\n",
       "      <td>0</td>\n",
       "      <td>1</td>\n",
       "    </tr>\n",
       "    <tr>\n",
       "      <td>6</td>\n",
       "      <td>100000007</td>\n",
       "      <td>0</td>\n",
       "      <td>0</td>\n",
       "      <td>53</td>\n",
       "      <td>1</td>\n",
       "      <td>156495</td>\n",
       "      <td>1</td>\n",
       "      <td>1</td>\n",
       "      <td>1</td>\n",
       "    </tr>\n",
       "    <tr>\n",
       "      <td>7</td>\n",
       "      <td>100000008</td>\n",
       "      <td>0</td>\n",
       "      <td>0</td>\n",
       "      <td>35</td>\n",
       "      <td>1</td>\n",
       "      <td>193621</td>\n",
       "      <td>2</td>\n",
       "      <td>1</td>\n",
       "      <td>1</td>\n",
       "    </tr>\n",
       "    <tr>\n",
       "      <td>8</td>\n",
       "      <td>100000009</td>\n",
       "      <td>0</td>\n",
       "      <td>1</td>\n",
       "      <td>61</td>\n",
       "      <td>2</td>\n",
       "      <td>151591</td>\n",
       "      <td>0</td>\n",
       "      <td>0</td>\n",
       "      <td>1</td>\n",
       "    </tr>\n",
       "    <tr>\n",
       "      <td>9</td>\n",
       "      <td>100000010</td>\n",
       "      <td>0</td>\n",
       "      <td>1</td>\n",
       "      <td>28</td>\n",
       "      <td>1</td>\n",
       "      <td>174646</td>\n",
       "      <td>2</td>\n",
       "      <td>0</td>\n",
       "      <td>1</td>\n",
       "    </tr>\n",
       "  </tbody>\n",
       "</table>\n",
       "</div>"
      ],
      "text/plain": [
       "          ID  Sex  Marital status  Age  Education  Income  Occupation  \\\n",
       "0  100000001    0               0   67          2  124670           1   \n",
       "1  100000002    1               1   22          1  150773           1   \n",
       "2  100000003    0               0   49          1   89210           0   \n",
       "3  100000004    0               0   45          1  171565           1   \n",
       "4  100000005    0               0   53          1  149031           1   \n",
       "5  100000006    0               0   35          1  144848           0   \n",
       "6  100000007    0               0   53          1  156495           1   \n",
       "7  100000008    0               0   35          1  193621           2   \n",
       "8  100000009    0               1   61          2  151591           0   \n",
       "9  100000010    0               1   28          1  174646           2   \n",
       "\n",
       "   Settlement size  KmeanCluters  \n",
       "0                2             0  \n",
       "1                2             1  \n",
       "2                0             0  \n",
       "3                1             1  \n",
       "4                1             1  \n",
       "5                0             1  \n",
       "6                1             1  \n",
       "7                1             1  \n",
       "8                0             1  \n",
       "9                0             1  "
      ]
     },
     "execution_count": 19,
     "metadata": {},
     "output_type": "execute_result"
    }
   ],
   "source": [
    "df.head(n=10)"
   ]
  },
  {
   "cell_type": "code",
   "execution_count": 20,
   "id": "aa9f6d0f",
   "metadata": {
    "execution": {
     "iopub.execute_input": "2022-05-29T05:45:12.965167Z",
     "iopub.status.busy": "2022-05-29T05:45:12.964152Z",
     "iopub.status.idle": "2022-05-29T05:45:12.971806Z",
     "shell.execute_reply": "2022-05-29T05:45:12.971049Z"
    },
    "papermill": {
     "duration": 0.020896,
     "end_time": "2022-05-29T05:45:12.973728",
     "exception": false,
     "start_time": "2022-05-29T05:45:12.952832",
     "status": "completed"
    },
    "tags": []
   },
   "outputs": [],
   "source": [
    "def condition(x):\n",
    "    if x == 0:\n",
    "        x = \"cluster0\"\n",
    "    elif x == 1:\n",
    "        x = \"cluster1\"\n",
    "    elif x == 2:\n",
    "        x = \"cluster2\"\n",
    "    else: \n",
    "        x = \"cluster3\"\n",
    "    \n",
    "    return x\n",
    "\n",
    "# df[\"cluster_name\"] = df[\"kmeans\"].apply(lambda x: \"cluster0\" if x == 0 else \"cluster1\")\n",
    "df[\"cluster_name\"] = df[\"KmeanCluters\"].apply(condition)"
   ]
  },
  {
   "cell_type": "code",
   "execution_count": 22,
   "id": "607bfccd",
   "metadata": {
    "execution": {
     "iopub.execute_input": "2022-05-29T05:45:12.999454Z",
     "iopub.status.busy": "2022-05-29T05:45:12.998830Z",
     "iopub.status.idle": "2022-05-29T05:45:13.012854Z",
     "shell.execute_reply": "2022-05-29T05:45:13.011839Z"
    },
    "papermill": {
     "duration": 0.031108,
     "end_time": "2022-05-29T05:45:13.014780",
     "exception": false,
     "start_time": "2022-05-29T05:45:12.983672",
     "status": "completed"
    },
    "tags": []
   },
   "outputs": [
    {
     "data": {
      "text/html": [
       "<div>\n",
       "<style scoped>\n",
       "    .dataframe tbody tr th:only-of-type {\n",
       "        vertical-align: middle;\n",
       "    }\n",
       "\n",
       "    .dataframe tbody tr th {\n",
       "        vertical-align: top;\n",
       "    }\n",
       "\n",
       "    .dataframe thead th {\n",
       "        text-align: right;\n",
       "    }\n",
       "</style>\n",
       "<table border=\"1\" class=\"dataframe\">\n",
       "  <thead>\n",
       "    <tr style=\"text-align: right;\">\n",
       "      <th></th>\n",
       "      <th>ID</th>\n",
       "      <th>Sex</th>\n",
       "      <th>Marital status</th>\n",
       "      <th>Age</th>\n",
       "      <th>Education</th>\n",
       "      <th>Income</th>\n",
       "      <th>Occupation</th>\n",
       "      <th>Settlement size</th>\n",
       "      <th>KmeanCluters</th>\n",
       "      <th>cluster_name</th>\n",
       "    </tr>\n",
       "  </thead>\n",
       "  <tbody>\n",
       "    <tr>\n",
       "      <td>0</td>\n",
       "      <td>100000001</td>\n",
       "      <td>0</td>\n",
       "      <td>0</td>\n",
       "      <td>67</td>\n",
       "      <td>2</td>\n",
       "      <td>124670</td>\n",
       "      <td>1</td>\n",
       "      <td>2</td>\n",
       "      <td>0</td>\n",
       "      <td>cluster0</td>\n",
       "    </tr>\n",
       "    <tr>\n",
       "      <td>1</td>\n",
       "      <td>100000002</td>\n",
       "      <td>1</td>\n",
       "      <td>1</td>\n",
       "      <td>22</td>\n",
       "      <td>1</td>\n",
       "      <td>150773</td>\n",
       "      <td>1</td>\n",
       "      <td>2</td>\n",
       "      <td>1</td>\n",
       "      <td>cluster1</td>\n",
       "    </tr>\n",
       "    <tr>\n",
       "      <td>2</td>\n",
       "      <td>100000003</td>\n",
       "      <td>0</td>\n",
       "      <td>0</td>\n",
       "      <td>49</td>\n",
       "      <td>1</td>\n",
       "      <td>89210</td>\n",
       "      <td>0</td>\n",
       "      <td>0</td>\n",
       "      <td>0</td>\n",
       "      <td>cluster0</td>\n",
       "    </tr>\n",
       "    <tr>\n",
       "      <td>3</td>\n",
       "      <td>100000004</td>\n",
       "      <td>0</td>\n",
       "      <td>0</td>\n",
       "      <td>45</td>\n",
       "      <td>1</td>\n",
       "      <td>171565</td>\n",
       "      <td>1</td>\n",
       "      <td>1</td>\n",
       "      <td>1</td>\n",
       "      <td>cluster1</td>\n",
       "    </tr>\n",
       "    <tr>\n",
       "      <td>4</td>\n",
       "      <td>100000005</td>\n",
       "      <td>0</td>\n",
       "      <td>0</td>\n",
       "      <td>53</td>\n",
       "      <td>1</td>\n",
       "      <td>149031</td>\n",
       "      <td>1</td>\n",
       "      <td>1</td>\n",
       "      <td>1</td>\n",
       "      <td>cluster1</td>\n",
       "    </tr>\n",
       "    <tr>\n",
       "      <td>5</td>\n",
       "      <td>100000006</td>\n",
       "      <td>0</td>\n",
       "      <td>0</td>\n",
       "      <td>35</td>\n",
       "      <td>1</td>\n",
       "      <td>144848</td>\n",
       "      <td>0</td>\n",
       "      <td>0</td>\n",
       "      <td>1</td>\n",
       "      <td>cluster1</td>\n",
       "    </tr>\n",
       "    <tr>\n",
       "      <td>6</td>\n",
       "      <td>100000007</td>\n",
       "      <td>0</td>\n",
       "      <td>0</td>\n",
       "      <td>53</td>\n",
       "      <td>1</td>\n",
       "      <td>156495</td>\n",
       "      <td>1</td>\n",
       "      <td>1</td>\n",
       "      <td>1</td>\n",
       "      <td>cluster1</td>\n",
       "    </tr>\n",
       "    <tr>\n",
       "      <td>7</td>\n",
       "      <td>100000008</td>\n",
       "      <td>0</td>\n",
       "      <td>0</td>\n",
       "      <td>35</td>\n",
       "      <td>1</td>\n",
       "      <td>193621</td>\n",
       "      <td>2</td>\n",
       "      <td>1</td>\n",
       "      <td>1</td>\n",
       "      <td>cluster1</td>\n",
       "    </tr>\n",
       "    <tr>\n",
       "      <td>8</td>\n",
       "      <td>100000009</td>\n",
       "      <td>0</td>\n",
       "      <td>1</td>\n",
       "      <td>61</td>\n",
       "      <td>2</td>\n",
       "      <td>151591</td>\n",
       "      <td>0</td>\n",
       "      <td>0</td>\n",
       "      <td>1</td>\n",
       "      <td>cluster1</td>\n",
       "    </tr>\n",
       "    <tr>\n",
       "      <td>9</td>\n",
       "      <td>100000010</td>\n",
       "      <td>0</td>\n",
       "      <td>1</td>\n",
       "      <td>28</td>\n",
       "      <td>1</td>\n",
       "      <td>174646</td>\n",
       "      <td>2</td>\n",
       "      <td>0</td>\n",
       "      <td>1</td>\n",
       "      <td>cluster1</td>\n",
       "    </tr>\n",
       "    <tr>\n",
       "      <td>10</td>\n",
       "      <td>100000011</td>\n",
       "      <td>1</td>\n",
       "      <td>1</td>\n",
       "      <td>25</td>\n",
       "      <td>1</td>\n",
       "      <td>108469</td>\n",
       "      <td>1</td>\n",
       "      <td>0</td>\n",
       "      <td>0</td>\n",
       "      <td>cluster0</td>\n",
       "    </tr>\n",
       "    <tr>\n",
       "      <td>11</td>\n",
       "      <td>100000012</td>\n",
       "      <td>1</td>\n",
       "      <td>1</td>\n",
       "      <td>24</td>\n",
       "      <td>1</td>\n",
       "      <td>127596</td>\n",
       "      <td>1</td>\n",
       "      <td>0</td>\n",
       "      <td>0</td>\n",
       "      <td>cluster0</td>\n",
       "    </tr>\n",
       "    <tr>\n",
       "      <td>12</td>\n",
       "      <td>100000013</td>\n",
       "      <td>1</td>\n",
       "      <td>1</td>\n",
       "      <td>22</td>\n",
       "      <td>1</td>\n",
       "      <td>108687</td>\n",
       "      <td>1</td>\n",
       "      <td>2</td>\n",
       "      <td>0</td>\n",
       "      <td>cluster0</td>\n",
       "    </tr>\n",
       "    <tr>\n",
       "      <td>13</td>\n",
       "      <td>100000014</td>\n",
       "      <td>0</td>\n",
       "      <td>0</td>\n",
       "      <td>60</td>\n",
       "      <td>2</td>\n",
       "      <td>89374</td>\n",
       "      <td>0</td>\n",
       "      <td>0</td>\n",
       "      <td>0</td>\n",
       "      <td>cluster0</td>\n",
       "    </tr>\n",
       "    <tr>\n",
       "      <td>14</td>\n",
       "      <td>100000015</td>\n",
       "      <td>1</td>\n",
       "      <td>1</td>\n",
       "      <td>28</td>\n",
       "      <td>1</td>\n",
       "      <td>102899</td>\n",
       "      <td>1</td>\n",
       "      <td>1</td>\n",
       "      <td>0</td>\n",
       "      <td>cluster0</td>\n",
       "    </tr>\n",
       "  </tbody>\n",
       "</table>\n",
       "</div>"
      ],
      "text/plain": [
       "           ID  Sex  Marital status  Age  Education  Income  Occupation  \\\n",
       "0   100000001    0               0   67          2  124670           1   \n",
       "1   100000002    1               1   22          1  150773           1   \n",
       "2   100000003    0               0   49          1   89210           0   \n",
       "3   100000004    0               0   45          1  171565           1   \n",
       "4   100000005    0               0   53          1  149031           1   \n",
       "5   100000006    0               0   35          1  144848           0   \n",
       "6   100000007    0               0   53          1  156495           1   \n",
       "7   100000008    0               0   35          1  193621           2   \n",
       "8   100000009    0               1   61          2  151591           0   \n",
       "9   100000010    0               1   28          1  174646           2   \n",
       "10  100000011    1               1   25          1  108469           1   \n",
       "11  100000012    1               1   24          1  127596           1   \n",
       "12  100000013    1               1   22          1  108687           1   \n",
       "13  100000014    0               0   60          2   89374           0   \n",
       "14  100000015    1               1   28          1  102899           1   \n",
       "\n",
       "    Settlement size  KmeanCluters cluster_name  \n",
       "0                 2             0     cluster0  \n",
       "1                 2             1     cluster1  \n",
       "2                 0             0     cluster0  \n",
       "3                 1             1     cluster1  \n",
       "4                 1             1     cluster1  \n",
       "5                 0             1     cluster1  \n",
       "6                 1             1     cluster1  \n",
       "7                 1             1     cluster1  \n",
       "8                 0             1     cluster1  \n",
       "9                 0             1     cluster1  \n",
       "10                0             0     cluster0  \n",
       "11                0             0     cluster0  \n",
       "12                2             0     cluster0  \n",
       "13                0             0     cluster0  \n",
       "14                1             0     cluster0  "
      ]
     },
     "execution_count": 22,
     "metadata": {},
     "output_type": "execute_result"
    }
   ],
   "source": [
    "df.head(15)"
   ]
  },
  {
   "cell_type": "code",
   "execution_count": 23,
   "id": "fa1f13b0",
   "metadata": {
    "execution": {
     "iopub.execute_input": "2022-05-29T05:45:13.035793Z",
     "iopub.status.busy": "2022-05-29T05:45:13.035390Z",
     "iopub.status.idle": "2022-05-29T05:45:13.054582Z",
     "shell.execute_reply": "2022-05-29T05:45:13.053587Z"
    },
    "papermill": {
     "duration": 0.031713,
     "end_time": "2022-05-29T05:45:13.056427",
     "exception": false,
     "start_time": "2022-05-29T05:45:13.024714",
     "status": "completed"
    },
    "tags": []
   },
   "outputs": [
    {
     "data": {
      "text/html": [
       "<div>\n",
       "<style scoped>\n",
       "    .dataframe tbody tr th:only-of-type {\n",
       "        vertical-align: middle;\n",
       "    }\n",
       "\n",
       "    .dataframe tbody tr th {\n",
       "        vertical-align: top;\n",
       "    }\n",
       "\n",
       "    .dataframe thead th {\n",
       "        text-align: right;\n",
       "    }\n",
       "</style>\n",
       "<table border=\"1\" class=\"dataframe\">\n",
       "  <thead>\n",
       "    <tr style=\"text-align: right;\">\n",
       "      <th></th>\n",
       "      <th>ID</th>\n",
       "      <th>Sex</th>\n",
       "      <th>Marital status</th>\n",
       "      <th>Age</th>\n",
       "      <th>Education</th>\n",
       "      <th>Income</th>\n",
       "      <th>Occupation</th>\n",
       "      <th>Settlement size</th>\n",
       "      <th>KmeanCluters</th>\n",
       "      <th>cluster_name</th>\n",
       "    </tr>\n",
       "  </thead>\n",
       "  <tbody>\n",
       "    <tr>\n",
       "      <td>0</td>\n",
       "      <td>100000001</td>\n",
       "      <td>0</td>\n",
       "      <td>0</td>\n",
       "      <td>67</td>\n",
       "      <td>2</td>\n",
       "      <td>124670</td>\n",
       "      <td>1</td>\n",
       "      <td>2</td>\n",
       "      <td>0</td>\n",
       "      <td>cluster0</td>\n",
       "    </tr>\n",
       "    <tr>\n",
       "      <td>2</td>\n",
       "      <td>100000003</td>\n",
       "      <td>0</td>\n",
       "      <td>0</td>\n",
       "      <td>49</td>\n",
       "      <td>1</td>\n",
       "      <td>89210</td>\n",
       "      <td>0</td>\n",
       "      <td>0</td>\n",
       "      <td>0</td>\n",
       "      <td>cluster0</td>\n",
       "    </tr>\n",
       "    <tr>\n",
       "      <td>10</td>\n",
       "      <td>100000011</td>\n",
       "      <td>1</td>\n",
       "      <td>1</td>\n",
       "      <td>25</td>\n",
       "      <td>1</td>\n",
       "      <td>108469</td>\n",
       "      <td>1</td>\n",
       "      <td>0</td>\n",
       "      <td>0</td>\n",
       "      <td>cluster0</td>\n",
       "    </tr>\n",
       "    <tr>\n",
       "      <td>11</td>\n",
       "      <td>100000012</td>\n",
       "      <td>1</td>\n",
       "      <td>1</td>\n",
       "      <td>24</td>\n",
       "      <td>1</td>\n",
       "      <td>127596</td>\n",
       "      <td>1</td>\n",
       "      <td>0</td>\n",
       "      <td>0</td>\n",
       "      <td>cluster0</td>\n",
       "    </tr>\n",
       "    <tr>\n",
       "      <td>12</td>\n",
       "      <td>100000013</td>\n",
       "      <td>1</td>\n",
       "      <td>1</td>\n",
       "      <td>22</td>\n",
       "      <td>1</td>\n",
       "      <td>108687</td>\n",
       "      <td>1</td>\n",
       "      <td>2</td>\n",
       "      <td>0</td>\n",
       "      <td>cluster0</td>\n",
       "    </tr>\n",
       "    <tr>\n",
       "      <td>...</td>\n",
       "      <td>...</td>\n",
       "      <td>...</td>\n",
       "      <td>...</td>\n",
       "      <td>...</td>\n",
       "      <td>...</td>\n",
       "      <td>...</td>\n",
       "      <td>...</td>\n",
       "      <td>...</td>\n",
       "      <td>...</td>\n",
       "      <td>...</td>\n",
       "    </tr>\n",
       "    <tr>\n",
       "      <td>1995</td>\n",
       "      <td>100001996</td>\n",
       "      <td>1</td>\n",
       "      <td>0</td>\n",
       "      <td>47</td>\n",
       "      <td>1</td>\n",
       "      <td>123525</td>\n",
       "      <td>0</td>\n",
       "      <td>0</td>\n",
       "      <td>0</td>\n",
       "      <td>cluster0</td>\n",
       "    </tr>\n",
       "    <tr>\n",
       "      <td>1996</td>\n",
       "      <td>100001997</td>\n",
       "      <td>1</td>\n",
       "      <td>1</td>\n",
       "      <td>27</td>\n",
       "      <td>1</td>\n",
       "      <td>117744</td>\n",
       "      <td>1</td>\n",
       "      <td>0</td>\n",
       "      <td>0</td>\n",
       "      <td>cluster0</td>\n",
       "    </tr>\n",
       "    <tr>\n",
       "      <td>1997</td>\n",
       "      <td>100001998</td>\n",
       "      <td>0</td>\n",
       "      <td>0</td>\n",
       "      <td>31</td>\n",
       "      <td>0</td>\n",
       "      <td>86400</td>\n",
       "      <td>0</td>\n",
       "      <td>0</td>\n",
       "      <td>0</td>\n",
       "      <td>cluster0</td>\n",
       "    </tr>\n",
       "    <tr>\n",
       "      <td>1998</td>\n",
       "      <td>100001999</td>\n",
       "      <td>1</td>\n",
       "      <td>1</td>\n",
       "      <td>24</td>\n",
       "      <td>1</td>\n",
       "      <td>97968</td>\n",
       "      <td>0</td>\n",
       "      <td>0</td>\n",
       "      <td>0</td>\n",
       "      <td>cluster0</td>\n",
       "    </tr>\n",
       "    <tr>\n",
       "      <td>1999</td>\n",
       "      <td>100002000</td>\n",
       "      <td>0</td>\n",
       "      <td>0</td>\n",
       "      <td>25</td>\n",
       "      <td>0</td>\n",
       "      <td>68416</td>\n",
       "      <td>0</td>\n",
       "      <td>0</td>\n",
       "      <td>0</td>\n",
       "      <td>cluster0</td>\n",
       "    </tr>\n",
       "  </tbody>\n",
       "</table>\n",
       "<p>1487 rows × 10 columns</p>\n",
       "</div>"
      ],
      "text/plain": [
       "             ID  Sex  Marital status  Age  Education  Income  Occupation  \\\n",
       "0     100000001    0               0   67          2  124670           1   \n",
       "2     100000003    0               0   49          1   89210           0   \n",
       "10    100000011    1               1   25          1  108469           1   \n",
       "11    100000012    1               1   24          1  127596           1   \n",
       "12    100000013    1               1   22          1  108687           1   \n",
       "...         ...  ...             ...  ...        ...     ...         ...   \n",
       "1995  100001996    1               0   47          1  123525           0   \n",
       "1996  100001997    1               1   27          1  117744           1   \n",
       "1997  100001998    0               0   31          0   86400           0   \n",
       "1998  100001999    1               1   24          1   97968           0   \n",
       "1999  100002000    0               0   25          0   68416           0   \n",
       "\n",
       "      Settlement size  KmeanCluters cluster_name  \n",
       "0                   2             0     cluster0  \n",
       "2                   0             0     cluster0  \n",
       "10                  0             0     cluster0  \n",
       "11                  0             0     cluster0  \n",
       "12                  2             0     cluster0  \n",
       "...               ...           ...          ...  \n",
       "1995                0             0     cluster0  \n",
       "1996                0             0     cluster0  \n",
       "1997                0             0     cluster0  \n",
       "1998                0             0     cluster0  \n",
       "1999                0             0     cluster0  \n",
       "\n",
       "[1487 rows x 10 columns]"
      ]
     },
     "execution_count": 23,
     "metadata": {},
     "output_type": "execute_result"
    }
   ],
   "source": [
    "df[df['cluster_name'] == 'cluster0']"
   ]
  },
  {
   "cell_type": "code",
   "execution_count": 24,
   "id": "c846ab7b",
   "metadata": {
    "execution": {
     "iopub.execute_input": "2022-05-29T05:45:13.078830Z",
     "iopub.status.busy": "2022-05-29T05:45:13.077931Z",
     "iopub.status.idle": "2022-05-29T05:45:13.094095Z",
     "shell.execute_reply": "2022-05-29T05:45:13.093167Z"
    },
    "papermill": {
     "duration": 0.029291,
     "end_time": "2022-05-29T05:45:13.095980",
     "exception": false,
     "start_time": "2022-05-29T05:45:13.066689",
     "status": "completed"
    },
    "scrolled": true,
    "tags": []
   },
   "outputs": [
    {
     "data": {
      "text/html": [
       "<div>\n",
       "<style scoped>\n",
       "    .dataframe tbody tr th:only-of-type {\n",
       "        vertical-align: middle;\n",
       "    }\n",
       "\n",
       "    .dataframe tbody tr th {\n",
       "        vertical-align: top;\n",
       "    }\n",
       "\n",
       "    .dataframe thead th {\n",
       "        text-align: right;\n",
       "    }\n",
       "</style>\n",
       "<table border=\"1\" class=\"dataframe\">\n",
       "  <thead>\n",
       "    <tr style=\"text-align: right;\">\n",
       "      <th></th>\n",
       "      <th>ID</th>\n",
       "      <th>Sex</th>\n",
       "      <th>Marital status</th>\n",
       "      <th>Age</th>\n",
       "      <th>Education</th>\n",
       "      <th>Income</th>\n",
       "      <th>Occupation</th>\n",
       "      <th>Settlement size</th>\n",
       "      <th>KmeanCluters</th>\n",
       "      <th>cluster_name</th>\n",
       "    </tr>\n",
       "  </thead>\n",
       "  <tbody>\n",
       "    <tr>\n",
       "      <td>1</td>\n",
       "      <td>100000002</td>\n",
       "      <td>1</td>\n",
       "      <td>1</td>\n",
       "      <td>22</td>\n",
       "      <td>1</td>\n",
       "      <td>150773</td>\n",
       "      <td>1</td>\n",
       "      <td>2</td>\n",
       "      <td>1</td>\n",
       "      <td>cluster1</td>\n",
       "    </tr>\n",
       "    <tr>\n",
       "      <td>3</td>\n",
       "      <td>100000004</td>\n",
       "      <td>0</td>\n",
       "      <td>0</td>\n",
       "      <td>45</td>\n",
       "      <td>1</td>\n",
       "      <td>171565</td>\n",
       "      <td>1</td>\n",
       "      <td>1</td>\n",
       "      <td>1</td>\n",
       "      <td>cluster1</td>\n",
       "    </tr>\n",
       "    <tr>\n",
       "      <td>4</td>\n",
       "      <td>100000005</td>\n",
       "      <td>0</td>\n",
       "      <td>0</td>\n",
       "      <td>53</td>\n",
       "      <td>1</td>\n",
       "      <td>149031</td>\n",
       "      <td>1</td>\n",
       "      <td>1</td>\n",
       "      <td>1</td>\n",
       "      <td>cluster1</td>\n",
       "    </tr>\n",
       "    <tr>\n",
       "      <td>5</td>\n",
       "      <td>100000006</td>\n",
       "      <td>0</td>\n",
       "      <td>0</td>\n",
       "      <td>35</td>\n",
       "      <td>1</td>\n",
       "      <td>144848</td>\n",
       "      <td>0</td>\n",
       "      <td>0</td>\n",
       "      <td>1</td>\n",
       "      <td>cluster1</td>\n",
       "    </tr>\n",
       "    <tr>\n",
       "      <td>6</td>\n",
       "      <td>100000007</td>\n",
       "      <td>0</td>\n",
       "      <td>0</td>\n",
       "      <td>53</td>\n",
       "      <td>1</td>\n",
       "      <td>156495</td>\n",
       "      <td>1</td>\n",
       "      <td>1</td>\n",
       "      <td>1</td>\n",
       "      <td>cluster1</td>\n",
       "    </tr>\n",
       "    <tr>\n",
       "      <td>...</td>\n",
       "      <td>...</td>\n",
       "      <td>...</td>\n",
       "      <td>...</td>\n",
       "      <td>...</td>\n",
       "      <td>...</td>\n",
       "      <td>...</td>\n",
       "      <td>...</td>\n",
       "      <td>...</td>\n",
       "      <td>...</td>\n",
       "      <td>...</td>\n",
       "    </tr>\n",
       "    <tr>\n",
       "      <td>1550</td>\n",
       "      <td>100001551</td>\n",
       "      <td>1</td>\n",
       "      <td>1</td>\n",
       "      <td>37</td>\n",
       "      <td>1</td>\n",
       "      <td>145140</td>\n",
       "      <td>1</td>\n",
       "      <td>1</td>\n",
       "      <td>1</td>\n",
       "      <td>cluster1</td>\n",
       "    </tr>\n",
       "    <tr>\n",
       "      <td>1583</td>\n",
       "      <td>100001584</td>\n",
       "      <td>1</td>\n",
       "      <td>1</td>\n",
       "      <td>31</td>\n",
       "      <td>1</td>\n",
       "      <td>138307</td>\n",
       "      <td>1</td>\n",
       "      <td>1</td>\n",
       "      <td>1</td>\n",
       "      <td>cluster1</td>\n",
       "    </tr>\n",
       "    <tr>\n",
       "      <td>1592</td>\n",
       "      <td>100001593</td>\n",
       "      <td>1</td>\n",
       "      <td>1</td>\n",
       "      <td>44</td>\n",
       "      <td>2</td>\n",
       "      <td>143343</td>\n",
       "      <td>1</td>\n",
       "      <td>1</td>\n",
       "      <td>1</td>\n",
       "      <td>cluster1</td>\n",
       "    </tr>\n",
       "    <tr>\n",
       "      <td>1594</td>\n",
       "      <td>100001595</td>\n",
       "      <td>1</td>\n",
       "      <td>0</td>\n",
       "      <td>33</td>\n",
       "      <td>1</td>\n",
       "      <td>138525</td>\n",
       "      <td>1</td>\n",
       "      <td>1</td>\n",
       "      <td>1</td>\n",
       "      <td>cluster1</td>\n",
       "    </tr>\n",
       "    <tr>\n",
       "      <td>1598</td>\n",
       "      <td>100001599</td>\n",
       "      <td>1</td>\n",
       "      <td>1</td>\n",
       "      <td>30</td>\n",
       "      <td>1</td>\n",
       "      <td>140673</td>\n",
       "      <td>1</td>\n",
       "      <td>1</td>\n",
       "      <td>1</td>\n",
       "      <td>cluster1</td>\n",
       "    </tr>\n",
       "  </tbody>\n",
       "</table>\n",
       "<p>513 rows × 10 columns</p>\n",
       "</div>"
      ],
      "text/plain": [
       "             ID  Sex  Marital status  Age  Education  Income  Occupation  \\\n",
       "1     100000002    1               1   22          1  150773           1   \n",
       "3     100000004    0               0   45          1  171565           1   \n",
       "4     100000005    0               0   53          1  149031           1   \n",
       "5     100000006    0               0   35          1  144848           0   \n",
       "6     100000007    0               0   53          1  156495           1   \n",
       "...         ...  ...             ...  ...        ...     ...         ...   \n",
       "1550  100001551    1               1   37          1  145140           1   \n",
       "1583  100001584    1               1   31          1  138307           1   \n",
       "1592  100001593    1               1   44          2  143343           1   \n",
       "1594  100001595    1               0   33          1  138525           1   \n",
       "1598  100001599    1               1   30          1  140673           1   \n",
       "\n",
       "      Settlement size  KmeanCluters cluster_name  \n",
       "1                   2             1     cluster1  \n",
       "3                   1             1     cluster1  \n",
       "4                   1             1     cluster1  \n",
       "5                   0             1     cluster1  \n",
       "6                   1             1     cluster1  \n",
       "...               ...           ...          ...  \n",
       "1550                1             1     cluster1  \n",
       "1583                1             1     cluster1  \n",
       "1592                1             1     cluster1  \n",
       "1594                1             1     cluster1  \n",
       "1598                1             1     cluster1  \n",
       "\n",
       "[513 rows x 10 columns]"
      ]
     },
     "execution_count": 24,
     "metadata": {},
     "output_type": "execute_result"
    }
   ],
   "source": [
    "df[df['cluster_name'] == 'cluster1']\n"
   ]
  },
  {
   "cell_type": "markdown",
   "id": "caf19dd7",
   "metadata": {
    "papermill": {
     "duration": 0.009832,
     "end_time": "2022-05-29T05:45:13.116363",
     "exception": false,
     "start_time": "2022-05-29T05:45:13.106531",
     "status": "completed"
    },
    "tags": []
   },
   "source": [
    "# 7. Plotting Clusters"
   ]
  },
  {
   "cell_type": "code",
   "execution_count": 25,
   "id": "595d7628",
   "metadata": {
    "execution": {
     "iopub.execute_input": "2022-05-29T05:45:17.800559Z",
     "iopub.status.busy": "2022-05-29T05:45:17.799753Z",
     "iopub.status.idle": "2022-05-29T05:45:18.852081Z",
     "shell.execute_reply": "2022-05-29T05:45:18.851045Z"
    },
    "papermill": {
     "duration": 1.070198,
     "end_time": "2022-05-29T05:45:18.854342",
     "exception": false,
     "start_time": "2022-05-29T05:45:17.784144",
     "status": "completed"
    },
    "tags": []
   },
   "outputs": [
    {
     "name": "stderr",
     "output_type": "stream",
     "text": [
      "C:\\Users\\Nasir Hussain\\Anaconda3\\lib\\site-packages\\pandas\\plotting\\_matplotlib\\tools.py:307: MatplotlibDeprecationWarning: \n",
      "The rowNum attribute was deprecated in Matplotlib 3.2 and will be removed two minor releases later. Use ax.get_subplotspec().rowspan.start instead.\n",
      "  layout[ax.rowNum, ax.colNum] = ax.get_visible()\n",
      "C:\\Users\\Nasir Hussain\\Anaconda3\\lib\\site-packages\\pandas\\plotting\\_matplotlib\\tools.py:307: MatplotlibDeprecationWarning: \n",
      "The colNum attribute was deprecated in Matplotlib 3.2 and will be removed two minor releases later. Use ax.get_subplotspec().colspan.start instead.\n",
      "  layout[ax.rowNum, ax.colNum] = ax.get_visible()\n",
      "C:\\Users\\Nasir Hussain\\Anaconda3\\lib\\site-packages\\pandas\\plotting\\_matplotlib\\tools.py:313: MatplotlibDeprecationWarning: \n",
      "The rowNum attribute was deprecated in Matplotlib 3.2 and will be removed two minor releases later. Use ax.get_subplotspec().rowspan.start instead.\n",
      "  if not layout[ax.rowNum + 1, ax.colNum]:\n",
      "C:\\Users\\Nasir Hussain\\Anaconda3\\lib\\site-packages\\pandas\\plotting\\_matplotlib\\tools.py:313: MatplotlibDeprecationWarning: \n",
      "The colNum attribute was deprecated in Matplotlib 3.2 and will be removed two minor releases later. Use ax.get_subplotspec().colspan.start instead.\n",
      "  if not layout[ax.rowNum + 1, ax.colNum]:\n"
     ]
    },
    {
     "data": {
      "image/png": "[encoded data removed]",
      "text/plain": [
       "<Figure size 1080x720 with 9 Axes>"
      ]
     },
     "metadata": {
      "needs_background": "light"
     },
     "output_type": "display_data"
    }
   ],
   "source": [
    "df[df['cluster_name'] == 'cluster0'].hist(figsize = (15,10))\n",
    "plt.show()"
   ]
  },
  {
   "cell_type": "markdown",
   "id": "a5ad6230",
   "metadata": {
    "papermill": {
     "duration": 0.014418,
     "end_time": "2022-05-29T05:45:18.883392",
     "exception": false,
     "start_time": "2022-05-29T05:45:18.868974",
     "status": "completed"
    },
    "tags": []
   },
   "source": [
    "**Cluster0**\n",
    "1. Almost same number of male and female cutomers\n",
    "2. both married and unmarried customers\n",
    "3. Age group - 22 to 30 years\n",
    "4. Income = 100000 to 120000"
   ]
  },
  {
   "cell_type": "code",
   "execution_count": 80,
   "id": "442053ff",
   "metadata": {
    "execution": {
     "iopub.execute_input": "2022-05-29T05:45:18.913007Z",
     "iopub.status.busy": "2022-05-29T05:45:18.912620Z",
     "iopub.status.idle": "2022-05-29T05:45:19.950506Z",
     "shell.execute_reply": "2022-05-29T05:45:19.949635Z"
    },
    "papermill": {
     "duration": 1.055188,
     "end_time": "2022-05-29T05:45:19.952611",
     "exception": false,
     "start_time": "2022-05-29T05:45:18.897423",
     "status": "completed"
    },
    "tags": []
   },
   "outputs": [
    {
     "data": {
      "image/png": "[encoded data removed]",
      "text/plain": [
       "<Figure size 1080x720 with 9 Axes>"
      ]
     },
     "metadata": {
      "needs_background": "light"
     },
     "output_type": "display_data"
    }
   ],
   "source": [
    "df[df['cluster_name'] == 'cluster1'].hist(figsize = (15,10))\n",
    "plt.show()"
   ]
  },
  {
   "cell_type": "markdown",
   "id": "584797cf",
   "metadata": {
    "papermill": {
     "duration": 0.014414,
     "end_time": "2022-05-29T05:45:19.981687",
     "exception": false,
     "start_time": "2022-05-29T05:45:19.967273",
     "status": "completed"
    },
    "tags": []
   },
   "source": [
    "**Cluster1**\n",
    "1. mostly female customers\n",
    "2. mostly unmarried customers\n",
    "3. Age group - 25 to 35 years\n",
    "4. Income - 120000 to 160000"
   ]
  },
  {
   "cell_type": "markdown",
   "id": "6c3887a0",
   "metadata": {
    "papermill": {
     "duration": 0.014387,
     "end_time": "2022-05-29T05:45:20.010741",
     "exception": false,
     "start_time": "2022-05-29T05:45:19.996354",
     "status": "completed"
    },
    "tags": []
   },
   "source": [
    "# 8.Accuracy score of algorithm"
   ]
  },
  {
   "cell_type": "code",
   "execution_count": 81,
   "id": "fcb3612d",
   "metadata": {
    "execution": {
     "iopub.execute_input": "2022-05-29T05:45:20.041956Z",
     "iopub.status.busy": "2022-05-29T05:45:20.041136Z",
     "iopub.status.idle": "2022-05-29T05:45:20.047514Z",
     "shell.execute_reply": "2022-05-29T05:45:20.046708Z"
    },
    "papermill": {
     "duration": 0.024635,
     "end_time": "2022-05-29T05:45:20.050026",
     "exception": false,
     "start_time": "2022-05-29T05:45:20.025391",
     "status": "completed"
    },
    "tags": []
   },
   "outputs": [
    {
     "name": "stdout",
     "output_type": "stream",
     "text": [
      "Accuracy score for kmeans algorithm is 1.0\n"
     ]
    }
   ],
   "source": [
    "from sklearn.metrics import accuracy_score\n",
    "print(\"Accuracy score for kmeans algorithm is\",accuracy_score(clust_labels,df['KmeanCluters']))"
   ]
  },
  {
   "cell_type": "markdown",
   "id": "be4829b4",
   "metadata": {
    "papermill": {
     "duration": 0.014457,
     "end_time": "2022-05-29T05:45:20.080280",
     "exception": false,
     "start_time": "2022-05-29T05:45:20.065823",
     "status": "completed"
    },
    "tags": []
   },
   "source": [
    "# Conclusion:\n",
    "1. Kmeans clustering is very much efficient to clustering customers because accuracy score is 1.0\n"
   ]
  },
  {
   "cell_type": "code",
   "execution_count": null,
   "id": "fcbaa16e",
   "metadata": {},
   "outputs": [],
   "source": [
    "np.arange(16).reshape(4,4)"
   ]
  },
  {
   "cell_type": "code",
   "execution_count": null,
   "id": "bc54f244",
   "metadata": {},
   "outputs": [],
   "source": []
  }
 ],
 "metadata": {
  "kernelspec": {
   "display_name": "Python 3 (ipykernel)",
   "language": "python",
   "name": "python3"
  },
  "language_info": {
   "codemirror_mode": {
    "name": "ipython",
    "version": 3
   },
   "file_extension": ".py",
   "mimetype": "text/x-python",
   "name": "python",
   "nbconvert_exporter": "python",
   "pygments_lexer": "ipython3",
   "version": "3.11.5"
  },
  "papermill": {
   "default_parameters": {},
   "duration": 21.484488,
   "end_time": "2022-05-29T05:45:20.917212",
   "environment_variables": {},
   "exception": null,
   "input_path": "__notebook__.ipynb",
   "output_path": "__notebook__.ipynb",
   "parameters": {},
   "start_time": "2022-05-29T05:44:59.432724",
   "version": "2.3.4"
  }
 },
 "nbformat": 4,
 "nbformat_minor": 5
}
